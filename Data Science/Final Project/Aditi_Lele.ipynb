{
 "cells": [
  {
   "cell_type": "markdown",
   "metadata": {
    "collapsed": false
   },
   "source": [
    "# Predicting On given conditions, whether major accidents or not"
   ]
  },
  {
   "cell_type": "markdown",
   "metadata": {},
   "source": [
    "### Aditi Lele"
   ]
  },
  {
   "cell_type": "markdown",
   "metadata": {},
   "source": [
    "<b>Project description:</b><br>\n",
    "For all the conditions given the model will predict the chances of a major accident occuring. Here major accident is defined as involvement of more than one vehicle. The motivation behind this is the fact that Accidents in the Country are generally on large scale. This model could help predict when these occure."
   ]
  },
  {
   "cell_type": "code",
   "execution_count": 486,
   "metadata": {
    "collapsed": false
   },
   "outputs": [],
   "source": [
    "from sklearn import cross_validation\n",
    "from sklearn.linear_model import LogisticRegression\n",
    "from sklearn.ensemble import GradientBoostingClassifier\n",
    "from sklearn.ensemble import RandomForestClassifier\n",
    "from sklearn.ensemble import AdaBoostClassifier\n",
    "from sklearn.ensemble import BaggingClassifier\n",
    "from sklearn.ensemble import ExtraTreesClassifier\n",
    "from sklearn.ensemble import RandomTreesEmbedding\n",
    "from sklearn.ensemble import VotingClassifier\n",
    "from sklearn.neural_network import MLPClassifier\n",
    "from sklearn.neural_network import BernoulliRBM\n",
    "\n",
    "from sklearn.cross_validation import train_test_split\n",
    "from sklearn.grid_search import GridSearchCV\n",
    "import numpy as np\n",
    "# The error metric. In this case, we will use c-stat (aka ROC/AUC)\n",
    "from sklearn.metrics import roc_auc_score\n",
    "\n",
    "from sklearn.metrics import roc_auc_score\n",
    "from sklearn.metrics import classification_report\n",
    "from sklearn.metrics import confusion_matrix\n",
    "from sklearn.metrics import accuracy_score\n",
    "from sklearn.metrics import roc_curve\n",
    "import matplotlib.pyplot as plt\n",
    "%matplotlib inline\n",
    "# An efficient data structure. \n",
    "import pandas as pd"
   ]
  },
  {
   "cell_type": "markdown",
   "metadata": {},
   "source": [
    "<b>Loading the data</b>"
   ]
  },
  {
   "cell_type": "code",
   "execution_count": 487,
   "metadata": {
    "collapsed": false
   },
   "outputs": [
    {
     "name": "stderr",
     "output_type": "stream",
     "text": [
      "C:\\Users\\Aditi Lele\\Anaconda3\\lib\\site-packages\\IPython\\core\\interactiveshell.py:2717: DtypeWarning: Columns (20,55,56,64,65,66,67) have mixed types. Specify dtype option on import or set low_memory=False.\n",
      "  interactivity=interactivity, compiler=compiler, result=result)\n"
     ]
    }
   ],
   "source": [
    "df = pd.read_csv(\"train.csv\")"
   ]
  },
  {
   "cell_type": "code",
   "execution_count": 488,
   "metadata": {
    "collapsed": false
   },
   "outputs": [
    {
     "name": "stdout",
     "output_type": "stream",
     "text": [
      "Rows : 292019 , Columns : 81\n"
     ]
    }
   ],
   "source": [
    "print(\"Rows : %d , Columns : %d\"%(np.shape(df)[0],np.shape(df)[1]))"
   ]
  },
  {
   "cell_type": "code",
   "execution_count": 489,
   "metadata": {
    "collapsed": false
   },
   "outputs": [
    {
     "data": {
      "text/plain": [
       "Index(['OBJECTID', 'geodb_oid', 'ROUTE', 'Case_Id', 'YEAR', 'MONTH', 'DAY',\n",
       "       'HOUR', 'DAY_O_WEEK', 'NUM_VEH', 'INJURIES', 'FATALITIES', 'COLL_TYPE',\n",
       "       'WEATHER', 'LIGHTING', 'SURF_COND', 'RD_DEFECT', 'RD_FEATURE',\n",
       "       'TRAF_CNTRL', 'COUNTY', 'TOWNSHIP', 'TS_ROUTE', 'MILE', 'CITY',\n",
       "       'DRIVER_1', 'VEH1_TYPE', 'VEH1_SPECL', 'VEH1_DIR', 'VEH1_MANUV',\n",
       "       'VEH1_EVNT1', 'VEH1_LOC1', 'VEH1_EVNT2', 'VEH1_LOC2', 'VEH1_EVNT3',\n",
       "       'VEH1_LOC3', 'DRIVER_2', 'VEH2_TYPE', 'VEH2_SPECL', 'VEH2_DIR',\n",
       "       'VEH2_MANUV', 'VEH2_EVNT1', 'VEH2_LOC1', 'VEH2_EVNT2', 'VEH2_LOC2',\n",
       "       'VEH2_EVNT3', 'VEH2_LOC3', 'DRIVER_3', 'VEH3_TYPE', 'VEH3_SPECL',\n",
       "       'VEH3_DIR', 'VEH3_MANUV', 'VEH3_EVNT1', 'VEH3_LOC1', 'VEH3_EVNT2',\n",
       "       'VEH3_LOC2', 'VEH3_EVNT3', 'VEH3_LOC3', 'DRIVER_4', 'VEH4_TYPE',\n",
       "       'VEH4_SPECL', 'VEH4_DIR', 'VEH4_MANUV', 'VEH4_EVNT1', 'VEH4_LOC1',\n",
       "       'VEH4_EVNT2', 'VEH4_LOC2', 'VEH4_EVNT3', 'VEH4_LOC3', 'DUP_CD',\n",
       "       'REC_TYPE', 'XCOORD', 'YCOORD', 'INTERSEC', 'SFE', 'AGENCY_NUM',\n",
       "       'RUNDATE', 'WorkZone', 'WorkZoneTy', 'WorkersPre', 'ExceedSpee',\n",
       "       'CellPhoneU'],\n",
       "      dtype='object')"
      ]
     },
     "execution_count": 489,
     "metadata": {},
     "output_type": "execute_result"
    }
   ],
   "source": [
    "df.columns"
   ]
  },
  {
   "cell_type": "markdown",
   "metadata": {
    "collapsed": true
   },
   "source": [
    "<h3>Looking at numerical Columns</h3>"
   ]
  },
  {
   "cell_type": "code",
   "execution_count": 490,
   "metadata": {
    "collapsed": false
   },
   "outputs": [
    {
     "name": "stderr",
     "output_type": "stream",
     "text": [
      "C:\\Users\\Aditi Lele\\Anaconda3\\lib\\site-packages\\numpy\\lib\\function_base.py:3834: RuntimeWarning: Invalid value encountered in percentile\n",
      "  RuntimeWarning)\n"
     ]
    },
    {
     "data": {
      "text/html": [
       "<div>\n",
       "<table border=\"1\" class=\"dataframe\">\n",
       "  <thead>\n",
       "    <tr style=\"text-align: right;\">\n",
       "      <th></th>\n",
       "      <th>OBJECTID</th>\n",
       "      <th>geodb_oid</th>\n",
       "      <th>Case_Id</th>\n",
       "      <th>YEAR</th>\n",
       "      <th>MONTH</th>\n",
       "      <th>DAY</th>\n",
       "      <th>HOUR</th>\n",
       "      <th>NUM_VEH</th>\n",
       "      <th>INJURIES</th>\n",
       "      <th>FATALITIES</th>\n",
       "      <th>COUNTY</th>\n",
       "      <th>TS_ROUTE</th>\n",
       "      <th>MILE</th>\n",
       "      <th>DUP_CD</th>\n",
       "      <th>XCOORD</th>\n",
       "      <th>YCOORD</th>\n",
       "      <th>AGENCY_NUM</th>\n",
       "      <th>RUNDATE</th>\n",
       "    </tr>\n",
       "  </thead>\n",
       "  <tbody>\n",
       "    <tr>\n",
       "      <th>count</th>\n",
       "      <td>292019.000000</td>\n",
       "      <td>2.920190e+05</td>\n",
       "      <td>0.0</td>\n",
       "      <td>292019.0</td>\n",
       "      <td>292019.000000</td>\n",
       "      <td>292019.000000</td>\n",
       "      <td>292019.000000</td>\n",
       "      <td>292019.000000</td>\n",
       "      <td>292019.000000</td>\n",
       "      <td>292019.000000</td>\n",
       "      <td>292019.000000</td>\n",
       "      <td>292019.000000</td>\n",
       "      <td>292019.000000</td>\n",
       "      <td>2.920190e+05</td>\n",
       "      <td>2.920190e+05</td>\n",
       "      <td>2.920190e+05</td>\n",
       "      <td>292019.000000</td>\n",
       "      <td>2.920190e+05</td>\n",
       "    </tr>\n",
       "    <tr>\n",
       "      <th>mean</th>\n",
       "      <td>146010.000000</td>\n",
       "      <td>5.653341e+05</td>\n",
       "      <td>NaN</td>\n",
       "      <td>14.0</td>\n",
       "      <td>6.438341</td>\n",
       "      <td>15.352614</td>\n",
       "      <td>13.017300</td>\n",
       "      <td>1.869991</td>\n",
       "      <td>0.287392</td>\n",
       "      <td>0.003137</td>\n",
       "      <td>36.611871</td>\n",
       "      <td>2013.419617</td>\n",
       "      <td>30.620734</td>\n",
       "      <td>3.681322e+08</td>\n",
       "      <td>2.807454e+06</td>\n",
       "      <td>1.712982e+06</td>\n",
       "      <td>15899.361422</td>\n",
       "      <td>2.016091e+09</td>\n",
       "    </tr>\n",
       "    <tr>\n",
       "      <th>std</th>\n",
       "      <td>84298.768467</td>\n",
       "      <td>1.067269e+06</td>\n",
       "      <td>NaN</td>\n",
       "      <td>0.0</td>\n",
       "      <td>3.571892</td>\n",
       "      <td>8.755899</td>\n",
       "      <td>5.594693</td>\n",
       "      <td>0.580815</td>\n",
       "      <td>0.677750</td>\n",
       "      <td>0.061629</td>\n",
       "      <td>28.735929</td>\n",
       "      <td>3089.644853</td>\n",
       "      <td>64.296513</td>\n",
       "      <td>2.875539e+08</td>\n",
       "      <td>2.241654e+05</td>\n",
       "      <td>4.066943e+05</td>\n",
       "      <td>7250.743849</td>\n",
       "      <td>0.000000e+00</td>\n",
       "    </tr>\n",
       "    <tr>\n",
       "      <th>min</th>\n",
       "      <td>1.000000</td>\n",
       "      <td>3.000000e+00</td>\n",
       "      <td>NaN</td>\n",
       "      <td>14.0</td>\n",
       "      <td>1.000000</td>\n",
       "      <td>1.000000</td>\n",
       "      <td>0.000000</td>\n",
       "      <td>1.000000</td>\n",
       "      <td>0.000000</td>\n",
       "      <td>0.000000</td>\n",
       "      <td>1.000000</td>\n",
       "      <td>0.000000</td>\n",
       "      <td>0.000000</td>\n",
       "      <td>1.000000e+07</td>\n",
       "      <td>1.927759e+06</td>\n",
       "      <td>1.152106e+05</td>\n",
       "      <td>10005.000000</td>\n",
       "      <td>2.016091e+09</td>\n",
       "    </tr>\n",
       "    <tr>\n",
       "      <th>25%</th>\n",
       "      <td>73005.500000</td>\n",
       "      <td>1.380425e+05</td>\n",
       "      <td>NaN</td>\n",
       "      <td>14.0</td>\n",
       "      <td>3.000000</td>\n",
       "      <td>8.000000</td>\n",
       "      <td>9.000000</td>\n",
       "      <td>2.000000</td>\n",
       "      <td>0.000000</td>\n",
       "      <td>0.000000</td>\n",
       "      <td>16.000000</td>\n",
       "      <td>0.000000</td>\n",
       "      <td>0.000000</td>\n",
       "      <td>1.600000e+08</td>\n",
       "      <td>2.755127e+06</td>\n",
       "      <td>1.752016e+06</td>\n",
       "      <td>11051.000000</td>\n",
       "      <td>2.016091e+09</td>\n",
       "    </tr>\n",
       "    <tr>\n",
       "      <th>50%</th>\n",
       "      <td>146010.000000</td>\n",
       "      <td>2.143260e+05</td>\n",
       "      <td>NaN</td>\n",
       "      <td>14.0</td>\n",
       "      <td>6.000000</td>\n",
       "      <td>15.000000</td>\n",
       "      <td>14.000000</td>\n",
       "      <td>2.000000</td>\n",
       "      <td>0.000000</td>\n",
       "      <td>0.000000</td>\n",
       "      <td>16.000000</td>\n",
       "      <td>0.000000</td>\n",
       "      <td>0.000000</td>\n",
       "      <td>1.690941e+08</td>\n",
       "      <td>2.902607e+06</td>\n",
       "      <td>1.880197e+06</td>\n",
       "      <td>13300.000000</td>\n",
       "      <td>2.016091e+09</td>\n",
       "    </tr>\n",
       "    <tr>\n",
       "      <th>75%</th>\n",
       "      <td>219014.500000</td>\n",
       "      <td>3.192835e+05</td>\n",
       "      <td>NaN</td>\n",
       "      <td>14.0</td>\n",
       "      <td>10.000000</td>\n",
       "      <td>23.000000</td>\n",
       "      <td>17.000000</td>\n",
       "      <td>2.000000</td>\n",
       "      <td>0.000000</td>\n",
       "      <td>0.000000</td>\n",
       "      <td>54.000000</td>\n",
       "      <td>5025.000000</td>\n",
       "      <td>30.940000</td>\n",
       "      <td>5.420550e+08</td>\n",
       "      <td>2.963601e+06</td>\n",
       "      <td>1.935079e+06</td>\n",
       "      <td>20011.000000</td>\n",
       "      <td>2.016091e+09</td>\n",
       "    </tr>\n",
       "    <tr>\n",
       "      <th>max</th>\n",
       "      <td>292019.000000</td>\n",
       "      <td>3.768305e+06</td>\n",
       "      <td>NaN</td>\n",
       "      <td>14.0</td>\n",
       "      <td>12.000000</td>\n",
       "      <td>31.000000</td>\n",
       "      <td>23.000000</td>\n",
       "      <td>15.000000</td>\n",
       "      <td>54.000000</td>\n",
       "      <td>5.000000</td>\n",
       "      <td>102.000000</td>\n",
       "      <td>9474.000000</td>\n",
       "      <td>424.630000</td>\n",
       "      <td>1.029074e+09</td>\n",
       "      <td>3.051970e+06</td>\n",
       "      <td>2.130862e+06</td>\n",
       "      <td>99999.000000</td>\n",
       "      <td>2.016091e+09</td>\n",
       "    </tr>\n",
       "  </tbody>\n",
       "</table>\n",
       "</div>"
      ],
      "text/plain": [
       "            OBJECTID     geodb_oid  Case_Id      YEAR          MONTH  \\\n",
       "count  292019.000000  2.920190e+05      0.0  292019.0  292019.000000   \n",
       "mean   146010.000000  5.653341e+05      NaN      14.0       6.438341   \n",
       "std     84298.768467  1.067269e+06      NaN       0.0       3.571892   \n",
       "min         1.000000  3.000000e+00      NaN      14.0       1.000000   \n",
       "25%     73005.500000  1.380425e+05      NaN      14.0       3.000000   \n",
       "50%    146010.000000  2.143260e+05      NaN      14.0       6.000000   \n",
       "75%    219014.500000  3.192835e+05      NaN      14.0      10.000000   \n",
       "max    292019.000000  3.768305e+06      NaN      14.0      12.000000   \n",
       "\n",
       "                 DAY           HOUR        NUM_VEH       INJURIES  \\\n",
       "count  292019.000000  292019.000000  292019.000000  292019.000000   \n",
       "mean       15.352614      13.017300       1.869991       0.287392   \n",
       "std         8.755899       5.594693       0.580815       0.677750   \n",
       "min         1.000000       0.000000       1.000000       0.000000   \n",
       "25%         8.000000       9.000000       2.000000       0.000000   \n",
       "50%        15.000000      14.000000       2.000000       0.000000   \n",
       "75%        23.000000      17.000000       2.000000       0.000000   \n",
       "max        31.000000      23.000000      15.000000      54.000000   \n",
       "\n",
       "          FATALITIES         COUNTY       TS_ROUTE           MILE  \\\n",
       "count  292019.000000  292019.000000  292019.000000  292019.000000   \n",
       "mean        0.003137      36.611871    2013.419617      30.620734   \n",
       "std         0.061629      28.735929    3089.644853      64.296513   \n",
       "min         0.000000       1.000000       0.000000       0.000000   \n",
       "25%         0.000000      16.000000       0.000000       0.000000   \n",
       "50%         0.000000      16.000000       0.000000       0.000000   \n",
       "75%         0.000000      54.000000    5025.000000      30.940000   \n",
       "max         5.000000     102.000000    9474.000000     424.630000   \n",
       "\n",
       "             DUP_CD        XCOORD        YCOORD     AGENCY_NUM       RUNDATE  \n",
       "count  2.920190e+05  2.920190e+05  2.920190e+05  292019.000000  2.920190e+05  \n",
       "mean   3.681322e+08  2.807454e+06  1.712982e+06   15899.361422  2.016091e+09  \n",
       "std    2.875539e+08  2.241654e+05  4.066943e+05    7250.743849  0.000000e+00  \n",
       "min    1.000000e+07  1.927759e+06  1.152106e+05   10005.000000  2.016091e+09  \n",
       "25%    1.600000e+08  2.755127e+06  1.752016e+06   11051.000000  2.016091e+09  \n",
       "50%    1.690941e+08  2.902607e+06  1.880197e+06   13300.000000  2.016091e+09  \n",
       "75%    5.420550e+08  2.963601e+06  1.935079e+06   20011.000000  2.016091e+09  \n",
       "max    1.029074e+09  3.051970e+06  2.130862e+06   99999.000000  2.016091e+09  "
      ]
     },
     "execution_count": 490,
     "metadata": {},
     "output_type": "execute_result"
    }
   ],
   "source": [
    "df.describe()"
   ]
  },
  {
   "cell_type": "markdown",
   "metadata": {
    "collapsed": true
   },
   "source": [
    "Removing columns which are too unique"
   ]
  },
  {
   "cell_type": "code",
   "execution_count": 491,
   "metadata": {
    "collapsed": true
   },
   "outputs": [],
   "source": [
    "df.drop(['OBJECTID','geodb_oid','Case_Id'],axis=1,inplace=True)"
   ]
  },
  {
   "cell_type": "markdown",
   "metadata": {
    "collapsed": true
   },
   "source": [
    "removing year as it is data of YEAR"
   ]
  },
  {
   "cell_type": "code",
   "execution_count": 492,
   "metadata": {
    "collapsed": false
   },
   "outputs": [],
   "source": [
    "df.drop(['YEAR'],axis=1,inplace=True)"
   ]
  },
  {
   "cell_type": "markdown",
   "metadata": {},
   "source": [
    "<h3>Looking at categorical Columns</h3>"
   ]
  },
  {
   "cell_type": "code",
   "execution_count": 493,
   "metadata": {
    "collapsed": false
   },
   "outputs": [
    {
     "data": {
      "text/plain": [
       "Index(['ROUTE', 'DAY_O_WEEK', 'COLL_TYPE', 'WEATHER', 'LIGHTING', 'SURF_COND',\n",
       "       'RD_DEFECT', 'RD_FEATURE', 'TRAF_CNTRL', 'TOWNSHIP', 'CITY', 'DRIVER_1',\n",
       "       'VEH1_TYPE', 'VEH1_SPECL', 'VEH1_DIR', 'VEH1_MANUV', 'VEH1_EVNT1',\n",
       "       'VEH1_LOC1', 'VEH1_EVNT2', 'VEH1_LOC2', 'VEH1_EVNT3', 'VEH1_LOC3',\n",
       "       'DRIVER_2', 'VEH2_TYPE', 'VEH2_SPECL', 'VEH2_DIR', 'VEH2_MANUV',\n",
       "       'VEH2_EVNT1', 'VEH2_LOC1', 'VEH2_EVNT2', 'VEH2_LOC2', 'VEH2_EVNT3',\n",
       "       'VEH2_LOC3', 'DRIVER_3', 'VEH3_TYPE', 'VEH3_SPECL', 'VEH3_DIR',\n",
       "       'VEH3_MANUV', 'VEH3_EVNT1', 'VEH3_LOC1', 'VEH3_EVNT2', 'VEH3_LOC2',\n",
       "       'VEH3_EVNT3', 'VEH3_LOC3', 'DRIVER_4', 'VEH4_TYPE', 'VEH4_SPECL',\n",
       "       'VEH4_DIR', 'VEH4_MANUV', 'VEH4_EVNT1', 'VEH4_LOC1', 'VEH4_EVNT2',\n",
       "       'VEH4_LOC2', 'VEH4_EVNT3', 'VEH4_LOC3', 'REC_TYPE', 'INTERSEC', 'SFE',\n",
       "       'WorkZone', 'WorkZoneTy', 'WorkersPre', 'ExceedSpee', 'CellPhoneU'],\n",
       "      dtype='object')"
      ]
     },
     "execution_count": 493,
     "metadata": {},
     "output_type": "execute_result"
    }
   ],
   "source": [
    "df.select_dtypes(['object']).columns"
   ]
  },
  {
   "cell_type": "code",
   "execution_count": 494,
   "metadata": {
    "collapsed": false
   },
   "outputs": [
    {
     "data": {
      "text/html": [
       "<div>\n",
       "<table border=\"1\" class=\"dataframe\">\n",
       "  <thead>\n",
       "    <tr style=\"text-align: right;\">\n",
       "      <th></th>\n",
       "      <th>ROUTE</th>\n",
       "      <th>DAY_O_WEEK</th>\n",
       "      <th>COLL_TYPE</th>\n",
       "      <th>WEATHER</th>\n",
       "      <th>LIGHTING</th>\n",
       "      <th>SURF_COND</th>\n",
       "      <th>RD_DEFECT</th>\n",
       "      <th>RD_FEATURE</th>\n",
       "      <th>TRAF_CNTRL</th>\n",
       "      <th>TOWNSHIP</th>\n",
       "      <th>...</th>\n",
       "      <th>VEH4_EVNT3</th>\n",
       "      <th>VEH4_LOC3</th>\n",
       "      <th>REC_TYPE</th>\n",
       "      <th>INTERSEC</th>\n",
       "      <th>SFE</th>\n",
       "      <th>WorkZone</th>\n",
       "      <th>WorkZoneTy</th>\n",
       "      <th>WorkersPre</th>\n",
       "      <th>ExceedSpee</th>\n",
       "      <th>CellPhoneU</th>\n",
       "    </tr>\n",
       "  </thead>\n",
       "  <tbody>\n",
       "    <tr>\n",
       "      <th>count</th>\n",
       "      <td>113528</td>\n",
       "      <td>292019</td>\n",
       "      <td>292019</td>\n",
       "      <td>284145</td>\n",
       "      <td>285219</td>\n",
       "      <td>281465</td>\n",
       "      <td>254945</td>\n",
       "      <td>292019</td>\n",
       "      <td>287605</td>\n",
       "      <td>292019</td>\n",
       "      <td>...</td>\n",
       "      <td>25</td>\n",
       "      <td>24</td>\n",
       "      <td>291902</td>\n",
       "      <td>292019</td>\n",
       "      <td>291928</td>\n",
       "      <td>292019</td>\n",
       "      <td>292019</td>\n",
       "      <td>292019</td>\n",
       "      <td>292019</td>\n",
       "      <td>292019</td>\n",
       "    </tr>\n",
       "    <tr>\n",
       "      <th>unique</th>\n",
       "      <td>242</td>\n",
       "      <td>7</td>\n",
       "      <td>15</td>\n",
       "      <td>8</td>\n",
       "      <td>5</td>\n",
       "      <td>6</td>\n",
       "      <td>6</td>\n",
       "      <td>4</td>\n",
       "      <td>14</td>\n",
       "      <td>82</td>\n",
       "      <td>...</td>\n",
       "      <td>6</td>\n",
       "      <td>4</td>\n",
       "      <td>5</td>\n",
       "      <td>2</td>\n",
       "      <td>291904</td>\n",
       "      <td>2</td>\n",
       "      <td>5</td>\n",
       "      <td>2</td>\n",
       "      <td>2</td>\n",
       "      <td>2</td>\n",
       "    </tr>\n",
       "    <tr>\n",
       "      <th>top</th>\n",
       "      <td>I 094</td>\n",
       "      <td>Fri</td>\n",
       "      <td>Rear End</td>\n",
       "      <td>Clear</td>\n",
       "      <td>Daylight</td>\n",
       "      <td>Dry</td>\n",
       "      <td>No Defects</td>\n",
       "      <td>Not Applicable</td>\n",
       "      <td>No Controls</td>\n",
       "      <td>0</td>\n",
       "      <td>...</td>\n",
       "      <td>Motor Vehicle In Traffic</td>\n",
       "      <td>On Pavement (Roadway)</td>\n",
       "      <td>PD</td>\n",
       "      <td>N</td>\n",
       "      <td>X000103267</td>\n",
       "      <td>N</td>\n",
       "      <td>(N/A)</td>\n",
       "      <td>N</td>\n",
       "      <td>N</td>\n",
       "      <td>N</td>\n",
       "    </tr>\n",
       "    <tr>\n",
       "      <th>freq</th>\n",
       "      <td>6997</td>\n",
       "      <td>48324</td>\n",
       "      <td>84641</td>\n",
       "      <td>225001</td>\n",
       "      <td>189318</td>\n",
       "      <td>201751</td>\n",
       "      <td>246404</td>\n",
       "      <td>283737</td>\n",
       "      <td>142722</td>\n",
       "      <td>89680</td>\n",
       "      <td>...</td>\n",
       "      <td>17</td>\n",
       "      <td>10</td>\n",
       "      <td>230557</td>\n",
       "      <td>190866</td>\n",
       "      <td>2</td>\n",
       "      <td>287598</td>\n",
       "      <td>287764</td>\n",
       "      <td>290608</td>\n",
       "      <td>289222</td>\n",
       "      <td>292009</td>\n",
       "    </tr>\n",
       "  </tbody>\n",
       "</table>\n",
       "<p>4 rows × 63 columns</p>\n",
       "</div>"
      ],
      "text/plain": [
       "         ROUTE DAY_O_WEEK COLL_TYPE WEATHER  LIGHTING SURF_COND   RD_DEFECT  \\\n",
       "count   113528     292019    292019  284145    285219    281465      254945   \n",
       "unique     242          7        15       8         5         6           6   \n",
       "top      I 094        Fri  Rear End   Clear  Daylight       Dry  No Defects   \n",
       "freq      6997      48324     84641  225001    189318    201751      246404   \n",
       "\n",
       "            RD_FEATURE   TRAF_CNTRL  TOWNSHIP    ...      \\\n",
       "count           292019       287605    292019    ...       \n",
       "unique               4           14        82    ...       \n",
       "top     Not Applicable  No Controls         0    ...       \n",
       "freq            283737       142722     89680    ...       \n",
       "\n",
       "                      VEH4_EVNT3              VEH4_LOC3 REC_TYPE INTERSEC  \\\n",
       "count                         25                     24   291902   292019   \n",
       "unique                         6                      4        5        2   \n",
       "top     Motor Vehicle In Traffic  On Pavement (Roadway)       PD        N   \n",
       "freq                          17                     10   230557   190866   \n",
       "\n",
       "               SFE WorkZone WorkZoneTy WorkersPre ExceedSpee CellPhoneU  \n",
       "count       291928   292019     292019     292019     292019     292019  \n",
       "unique      291904        2          5          2          2          2  \n",
       "top     X000103267        N      (N/A)          N          N          N  \n",
       "freq             2   287598     287764     290608     289222     292009  \n",
       "\n",
       "[4 rows x 63 columns]"
      ]
     },
     "execution_count": 494,
     "metadata": {},
     "output_type": "execute_result"
    }
   ],
   "source": [
    "df.select_dtypes(['object']).describe()"
   ]
  },
  {
   "cell_type": "markdown",
   "metadata": {},
   "source": [
    "Removing columns which are too unique"
   ]
  },
  {
   "cell_type": "code",
   "execution_count": 495,
   "metadata": {
    "collapsed": true
   },
   "outputs": [],
   "source": [
    "df.drop(['SFE'],axis=1,inplace=True)"
   ]
  },
  {
   "cell_type": "markdown",
   "metadata": {},
   "source": [
    "<h3>As i have enough data i will remove the fields of other vehicals which were involved in crash</h3>"
   ]
  },
  {
   "cell_type": "code",
   "execution_count": 496,
   "metadata": {
    "collapsed": false
   },
   "outputs": [
    {
     "ename": "SyntaxError",
     "evalue": "invalid syntax (<ipython-input-496-c6ffdb303db7>, line 1)",
     "output_type": "error",
     "traceback": [
      "\u001b[0;36m  File \u001b[0;32m\"<ipython-input-496-c6ffdb303db7>\"\u001b[0;36m, line \u001b[0;32m1\u001b[0m\n\u001b[0;31m    df.drop([DRIVER_2', 'VEH2_TYPE', 'VEH2_SPECL', 'VEH2_DIR',\u001b[0m\n\u001b[0m                        ^\u001b[0m\n\u001b[0;31mSyntaxError\u001b[0m\u001b[0;31m:\u001b[0m invalid syntax\n"
     ]
    }
   ],
   "source": [
    "df.drop([DRIVER_2', 'VEH2_TYPE', 'VEH2_SPECL', 'VEH2_DIR',\n",
    "       'VEH2_MANUV', 'VEH2_EVNT1', 'VEH2_LOC1', 'VEH2_EVNT2', 'VEH2_LOC2',\n",
    "       'VEH2_EVNT3', 'VEH2_LOC3', 'DRIVER_3', 'VEH3_TYPE', 'VEH3_SPECL',\n",
    "       'VEH3_DIR', 'VEH3_MANUV', 'VEH3_EVNT1', 'VEH3_LOC1', 'VEH3_EVNT2',\n",
    "       'VEH3_LOC2', 'VEH3_EVNT3', 'VEH3_LOC3', 'DRIVER_4', 'VEH4_TYPE',\n",
    "       'VEH4_SPECL', 'VEH4_DIR', 'VEH4_MANUV', 'VEH4_EVNT1', 'VEH4_LOC1',\n",
    "       'VEH4_EVNT2', 'VEH4_LOC2', 'VEH4_EVNT3', 'VEH4_LOC3'],axis=1,inplace=True)"
   ]
  },
  {
   "cell_type": "code",
   "execution_count": null,
   "metadata": {
    "collapsed": false
   },
   "outputs": [],
   "source": [
    "y.describe()"
   ]
  },
  {
   "cell_type": "code",
   "execution_count": null,
   "metadata": {
    "collapsed": false
   },
   "outputs": [],
   "source": [
    "y.unique()"
   ]
  },
  {
   "cell_type": "code",
   "execution_count": null,
   "metadata": {
    "collapsed": true
   },
   "outputs": [],
   "source": [
    "frequency=pd.value_counts(y.values, sort=True)"
   ]
  },
  {
   "cell_type": "code",
   "execution_count": null,
   "metadata": {
    "collapsed": false
   },
   "outputs": [],
   "source": [
    "fig, ax = plt.subplots()\n",
    "frequency.plot(ax=ax, kind='bar')"
   ]
  },
  {
   "cell_type": "markdown",
   "metadata": {},
   "source": [
    "<h3>Visualizing the categorical features</h3>"
   ]
  },
  {
   "cell_type": "code",
   "execution_count": null,
   "metadata": {
    "collapsed": false
   },
   "outputs": [],
   "source": [
    "df.select_dtypes(['object']).describe()"
   ]
  },
  {
   "cell_type": "markdown",
   "metadata": {},
   "source": [
    "<h4>dropping some columns which are not cause but results of accidents</h4>"
   ]
  },
  {
   "cell_type": "code",
   "execution_count": null,
   "metadata": {
    "collapsed": true
   },
   "outputs": [],
   "source": [
    "df.drop(['COLL_TYPE','VEH1_EVNT2','VEH1_EVNT3'],axis=1,inplace=True)"
   ]
  },
  {
   "cell_type": "code",
   "execution_count": null,
   "metadata": {
    "collapsed": false
   },
   "outputs": [],
   "source": [
    "column='ROUTE'\n",
    "frequency=pd.value_counts(df[column].values, sort=True)[:40]\n",
    "fig, ax = plt.subplots()\n",
    "plt.title(column)\n",
    "frequency.plot(ax=ax, kind='bar')"
   ]
  },
  {
   "cell_type": "code",
   "execution_count": null,
   "metadata": {
    "collapsed": false
   },
   "outputs": [],
   "source": [
    "column='DAY_O_WEEK'\n",
    "frequency=pd.value_counts(df[column].values, sort=True)\n",
    "fig, ax = plt.subplots()\n",
    "plt.title(column)\n",
    "frequency.plot(ax=ax, kind='bar')"
   ]
  },
  {
   "cell_type": "code",
   "execution_count": null,
   "metadata": {
    "collapsed": false
   },
   "outputs": [],
   "source": [
    "column='WEATHER'\n",
    "frequency=pd.value_counts(df[column].values, sort=True)\n",
    "fig, ax = plt.subplots()\n",
    "plt.title(\"WEATHER\")\n",
    "frequency.plot(ax=ax, kind='bar')"
   ]
  },
  {
   "cell_type": "code",
   "execution_count": null,
   "metadata": {
    "collapsed": false
   },
   "outputs": [],
   "source": [
    "column='LIGHTING'\n",
    "frequency=pd.value_counts(df[column].values, sort=True)\n",
    "fig, ax = plt.subplots()\n",
    "plt.title(\"LIGHTING\")\n",
    "frequency.plot(ax=ax, kind='bar')"
   ]
  },
  {
   "cell_type": "code",
   "execution_count": null,
   "metadata": {
    "collapsed": false
   },
   "outputs": [],
   "source": [
    "column='SURF_COND'\n",
    "frequency=pd.value_counts(df[column].values, sort=True)[:40]\n",
    "fig, ax = plt.subplots()\n",
    "plt.title(\"Surface Condition\")\n",
    "frequency.plot(ax=ax, kind='bar')"
   ]
  },
  {
   "cell_type": "code",
   "execution_count": null,
   "metadata": {
    "collapsed": false
   },
   "outputs": [],
   "source": [
    "column='RD_DEFECT'\n",
    "frequency=pd.value_counts(df[column].values, sort=True)[:40]\n",
    "fig, ax = plt.subplots()\n",
    "plt.title(\"Road Defect\")\n",
    "frequency.plot(ax=ax, kind='bar')"
   ]
  },
  {
   "cell_type": "code",
   "execution_count": null,
   "metadata": {
    "collapsed": false
   },
   "outputs": [],
   "source": [
    "column='RD_FEATURE'\n",
    "frequency=pd.value_counts(df[column].values, sort=True)[:40]\n",
    "fig, ax = plt.subplots()\n",
    "plt.title(\"Road Feature\")\n",
    "frequency.plot(ax=ax, kind='bar')"
   ]
  },
  {
   "cell_type": "code",
   "execution_count": null,
   "metadata": {
    "collapsed": false
   },
   "outputs": [],
   "source": [
    "column='TRAF_CNTRL'\n",
    "frequency=pd.value_counts(df[column].values, sort=True)[:40]\n",
    "fig, ax = plt.subplots()\n",
    "plt.title(\"Traffic Control\")\n",
    "frequency.plot(ax=ax, kind='bar')"
   ]
  },
  {
   "cell_type": "code",
   "execution_count": null,
   "metadata": {
    "collapsed": false
   },
   "outputs": [],
   "source": [
    "column='TOWNSHIP'\n",
    "frequency=pd.value_counts(df[column].values, sort=True)[:40]\n",
    "fig, ax = plt.subplots()\n",
    "plt.title(\"Township\")\n",
    "frequency.plot(ax=ax, kind='bar')"
   ]
  },
  {
   "cell_type": "code",
   "execution_count": null,
   "metadata": {
    "collapsed": false
   },
   "outputs": [],
   "source": [
    "column='CITY'\n",
    "frequency=pd.value_counts(df[column].values, sort=True)[:40]\n",
    "fig, ax = plt.subplots()\n",
    "plt.title(\"CITY\")\n",
    "frequency.plot(ax=ax, kind='bar')"
   ]
  },
  {
   "cell_type": "code",
   "execution_count": null,
   "metadata": {
    "collapsed": false
   },
   "outputs": [],
   "source": [
    "column='DRIVER_1'\n",
    "frequency=pd.value_counts(df[column].values, sort=True)[:40]\n",
    "fig, ax = plt.subplots()\n",
    "plt.title(\"DRIVER_1\")\n",
    "frequency.plot(ax=ax, kind='bar')"
   ]
  },
  {
   "cell_type": "code",
   "execution_count": null,
   "metadata": {
    "collapsed": false
   },
   "outputs": [],
   "source": [
    "column='VEH1_SPECL'\n",
    "frequency=pd.value_counts(df[column].values, sort=True)[:40]\n",
    "fig, ax = plt.subplots()\n",
    "plt.title(\"Vehicle Category\")\n",
    "frequency.plot(ax=ax, kind='bar')"
   ]
  },
  {
   "cell_type": "code",
   "execution_count": null,
   "metadata": {
    "collapsed": false
   },
   "outputs": [],
   "source": [
    "column='VEH1_DIR'\n",
    "frequency=pd.value_counts(df[column].values, sort=True)[:40]\n",
    "fig, ax = plt.subplots()\n",
    "plt.title(\"Vehicle Direction\")\n",
    "frequency.plot(ax=ax, kind='bar')"
   ]
  },
  {
   "cell_type": "code",
   "execution_count": null,
   "metadata": {
    "collapsed": false
   },
   "outputs": [],
   "source": [
    "column='VEH1_MANUV'\n",
    "frequency=pd.value_counts(df[column].values, sort=True)[:40]\n",
    "fig, ax = plt.subplots()\n",
    "plt.title(\"Vehicle Manuver\")\n",
    "frequency.plot(ax=ax, kind='bar')"
   ]
  },
  {
   "cell_type": "code",
   "execution_count": null,
   "metadata": {
    "collapsed": false
   },
   "outputs": [],
   "source": [
    "column='VEH1_LOC1'\n",
    "frequency=pd.value_counts(df[column].values, sort=True)[:40]\n",
    "fig, ax = plt.subplots()\n",
    "plt.title(\"Vehicle Location\")\n",
    "frequency.plot(ax=ax, kind='bar')"
   ]
  },
  {
   "cell_type": "code",
   "execution_count": 497,
   "metadata": {
    "collapsed": false
   },
   "outputs": [
    {
     "data": {
      "text/plain": [
       "<matplotlib.axes._subplots.AxesSubplot at 0x18705536860>"
      ]
     },
     "execution_count": 497,
     "metadata": {},
     "output_type": "execute_result"
    },
    {
     "data": {
      "image/png": "[encoded data removed]",
      "text/plain": [
       "<matplotlib.figure.Figure at 0x18705eb9128>"
      ]
     },
     "metadata": {},
     "output_type": "display_data"
    }
   ],
   "source": [
    "column='VEH1_LOC2'\n",
    "frequency=pd.value_counts(df[column].values, sort=True)[:40]\n",
    "fig, ax = plt.subplots()\n",
    "plt.title(\"Vehicle Location 2\")\n",
    "frequency.plot(ax=ax, kind='bar')"
   ]
  },
  {
   "cell_type": "code",
   "execution_count": 498,
   "metadata": {
    "collapsed": false
   },
   "outputs": [
    {
     "data": {
      "text/plain": [
       "<matplotlib.axes._subplots.AxesSubplot at 0x18705aa3da0>"
      ]
     },
     "execution_count": 498,
     "metadata": {},
     "output_type": "execute_result"
    },
    {
     "data": {
      "image/png": "[encoded data removed]",
      "text/plain": [
       "<matplotlib.figure.Figure at 0x18705d02630>"
      ]
     },
     "metadata": {},
     "output_type": "display_data"
    }
   ],
   "source": [
    "column='VEH1_LOC3'\n",
    "frequency=pd.value_counts(df[column].values, sort=True)[:40]\n",
    "fig, ax = plt.subplots()\n",
    "plt.title(\"Vehicle Location 3\")\n",
    "frequency.plot(ax=ax, kind='bar')"
   ]
  },
  {
   "cell_type": "code",
   "execution_count": 499,
   "metadata": {
    "collapsed": false
   },
   "outputs": [
    {
     "data": {
      "text/plain": [
       "<matplotlib.axes._subplots.AxesSubplot at 0x18701b00358>"
      ]
     },
     "execution_count": 499,
     "metadata": {},
     "output_type": "execute_result"
    },
    {
     "data": {
      "image/png": "[encoded data removed]",
      "text/plain": [
       "<matplotlib.figure.Figure at 0x18705a5e128>"
      ]
     },
     "metadata": {},
     "output_type": "display_data"
    }
   ],
   "source": [
    "column='REC_TYPE'\n",
    "frequency=pd.value_counts(df[column].values, sort=True)[:40]\n",
    "fig, ax = plt.subplots()\n",
    "plt.title(\"Injury Type\")\n",
    "frequency.plot(ax=ax, kind='bar')"
   ]
  },
  {
   "cell_type": "code",
   "execution_count": 500,
   "metadata": {
    "collapsed": false
   },
   "outputs": [
    {
     "data": {
      "text/plain": [
       "<matplotlib.axes._subplots.AxesSubplot at 0x18705a6e748>"
      ]
     },
     "execution_count": 500,
     "metadata": {},
     "output_type": "execute_result"
    },
    {
     "data": {
      "image/png": "[encoded data removed]",
      "text/plain": [
       "<matplotlib.figure.Figure at 0x187082f2198>"
      ]
     },
     "metadata": {},
     "output_type": "display_data"
    }
   ],
   "source": [
    "column='INTERSEC'\n",
    "frequency=pd.value_counts(df[column].values, sort=True)[:40]\n",
    "fig, ax = plt.subplots()\n",
    "plt.title(\"INTERSEC\")\n",
    "frequency.plot(ax=ax, kind='bar')"
   ]
  },
  {
   "cell_type": "code",
   "execution_count": 501,
   "metadata": {
    "collapsed": false
   },
   "outputs": [
    {
     "data": {
      "text/plain": [
       "<matplotlib.axes._subplots.AxesSubplot at 0x18705bbaf60>"
      ]
     },
     "execution_count": 501,
     "metadata": {},
     "output_type": "execute_result"
    },
    {
     "data": {
      "image/png": "[encoded data removed]",
      "text/plain": [
       "<matplotlib.figure.Figure at 0x1871a85cac8>"
      ]
     },
     "metadata": {},
     "output_type": "display_data"
    }
   ],
   "source": [
    "column='WorkZone'\n",
    "frequency=pd.value_counts(df[column].values, sort=True)[:40]\n",
    "fig, ax = plt.subplots()\n",
    "plt.title(\"WorkZone\")\n",
    "frequency.plot(ax=ax, kind='bar')"
   ]
  },
  {
   "cell_type": "code",
   "execution_count": 502,
   "metadata": {
    "collapsed": false
   },
   "outputs": [
    {
     "data": {
      "text/plain": [
       "<matplotlib.axes._subplots.AxesSubplot at 0x1871a86a748>"
      ]
     },
     "execution_count": 502,
     "metadata": {},
     "output_type": "execute_result"
    },
    {
     "data": {
      "image/png": "[encoded data removed]",
      "text/plain": [
       "<matplotlib.figure.Figure at 0x187026bfb70>"
      ]
     },
     "metadata": {},
     "output_type": "display_data"
    }
   ],
   "source": [
    "column='WorkZoneTy'\n",
    "frequency=pd.value_counts(df[column].values, sort=True)[:40]\n",
    "fig, ax = plt.subplots()\n",
    "plt.title(\"WorkZoneTy\")\n",
    "frequency.plot(ax=ax, kind='bar')"
   ]
  },
  {
   "cell_type": "code",
   "execution_count": 503,
   "metadata": {
    "collapsed": false
   },
   "outputs": [
    {
     "data": {
      "text/plain": [
       "<matplotlib.axes._subplots.AxesSubplot at 0x1870fabacc0>"
      ]
     },
     "execution_count": 503,
     "metadata": {},
     "output_type": "execute_result"
    },
    {
     "data": {
      "image/png": "[encoded data removed]",
      "text/plain": [
       "<matplotlib.figure.Figure at 0x18701931710>"
      ]
     },
     "metadata": {},
     "output_type": "display_data"
    }
   ],
   "source": [
    "column='WorkZoneTy'\n",
    "frequency=pd.value_counts(df[column].values, sort=True)[:40]\n",
    "fig, ax = plt.subplots()\n",
    "plt.title(\"Work Zone Type\")\n",
    "frequency.plot(ax=ax, kind='bar')"
   ]
  },
  {
   "cell_type": "code",
   "execution_count": 504,
   "metadata": {
    "collapsed": false
   },
   "outputs": [
    {
     "data": {
      "text/plain": [
       "<matplotlib.axes._subplots.AxesSubplot at 0x1870195f2b0>"
      ]
     },
     "execution_count": 504,
     "metadata": {},
     "output_type": "execute_result"
    },
    {
     "data": {
      "image/png": "[encoded data removed]",
      "text/plain": [
       "<matplotlib.figure.Figure at 0x18703ec3710>"
      ]
     },
     "metadata": {},
     "output_type": "display_data"
    }
   ],
   "source": [
    "column='WorkersPre'\n",
    "frequency=pd.value_counts(df[column].values, sort=True)[:40]\n",
    "fig, ax = plt.subplots()\n",
    "plt.title(\"WorkersPre\")\n",
    "frequency.plot(ax=ax, kind='bar')"
   ]
  },
  {
   "cell_type": "code",
   "execution_count": 505,
   "metadata": {
    "collapsed": false
   },
   "outputs": [
    {
     "data": {
      "text/plain": [
       "<matplotlib.axes._subplots.AxesSubplot at 0x18703e94da0>"
      ]
     },
     "execution_count": 505,
     "metadata": {},
     "output_type": "execute_result"
    },
    {
     "data": {
      "image/png": "[encoded data removed]",
      "text/plain": [
       "<matplotlib.figure.Figure at 0x1870564e2e8>"
      ]
     },
     "metadata": {},
     "output_type": "display_data"
    }
   ],
   "source": [
    "column='ExceedSpee'\n",
    "frequency=pd.value_counts(df[column].values, sort=True)[:40]\n",
    "fig, ax = plt.subplots()\n",
    "plt.title(\"Exceed Speed\")\n",
    "frequency.plot(ax=ax, kind='bar')"
   ]
  },
  {
   "cell_type": "code",
   "execution_count": 506,
   "metadata": {
    "collapsed": false
   },
   "outputs": [
    {
     "data": {
      "text/plain": [
       "<matplotlib.axes._subplots.AxesSubplot at 0x1870562f3c8>"
      ]
     },
     "execution_count": 506,
     "metadata": {},
     "output_type": "execute_result"
    },
    {
     "data": {
      "image/png": "[encoded data removed]",
      "text/plain": [
       "<matplotlib.figure.Figure at 0x18705c2eac8>"
      ]
     },
     "metadata": {},
     "output_type": "display_data"
    }
   ],
   "source": [
    "column='CellPhoneU'\n",
    "frequency=pd.value_counts(df[column].values, sort=True)[:40]\n",
    "fig, ax = plt.subplots()\n",
    "plt.title(\"Cell Phone Used\")\n",
    "frequency.plot(ax=ax, kind='bar')"
   ]
  },
  {
   "cell_type": "markdown",
   "metadata": {},
   "source": [
    "<h3>Visualizing the numerical features</h3>"
   ]
  },
  {
   "cell_type": "markdown",
   "metadata": {},
   "source": [
    "<h4>stats</h4>"
   ]
  },
  {
   "cell_type": "code",
   "execution_count": 507,
   "metadata": {
    "collapsed": false
   },
   "outputs": [
    {
     "data": {
      "text/html": [
       "<div>\n",
       "<table border=\"1\" class=\"dataframe\">\n",
       "  <thead>\n",
       "    <tr style=\"text-align: right;\">\n",
       "      <th></th>\n",
       "      <th>MONTH</th>\n",
       "      <th>DAY</th>\n",
       "      <th>HOUR</th>\n",
       "      <th>NUM_VEH</th>\n",
       "      <th>INJURIES</th>\n",
       "      <th>FATALITIES</th>\n",
       "      <th>COUNTY</th>\n",
       "      <th>TS_ROUTE</th>\n",
       "      <th>MILE</th>\n",
       "      <th>DUP_CD</th>\n",
       "      <th>XCOORD</th>\n",
       "      <th>YCOORD</th>\n",
       "      <th>AGENCY_NUM</th>\n",
       "      <th>RUNDATE</th>\n",
       "    </tr>\n",
       "  </thead>\n",
       "  <tbody>\n",
       "    <tr>\n",
       "      <th>count</th>\n",
       "      <td>292019.000000</td>\n",
       "      <td>292019.000000</td>\n",
       "      <td>292019.000000</td>\n",
       "      <td>292019.000000</td>\n",
       "      <td>292019.000000</td>\n",
       "      <td>292019.000000</td>\n",
       "      <td>292019.000000</td>\n",
       "      <td>292019.000000</td>\n",
       "      <td>292019.000000</td>\n",
       "      <td>2.920190e+05</td>\n",
       "      <td>2.920190e+05</td>\n",
       "      <td>2.920190e+05</td>\n",
       "      <td>292019.000000</td>\n",
       "      <td>2.920190e+05</td>\n",
       "    </tr>\n",
       "    <tr>\n",
       "      <th>mean</th>\n",
       "      <td>6.438341</td>\n",
       "      <td>15.352614</td>\n",
       "      <td>13.017300</td>\n",
       "      <td>1.869991</td>\n",
       "      <td>0.287392</td>\n",
       "      <td>0.003137</td>\n",
       "      <td>36.611871</td>\n",
       "      <td>2013.419617</td>\n",
       "      <td>30.620734</td>\n",
       "      <td>3.681322e+08</td>\n",
       "      <td>2.807454e+06</td>\n",
       "      <td>1.712982e+06</td>\n",
       "      <td>15899.361422</td>\n",
       "      <td>2.016091e+09</td>\n",
       "    </tr>\n",
       "    <tr>\n",
       "      <th>std</th>\n",
       "      <td>3.571892</td>\n",
       "      <td>8.755899</td>\n",
       "      <td>5.594693</td>\n",
       "      <td>0.580815</td>\n",
       "      <td>0.677750</td>\n",
       "      <td>0.061629</td>\n",
       "      <td>28.735929</td>\n",
       "      <td>3089.644853</td>\n",
       "      <td>64.296513</td>\n",
       "      <td>2.875539e+08</td>\n",
       "      <td>2.241654e+05</td>\n",
       "      <td>4.066943e+05</td>\n",
       "      <td>7250.743849</td>\n",
       "      <td>0.000000e+00</td>\n",
       "    </tr>\n",
       "    <tr>\n",
       "      <th>min</th>\n",
       "      <td>1.000000</td>\n",
       "      <td>1.000000</td>\n",
       "      <td>0.000000</td>\n",
       "      <td>1.000000</td>\n",
       "      <td>0.000000</td>\n",
       "      <td>0.000000</td>\n",
       "      <td>1.000000</td>\n",
       "      <td>0.000000</td>\n",
       "      <td>0.000000</td>\n",
       "      <td>1.000000e+07</td>\n",
       "      <td>1.927759e+06</td>\n",
       "      <td>1.152106e+05</td>\n",
       "      <td>10005.000000</td>\n",
       "      <td>2.016091e+09</td>\n",
       "    </tr>\n",
       "    <tr>\n",
       "      <th>25%</th>\n",
       "      <td>3.000000</td>\n",
       "      <td>8.000000</td>\n",
       "      <td>9.000000</td>\n",
       "      <td>2.000000</td>\n",
       "      <td>0.000000</td>\n",
       "      <td>0.000000</td>\n",
       "      <td>16.000000</td>\n",
       "      <td>0.000000</td>\n",
       "      <td>0.000000</td>\n",
       "      <td>1.600000e+08</td>\n",
       "      <td>2.755127e+06</td>\n",
       "      <td>1.752016e+06</td>\n",
       "      <td>11051.000000</td>\n",
       "      <td>2.016091e+09</td>\n",
       "    </tr>\n",
       "    <tr>\n",
       "      <th>50%</th>\n",
       "      <td>6.000000</td>\n",
       "      <td>15.000000</td>\n",
       "      <td>14.000000</td>\n",
       "      <td>2.000000</td>\n",
       "      <td>0.000000</td>\n",
       "      <td>0.000000</td>\n",
       "      <td>16.000000</td>\n",
       "      <td>0.000000</td>\n",
       "      <td>0.000000</td>\n",
       "      <td>1.690941e+08</td>\n",
       "      <td>2.902607e+06</td>\n",
       "      <td>1.880197e+06</td>\n",
       "      <td>13300.000000</td>\n",
       "      <td>2.016091e+09</td>\n",
       "    </tr>\n",
       "    <tr>\n",
       "      <th>75%</th>\n",
       "      <td>10.000000</td>\n",
       "      <td>23.000000</td>\n",
       "      <td>17.000000</td>\n",
       "      <td>2.000000</td>\n",
       "      <td>0.000000</td>\n",
       "      <td>0.000000</td>\n",
       "      <td>54.000000</td>\n",
       "      <td>5025.000000</td>\n",
       "      <td>30.940000</td>\n",
       "      <td>5.420550e+08</td>\n",
       "      <td>2.963601e+06</td>\n",
       "      <td>1.935079e+06</td>\n",
       "      <td>20011.000000</td>\n",
       "      <td>2.016091e+09</td>\n",
       "    </tr>\n",
       "    <tr>\n",
       "      <th>max</th>\n",
       "      <td>12.000000</td>\n",
       "      <td>31.000000</td>\n",
       "      <td>23.000000</td>\n",
       "      <td>15.000000</td>\n",
       "      <td>54.000000</td>\n",
       "      <td>5.000000</td>\n",
       "      <td>102.000000</td>\n",
       "      <td>9474.000000</td>\n",
       "      <td>424.630000</td>\n",
       "      <td>1.029074e+09</td>\n",
       "      <td>3.051970e+06</td>\n",
       "      <td>2.130862e+06</td>\n",
       "      <td>99999.000000</td>\n",
       "      <td>2.016091e+09</td>\n",
       "    </tr>\n",
       "  </tbody>\n",
       "</table>\n",
       "</div>"
      ],
      "text/plain": [
       "               MONTH            DAY           HOUR        NUM_VEH  \\\n",
       "count  292019.000000  292019.000000  292019.000000  292019.000000   \n",
       "mean        6.438341      15.352614      13.017300       1.869991   \n",
       "std         3.571892       8.755899       5.594693       0.580815   \n",
       "min         1.000000       1.000000       0.000000       1.000000   \n",
       "25%         3.000000       8.000000       9.000000       2.000000   \n",
       "50%         6.000000      15.000000      14.000000       2.000000   \n",
       "75%        10.000000      23.000000      17.000000       2.000000   \n",
       "max        12.000000      31.000000      23.000000      15.000000   \n",
       "\n",
       "            INJURIES     FATALITIES         COUNTY       TS_ROUTE  \\\n",
       "count  292019.000000  292019.000000  292019.000000  292019.000000   \n",
       "mean        0.287392       0.003137      36.611871    2013.419617   \n",
       "std         0.677750       0.061629      28.735929    3089.644853   \n",
       "min         0.000000       0.000000       1.000000       0.000000   \n",
       "25%         0.000000       0.000000      16.000000       0.000000   \n",
       "50%         0.000000       0.000000      16.000000       0.000000   \n",
       "75%         0.000000       0.000000      54.000000    5025.000000   \n",
       "max        54.000000       5.000000     102.000000    9474.000000   \n",
       "\n",
       "                MILE        DUP_CD        XCOORD        YCOORD     AGENCY_NUM  \\\n",
       "count  292019.000000  2.920190e+05  2.920190e+05  2.920190e+05  292019.000000   \n",
       "mean       30.620734  3.681322e+08  2.807454e+06  1.712982e+06   15899.361422   \n",
       "std        64.296513  2.875539e+08  2.241654e+05  4.066943e+05    7250.743849   \n",
       "min         0.000000  1.000000e+07  1.927759e+06  1.152106e+05   10005.000000   \n",
       "25%         0.000000  1.600000e+08  2.755127e+06  1.752016e+06   11051.000000   \n",
       "50%         0.000000  1.690941e+08  2.902607e+06  1.880197e+06   13300.000000   \n",
       "75%        30.940000  5.420550e+08  2.963601e+06  1.935079e+06   20011.000000   \n",
       "max       424.630000  1.029074e+09  3.051970e+06  2.130862e+06   99999.000000   \n",
       "\n",
       "            RUNDATE  \n",
       "count  2.920190e+05  \n",
       "mean   2.016091e+09  \n",
       "std    0.000000e+00  \n",
       "min    2.016091e+09  \n",
       "25%    2.016091e+09  \n",
       "50%    2.016091e+09  \n",
       "75%    2.016091e+09  \n",
       "max    2.016091e+09  "
      ]
     },
     "execution_count": 507,
     "metadata": {},
     "output_type": "execute_result"
    }
   ],
   "source": [
    "df.describe()"
   ]
  },
  {
   "cell_type": "markdown",
   "metadata": {},
   "source": [
    "dropping column which are not cause but results of accidents"
   ]
  },
  {
   "cell_type": "code",
   "execution_count": 508,
   "metadata": {
    "collapsed": true
   },
   "outputs": [],
   "source": [
    "df.drop(['INJURIES','FATALITIES','AGENCY_NUM'],axis=1,inplace=True)"
   ]
  },
  {
   "cell_type": "markdown",
   "metadata": {},
   "source": [
    "<h4>Histogram & bar charts</h4>"
   ]
  },
  {
   "cell_type": "code",
   "execution_count": 509,
   "metadata": {
    "collapsed": false
   },
   "outputs": [
    {
     "data": {
      "image/png": "[encoded data removed]",
      "text/plain": [
       "<matplotlib.figure.Figure at 0x187082b8710>"
      ]
     },
     "metadata": {},
     "output_type": "display_data"
    }
   ],
   "source": [
    "column=\"MONTH\"\n",
    "plt.hist(df[column])\n",
    "plt.title(\"MONTH\")\n",
    "plt.xlabel(\"Value\")\n",
    "plt.ylabel(\"Frequency\")\n",
    "fig = plt.gcf()"
   ]
  },
  {
   "cell_type": "code",
   "execution_count": 510,
   "metadata": {
    "collapsed": false
   },
   "outputs": [
    {
     "data": {
      "image/png": "[encoded data removed]",
      "text/plain": [
       "<matplotlib.figure.Figure at 0x18704dc5eb8>"
      ]
     },
     "metadata": {},
     "output_type": "display_data"
    }
   ],
   "source": [
    "column=\"DAY\"\n",
    "plt.hist(df[column])\n",
    "plt.title(\"DAY\")\n",
    "plt.xlabel(\"Value\")\n",
    "plt.ylabel(\"Frequency\")\n",
    "fig = plt.gcf()"
   ]
  },
  {
   "cell_type": "code",
   "execution_count": 511,
   "metadata": {
    "collapsed": false
   },
   "outputs": [
    {
     "data": {
      "image/png": "[encoded data removed]",
      "text/plain": [
       "<matplotlib.figure.Figure at 0x187051d8358>"
      ]
     },
     "metadata": {},
     "output_type": "display_data"
    }
   ],
   "source": [
    "column=\"HOUR\"\n",
    "plt.hist(df[column])\n",
    "plt.title(\"HOUR\")\n",
    "plt.xlabel(\"Value\")\n",
    "plt.ylabel(\"Frequency\")\n",
    "fig = plt.gcf()"
   ]
  },
  {
   "cell_type": "code",
   "execution_count": 512,
   "metadata": {
    "collapsed": false
   },
   "outputs": [
    {
     "data": {
      "image/png": "[encoded data removed]",
      "text/plain": [
       "<matplotlib.figure.Figure at 0x18702723320>"
      ]
     },
     "metadata": {},
     "output_type": "display_data"
    }
   ],
   "source": [
    "column=\"COUNTY\"\n",
    "plt.hist(df[column])\n",
    "plt.title(\"COUNTY\")\n",
    "plt.xlabel(\"Value\")\n",
    "plt.ylabel(\"Frequency\")\n",
    "fig = plt.gcf()"
   ]
  },
  {
   "cell_type": "code",
   "execution_count": 513,
   "metadata": {
    "collapsed": false
   },
   "outputs": [
    {
     "data": {
      "image/png": "[encoded data removed]",
      "text/plain": [
       "<matplotlib.figure.Figure at 0x187027a6da0>"
      ]
     },
     "metadata": {},
     "output_type": "display_data"
    }
   ],
   "source": [
    "column=\"TS_ROUTE\"\n",
    "plt.hist(df[column])\n",
    "plt.title(\"TS_ROUTE\")\n",
    "plt.xlabel(\"Value\")\n",
    "plt.ylabel(\"Frequency\")\n",
    "fig = plt.gcf()"
   ]
  },
  {
   "cell_type": "code",
   "execution_count": 514,
   "metadata": {
    "collapsed": false
   },
   "outputs": [
    {
     "data": {
      "image/png": "[encoded data removed]",
      "text/plain": [
       "<matplotlib.figure.Figure at 0x18701b13f28>"
      ]
     },
     "metadata": {},
     "output_type": "display_data"
    }
   ],
   "source": [
    "column=\"MILE\"\n",
    "plt.hist(df[column])\n",
    "plt.title(\"MILE\")\n",
    "plt.xlabel(\"Value\")\n",
    "plt.ylabel(\"Frequency\")\n",
    "fig = plt.gcf()"
   ]
  },
  {
   "cell_type": "code",
   "execution_count": 515,
   "metadata": {
    "collapsed": false
   },
   "outputs": [
    {
     "data": {
      "image/png": "[encoded data removed]",
      "text/plain": [
       "<matplotlib.figure.Figure at 0x18705b999b0>"
      ]
     },
     "metadata": {},
     "output_type": "display_data"
    }
   ],
   "source": [
    "column=\"XCOORD\"\n",
    "plt.hist(df[column])\n",
    "plt.title(\"XCOORD\")\n",
    "plt.xlabel(\"Value\")\n",
    "plt.ylabel(\"Frequency\")\n",
    "fig = plt.gcf()"
   ]
  },
  {
   "cell_type": "code",
   "execution_count": 516,
   "metadata": {
    "collapsed": false
   },
   "outputs": [
    {
     "data": {
      "image/png": "[encoded data removed]",
      "text/plain": [
       "<matplotlib.figure.Figure at 0x18705923a90>"
      ]
     },
     "metadata": {},
     "output_type": "display_data"
    }
   ],
   "source": [
    "column=\"YCOORD\"\n",
    "plt.hist(df[column])\n",
    "plt.title(\"YCOORD\")\n",
    "plt.xlabel(\"Value\")\n",
    "plt.ylabel(\"Frequency\")\n",
    "fig = plt.gcf()"
   ]
  },
  {
   "cell_type": "markdown",
   "metadata": {},
   "source": [
    "<b>Looking at the columns</b>"
   ]
  },
  {
   "cell_type": "code",
   "execution_count": 517,
   "metadata": {
    "collapsed": false
   },
   "outputs": [
    {
     "data": {
      "text/plain": [
       "Index(['ROUTE', 'MONTH', 'DAY', 'HOUR', 'DAY_O_WEEK', 'NUM_VEH', 'COLL_TYPE',\n",
       "       'WEATHER', 'LIGHTING', 'SURF_COND', 'RD_DEFECT', 'RD_FEATURE',\n",
       "       'TRAF_CNTRL', 'COUNTY', 'TOWNSHIP', 'TS_ROUTE', 'MILE', 'CITY',\n",
       "       'DRIVER_1', 'VEH1_TYPE', 'VEH1_SPECL', 'VEH1_DIR', 'VEH1_MANUV',\n",
       "       'VEH1_EVNT1', 'VEH1_LOC1', 'VEH1_EVNT2', 'VEH1_LOC2', 'VEH1_EVNT3',\n",
       "       'VEH1_LOC3', 'DRIVER_2', 'VEH2_TYPE', 'VEH2_SPECL', 'VEH2_DIR',\n",
       "       'VEH2_MANUV', 'VEH2_EVNT1', 'VEH2_LOC1', 'VEH2_EVNT2', 'VEH2_LOC2',\n",
       "       'VEH2_EVNT3', 'VEH2_LOC3', 'DRIVER_3', 'VEH3_TYPE', 'VEH3_SPECL',\n",
       "       'VEH3_DIR', 'VEH3_MANUV', 'VEH3_EVNT1', 'VEH3_LOC1', 'VEH3_EVNT2',\n",
       "       'VEH3_LOC2', 'VEH3_EVNT3', 'VEH3_LOC3', 'DRIVER_4', 'VEH4_TYPE',\n",
       "       'VEH4_SPECL', 'VEH4_DIR', 'VEH4_MANUV', 'VEH4_EVNT1', 'VEH4_LOC1',\n",
       "       'VEH4_EVNT2', 'VEH4_LOC2', 'VEH4_EVNT3', 'VEH4_LOC3', 'DUP_CD',\n",
       "       'REC_TYPE', 'XCOORD', 'YCOORD', 'INTERSEC', 'RUNDATE', 'WorkZone',\n",
       "       'WorkZoneTy', 'WorkersPre', 'ExceedSpee', 'CellPhoneU'],\n",
       "      dtype='object')"
      ]
     },
     "execution_count": 517,
     "metadata": {},
     "output_type": "execute_result"
    }
   ],
   "source": [
    "df.columns"
   ]
  },
  {
   "cell_type": "markdown",
   "metadata": {},
   "source": [
    "<b>Checking data amount</b>"
   ]
  },
  {
   "cell_type": "code",
   "execution_count": 518,
   "metadata": {
    "collapsed": false
   },
   "outputs": [
    {
     "name": "stdout",
     "output_type": "stream",
     "text": [
      "292019\n"
     ]
    }
   ],
   "source": [
    "print(len( df))"
   ]
  },
  {
   "cell_type": "markdown",
   "metadata": {},
   "source": [
    "<b>Checking some stats of data</b>"
   ]
  },
  {
   "cell_type": "code",
   "execution_count": 519,
   "metadata": {
    "collapsed": false,
    "scrolled": true
   },
   "outputs": [
    {
     "data": {
      "text/html": [
       "<div>\n",
       "<table border=\"1\" class=\"dataframe\">\n",
       "  <thead>\n",
       "    <tr style=\"text-align: right;\">\n",
       "      <th></th>\n",
       "      <th>MONTH</th>\n",
       "      <th>DAY</th>\n",
       "      <th>HOUR</th>\n",
       "      <th>NUM_VEH</th>\n",
       "      <th>COUNTY</th>\n",
       "      <th>TS_ROUTE</th>\n",
       "      <th>MILE</th>\n",
       "      <th>DUP_CD</th>\n",
       "      <th>XCOORD</th>\n",
       "      <th>YCOORD</th>\n",
       "      <th>RUNDATE</th>\n",
       "    </tr>\n",
       "  </thead>\n",
       "  <tbody>\n",
       "    <tr>\n",
       "      <th>count</th>\n",
       "      <td>292019.000000</td>\n",
       "      <td>292019.000000</td>\n",
       "      <td>292019.000000</td>\n",
       "      <td>292019.000000</td>\n",
       "      <td>292019.000000</td>\n",
       "      <td>292019.000000</td>\n",
       "      <td>292019.000000</td>\n",
       "      <td>2.920190e+05</td>\n",
       "      <td>2.920190e+05</td>\n",
       "      <td>2.920190e+05</td>\n",
       "      <td>2.920190e+05</td>\n",
       "    </tr>\n",
       "    <tr>\n",
       "      <th>mean</th>\n",
       "      <td>6.438341</td>\n",
       "      <td>15.352614</td>\n",
       "      <td>13.017300</td>\n",
       "      <td>1.869991</td>\n",
       "      <td>36.611871</td>\n",
       "      <td>2013.419617</td>\n",
       "      <td>30.620734</td>\n",
       "      <td>3.681322e+08</td>\n",
       "      <td>2.807454e+06</td>\n",
       "      <td>1.712982e+06</td>\n",
       "      <td>2.016091e+09</td>\n",
       "    </tr>\n",
       "    <tr>\n",
       "      <th>std</th>\n",
       "      <td>3.571892</td>\n",
       "      <td>8.755899</td>\n",
       "      <td>5.594693</td>\n",
       "      <td>0.580815</td>\n",
       "      <td>28.735929</td>\n",
       "      <td>3089.644853</td>\n",
       "      <td>64.296513</td>\n",
       "      <td>2.875539e+08</td>\n",
       "      <td>2.241654e+05</td>\n",
       "      <td>4.066943e+05</td>\n",
       "      <td>0.000000e+00</td>\n",
       "    </tr>\n",
       "    <tr>\n",
       "      <th>min</th>\n",
       "      <td>1.000000</td>\n",
       "      <td>1.000000</td>\n",
       "      <td>0.000000</td>\n",
       "      <td>1.000000</td>\n",
       "      <td>1.000000</td>\n",
       "      <td>0.000000</td>\n",
       "      <td>0.000000</td>\n",
       "      <td>1.000000e+07</td>\n",
       "      <td>1.927759e+06</td>\n",
       "      <td>1.152106e+05</td>\n",
       "      <td>2.016091e+09</td>\n",
       "    </tr>\n",
       "    <tr>\n",
       "      <th>25%</th>\n",
       "      <td>3.000000</td>\n",
       "      <td>8.000000</td>\n",
       "      <td>9.000000</td>\n",
       "      <td>2.000000</td>\n",
       "      <td>16.000000</td>\n",
       "      <td>0.000000</td>\n",
       "      <td>0.000000</td>\n",
       "      <td>1.600000e+08</td>\n",
       "      <td>2.755127e+06</td>\n",
       "      <td>1.752016e+06</td>\n",
       "      <td>2.016091e+09</td>\n",
       "    </tr>\n",
       "    <tr>\n",
       "      <th>50%</th>\n",
       "      <td>6.000000</td>\n",
       "      <td>15.000000</td>\n",
       "      <td>14.000000</td>\n",
       "      <td>2.000000</td>\n",
       "      <td>16.000000</td>\n",
       "      <td>0.000000</td>\n",
       "      <td>0.000000</td>\n",
       "      <td>1.690941e+08</td>\n",
       "      <td>2.902607e+06</td>\n",
       "      <td>1.880197e+06</td>\n",
       "      <td>2.016091e+09</td>\n",
       "    </tr>\n",
       "    <tr>\n",
       "      <th>75%</th>\n",
       "      <td>10.000000</td>\n",
       "      <td>23.000000</td>\n",
       "      <td>17.000000</td>\n",
       "      <td>2.000000</td>\n",
       "      <td>54.000000</td>\n",
       "      <td>5025.000000</td>\n",
       "      <td>30.940000</td>\n",
       "      <td>5.420550e+08</td>\n",
       "      <td>2.963601e+06</td>\n",
       "      <td>1.935079e+06</td>\n",
       "      <td>2.016091e+09</td>\n",
       "    </tr>\n",
       "    <tr>\n",
       "      <th>max</th>\n",
       "      <td>12.000000</td>\n",
       "      <td>31.000000</td>\n",
       "      <td>23.000000</td>\n",
       "      <td>15.000000</td>\n",
       "      <td>102.000000</td>\n",
       "      <td>9474.000000</td>\n",
       "      <td>424.630000</td>\n",
       "      <td>1.029074e+09</td>\n",
       "      <td>3.051970e+06</td>\n",
       "      <td>2.130862e+06</td>\n",
       "      <td>2.016091e+09</td>\n",
       "    </tr>\n",
       "  </tbody>\n",
       "</table>\n",
       "</div>"
      ],
      "text/plain": [
       "               MONTH            DAY           HOUR        NUM_VEH  \\\n",
       "count  292019.000000  292019.000000  292019.000000  292019.000000   \n",
       "mean        6.438341      15.352614      13.017300       1.869991   \n",
       "std         3.571892       8.755899       5.594693       0.580815   \n",
       "min         1.000000       1.000000       0.000000       1.000000   \n",
       "25%         3.000000       8.000000       9.000000       2.000000   \n",
       "50%         6.000000      15.000000      14.000000       2.000000   \n",
       "75%        10.000000      23.000000      17.000000       2.000000   \n",
       "max        12.000000      31.000000      23.000000      15.000000   \n",
       "\n",
       "              COUNTY       TS_ROUTE           MILE        DUP_CD  \\\n",
       "count  292019.000000  292019.000000  292019.000000  2.920190e+05   \n",
       "mean       36.611871    2013.419617      30.620734  3.681322e+08   \n",
       "std        28.735929    3089.644853      64.296513  2.875539e+08   \n",
       "min         1.000000       0.000000       0.000000  1.000000e+07   \n",
       "25%        16.000000       0.000000       0.000000  1.600000e+08   \n",
       "50%        16.000000       0.000000       0.000000  1.690941e+08   \n",
       "75%        54.000000    5025.000000      30.940000  5.420550e+08   \n",
       "max       102.000000    9474.000000     424.630000  1.029074e+09   \n",
       "\n",
       "             XCOORD        YCOORD       RUNDATE  \n",
       "count  2.920190e+05  2.920190e+05  2.920190e+05  \n",
       "mean   2.807454e+06  1.712982e+06  2.016091e+09  \n",
       "std    2.241654e+05  4.066943e+05  0.000000e+00  \n",
       "min    1.927759e+06  1.152106e+05  2.016091e+09  \n",
       "25%    2.755127e+06  1.752016e+06  2.016091e+09  \n",
       "50%    2.902607e+06  1.880197e+06  2.016091e+09  \n",
       "75%    2.963601e+06  1.935079e+06  2.016091e+09  \n",
       "max    3.051970e+06  2.130862e+06  2.016091e+09  "
      ]
     },
     "execution_count": 519,
     "metadata": {},
     "output_type": "execute_result"
    }
   ],
   "source": [
    "df.describe()"
   ]
  },
  {
   "cell_type": "markdown",
   "metadata": {},
   "source": [
    "<b>Select Categorical columns</b>"
   ]
  },
  {
   "cell_type": "code",
   "execution_count": 520,
   "metadata": {
    "collapsed": false
   },
   "outputs": [
    {
     "data": {
      "text/plain": [
       "Index(['ROUTE', 'DAY_O_WEEK', 'COLL_TYPE', 'WEATHER', 'LIGHTING', 'SURF_COND',\n",
       "       'RD_DEFECT', 'RD_FEATURE', 'TRAF_CNTRL', 'TOWNSHIP', 'CITY', 'DRIVER_1',\n",
       "       'VEH1_TYPE', 'VEH1_SPECL', 'VEH1_DIR', 'VEH1_MANUV', 'VEH1_EVNT1',\n",
       "       'VEH1_LOC1', 'VEH1_EVNT2', 'VEH1_LOC2', 'VEH1_EVNT3', 'VEH1_LOC3',\n",
       "       'DRIVER_2', 'VEH2_TYPE', 'VEH2_SPECL', 'VEH2_DIR', 'VEH2_MANUV',\n",
       "       'VEH2_EVNT1', 'VEH2_LOC1', 'VEH2_EVNT2', 'VEH2_LOC2', 'VEH2_EVNT3',\n",
       "       'VEH2_LOC3', 'DRIVER_3', 'VEH3_TYPE', 'VEH3_SPECL', 'VEH3_DIR',\n",
       "       'VEH3_MANUV', 'VEH3_EVNT1', 'VEH3_LOC1', 'VEH3_EVNT2', 'VEH3_LOC2',\n",
       "       'VEH3_EVNT3', 'VEH3_LOC3', 'DRIVER_4', 'VEH4_TYPE', 'VEH4_SPECL',\n",
       "       'VEH4_DIR', 'VEH4_MANUV', 'VEH4_EVNT1', 'VEH4_LOC1', 'VEH4_EVNT2',\n",
       "       'VEH4_LOC2', 'VEH4_EVNT3', 'VEH4_LOC3', 'REC_TYPE', 'INTERSEC',\n",
       "       'WorkZone', 'WorkZoneTy', 'WorkersPre', 'ExceedSpee', 'CellPhoneU'],\n",
       "      dtype='object')"
      ]
     },
     "execution_count": 520,
     "metadata": {},
     "output_type": "execute_result"
    }
   ],
   "source": [
    "df.select_dtypes(['object']).columns"
   ]
  },
  {
   "cell_type": "markdown",
   "metadata": {},
   "source": [
    "<b>Looking at Stats of Categorical Columns</b>"
   ]
  },
  {
   "cell_type": "code",
   "execution_count": 521,
   "metadata": {
    "collapsed": false
   },
   "outputs": [
    {
     "data": {
      "text/html": [
       "<div>\n",
       "<table border=\"1\" class=\"dataframe\">\n",
       "  <thead>\n",
       "    <tr style=\"text-align: right;\">\n",
       "      <th></th>\n",
       "      <th>ROUTE</th>\n",
       "      <th>DAY_O_WEEK</th>\n",
       "      <th>COLL_TYPE</th>\n",
       "      <th>WEATHER</th>\n",
       "      <th>LIGHTING</th>\n",
       "      <th>SURF_COND</th>\n",
       "      <th>RD_DEFECT</th>\n",
       "      <th>RD_FEATURE</th>\n",
       "      <th>TRAF_CNTRL</th>\n",
       "      <th>TOWNSHIP</th>\n",
       "      <th>...</th>\n",
       "      <th>VEH4_LOC2</th>\n",
       "      <th>VEH4_EVNT3</th>\n",
       "      <th>VEH4_LOC3</th>\n",
       "      <th>REC_TYPE</th>\n",
       "      <th>INTERSEC</th>\n",
       "      <th>WorkZone</th>\n",
       "      <th>WorkZoneTy</th>\n",
       "      <th>WorkersPre</th>\n",
       "      <th>ExceedSpee</th>\n",
       "      <th>CellPhoneU</th>\n",
       "    </tr>\n",
       "  </thead>\n",
       "  <tbody>\n",
       "    <tr>\n",
       "      <th>count</th>\n",
       "      <td>113528</td>\n",
       "      <td>292019</td>\n",
       "      <td>292019</td>\n",
       "      <td>284145</td>\n",
       "      <td>285219</td>\n",
       "      <td>281465</td>\n",
       "      <td>254945</td>\n",
       "      <td>292019</td>\n",
       "      <td>287605</td>\n",
       "      <td>292019</td>\n",
       "      <td>...</td>\n",
       "      <td>195</td>\n",
       "      <td>25</td>\n",
       "      <td>24</td>\n",
       "      <td>291902</td>\n",
       "      <td>292019</td>\n",
       "      <td>292019</td>\n",
       "      <td>292019</td>\n",
       "      <td>292019</td>\n",
       "      <td>292019</td>\n",
       "      <td>292019</td>\n",
       "    </tr>\n",
       "    <tr>\n",
       "      <th>unique</th>\n",
       "      <td>242</td>\n",
       "      <td>7</td>\n",
       "      <td>15</td>\n",
       "      <td>8</td>\n",
       "      <td>5</td>\n",
       "      <td>6</td>\n",
       "      <td>6</td>\n",
       "      <td>4</td>\n",
       "      <td>14</td>\n",
       "      <td>82</td>\n",
       "      <td>...</td>\n",
       "      <td>5</td>\n",
       "      <td>6</td>\n",
       "      <td>4</td>\n",
       "      <td>5</td>\n",
       "      <td>2</td>\n",
       "      <td>2</td>\n",
       "      <td>5</td>\n",
       "      <td>2</td>\n",
       "      <td>2</td>\n",
       "      <td>2</td>\n",
       "    </tr>\n",
       "    <tr>\n",
       "      <th>top</th>\n",
       "      <td>I 094</td>\n",
       "      <td>Fri</td>\n",
       "      <td>Rear End</td>\n",
       "      <td>Clear</td>\n",
       "      <td>Daylight</td>\n",
       "      <td>Dry</td>\n",
       "      <td>No Defects</td>\n",
       "      <td>Not Applicable</td>\n",
       "      <td>No Controls</td>\n",
       "      <td>0</td>\n",
       "      <td>...</td>\n",
       "      <td>On Pavement (Roadway)</td>\n",
       "      <td>Motor Vehicle In Traffic</td>\n",
       "      <td>On Pavement (Roadway)</td>\n",
       "      <td>PD</td>\n",
       "      <td>N</td>\n",
       "      <td>N</td>\n",
       "      <td>(N/A)</td>\n",
       "      <td>N</td>\n",
       "      <td>N</td>\n",
       "      <td>N</td>\n",
       "    </tr>\n",
       "    <tr>\n",
       "      <th>freq</th>\n",
       "      <td>6997</td>\n",
       "      <td>48324</td>\n",
       "      <td>84641</td>\n",
       "      <td>225001</td>\n",
       "      <td>189318</td>\n",
       "      <td>201751</td>\n",
       "      <td>246404</td>\n",
       "      <td>283737</td>\n",
       "      <td>142722</td>\n",
       "      <td>89680</td>\n",
       "      <td>...</td>\n",
       "      <td>151</td>\n",
       "      <td>17</td>\n",
       "      <td>10</td>\n",
       "      <td>230557</td>\n",
       "      <td>190866</td>\n",
       "      <td>287598</td>\n",
       "      <td>287764</td>\n",
       "      <td>290608</td>\n",
       "      <td>289222</td>\n",
       "      <td>292009</td>\n",
       "    </tr>\n",
       "  </tbody>\n",
       "</table>\n",
       "<p>4 rows × 62 columns</p>\n",
       "</div>"
      ],
      "text/plain": [
       "         ROUTE DAY_O_WEEK COLL_TYPE WEATHER  LIGHTING SURF_COND   RD_DEFECT  \\\n",
       "count   113528     292019    292019  284145    285219    281465      254945   \n",
       "unique     242          7        15       8         5         6           6   \n",
       "top      I 094        Fri  Rear End   Clear  Daylight       Dry  No Defects   \n",
       "freq      6997      48324     84641  225001    189318    201751      246404   \n",
       "\n",
       "            RD_FEATURE   TRAF_CNTRL  TOWNSHIP    ...      \\\n",
       "count           292019       287605    292019    ...       \n",
       "unique               4           14        82    ...       \n",
       "top     Not Applicable  No Controls         0    ...       \n",
       "freq            283737       142722     89680    ...       \n",
       "\n",
       "                    VEH4_LOC2                VEH4_EVNT3  \\\n",
       "count                     195                        25   \n",
       "unique                      5                         6   \n",
       "top     On Pavement (Roadway)  Motor Vehicle In Traffic   \n",
       "freq                      151                        17   \n",
       "\n",
       "                    VEH4_LOC3 REC_TYPE INTERSEC WorkZone WorkZoneTy  \\\n",
       "count                      24   291902   292019   292019     292019   \n",
       "unique                      4        5        2        2          5   \n",
       "top     On Pavement (Roadway)       PD        N        N      (N/A)   \n",
       "freq                       10   230557   190866   287598     287764   \n",
       "\n",
       "       WorkersPre ExceedSpee CellPhoneU  \n",
       "count      292019     292019     292019  \n",
       "unique          2          2          2  \n",
       "top             N          N          N  \n",
       "freq       290608     289222     292009  \n",
       "\n",
       "[4 rows x 62 columns]"
      ]
     },
     "execution_count": 521,
     "metadata": {},
     "output_type": "execute_result"
    }
   ],
   "source": [
    "df.select_dtypes(['object']).describe()"
   ]
  },
  {
   "cell_type": "markdown",
   "metadata": {},
   "source": [
    "<b>Looking Specifically at the Target</b>"
   ]
  },
  {
   "cell_type": "code",
   "execution_count": 522,
   "metadata": {
    "collapsed": false
   },
   "outputs": [
    {
     "data": {
      "text/plain": [
       "count    292019.000000\n",
       "mean          1.869991\n",
       "std           0.580815\n",
       "min           1.000000\n",
       "25%           2.000000\n",
       "50%           2.000000\n",
       "75%           2.000000\n",
       "max          15.000000\n",
       "Name: NUM_VEH, dtype: float64"
      ]
     },
     "execution_count": 522,
     "metadata": {},
     "output_type": "execute_result"
    }
   ],
   "source": [
    "df['NUM_VEH'].describe()"
   ]
  },
  {
   "cell_type": "code",
   "execution_count": 523,
   "metadata": {
    "collapsed": false
   },
   "outputs": [
    {
     "data": {
      "text/plain": [
       "array([ 1,  2,  8,  3,  4,  5,  6,  7,  9, 10, 15, 11, 12, 13], dtype=int64)"
      ]
     },
     "execution_count": 523,
     "metadata": {},
     "output_type": "execute_result"
    }
   ],
   "source": [
    "df['NUM_VEH'].unique()"
   ]
  },
  {
   "cell_type": "markdown",
   "metadata": {},
   "source": [
    "<b>Looking at Count of each class to ensure good data for each side.</b>"
   ]
  },
  {
   "cell_type": "code",
   "execution_count": 524,
   "metadata": {
    "collapsed": false
   },
   "outputs": [
    {
     "data": {
      "text/plain": [
       "2     206213\n",
       "1      64244\n",
       "3      17933\n",
       "4       2893\n",
       "5        526\n",
       "6        141\n",
       "7         37\n",
       "8         13\n",
       "9         10\n",
       "11         3\n",
       "10         3\n",
       "15         1\n",
       "13         1\n",
       "12         1\n",
       "dtype: int64"
      ]
     },
     "execution_count": 524,
     "metadata": {},
     "output_type": "execute_result"
    }
   ],
   "source": [
    "pd.value_counts(df['NUM_VEH'].values, sort=True)"
   ]
  },
  {
   "cell_type": "markdown",
   "metadata": {},
   "source": [
    "<b>As Said We will make it bianary at > 1</b>"
   ]
  },
  {
   "cell_type": "code",
   "execution_count": 525,
   "metadata": {
    "collapsed": false
   },
   "outputs": [],
   "source": [
    "df['NUM_VEH'] =np.where(df['NUM_VEH']>1, 1, 0)"
   ]
  },
  {
   "cell_type": "code",
   "execution_count": 526,
   "metadata": {
    "collapsed": false
   },
   "outputs": [
    {
     "data": {
      "text/plain": [
       "1    227775\n",
       "0     64244\n",
       "dtype: int64"
      ]
     },
     "execution_count": 526,
     "metadata": {},
     "output_type": "execute_result"
    }
   ],
   "source": [
    "pd.value_counts(df['NUM_VEH'].values, sort=True)"
   ]
  },
  {
   "cell_type": "markdown",
   "metadata": {},
   "source": [
    "<b>Checking what would a basic guess would look like</b>"
   ]
  },
  {
   "cell_type": "code",
   "execution_count": 527,
   "metadata": {
    "collapsed": false
   },
   "outputs": [
    {
     "name": "stdout",
     "output_type": "stream",
     "text": [
      "0.780000616398248\n"
     ]
    }
   ],
   "source": [
    "#if always 1\n",
    "prob=227775/(64244+227775)\n",
    "print(prob)"
   ]
  },
  {
   "cell_type": "markdown",
   "metadata": {},
   "source": [
    "<b>Looking at stats of The target</b>"
   ]
  },
  {
   "cell_type": "code",
   "execution_count": 528,
   "metadata": {
    "collapsed": false
   },
   "outputs": [
    {
     "data": {
      "text/plain": [
       "count    292019.000000\n",
       "mean          0.780001\n",
       "std           0.413910\n",
       "min           0.000000\n",
       "25%           1.000000\n",
       "50%           1.000000\n",
       "75%           1.000000\n",
       "max           1.000000\n",
       "Name: NUM_VEH, dtype: float64"
      ]
     },
     "execution_count": 528,
     "metadata": {},
     "output_type": "execute_result"
    }
   ],
   "source": [
    "df['NUM_VEH'].describe()"
   ]
  },
  {
   "cell_type": "code",
   "execution_count": 529,
   "metadata": {
    "collapsed": false
   },
   "outputs": [
    {
     "data": {
      "text/html": [
       "<div>\n",
       "<table border=\"1\" class=\"dataframe\">\n",
       "  <thead>\n",
       "    <tr style=\"text-align: right;\">\n",
       "      <th></th>\n",
       "      <th>ROUTE</th>\n",
       "      <th>DAY_O_WEEK</th>\n",
       "      <th>COLL_TYPE</th>\n",
       "      <th>WEATHER</th>\n",
       "      <th>LIGHTING</th>\n",
       "      <th>SURF_COND</th>\n",
       "      <th>RD_DEFECT</th>\n",
       "      <th>RD_FEATURE</th>\n",
       "      <th>TRAF_CNTRL</th>\n",
       "      <th>TOWNSHIP</th>\n",
       "      <th>...</th>\n",
       "      <th>VEH4_LOC2</th>\n",
       "      <th>VEH4_EVNT3</th>\n",
       "      <th>VEH4_LOC3</th>\n",
       "      <th>REC_TYPE</th>\n",
       "      <th>INTERSEC</th>\n",
       "      <th>WorkZone</th>\n",
       "      <th>WorkZoneTy</th>\n",
       "      <th>WorkersPre</th>\n",
       "      <th>ExceedSpee</th>\n",
       "      <th>CellPhoneU</th>\n",
       "    </tr>\n",
       "  </thead>\n",
       "  <tbody>\n",
       "    <tr>\n",
       "      <th>count</th>\n",
       "      <td>113528</td>\n",
       "      <td>292019</td>\n",
       "      <td>292019</td>\n",
       "      <td>284145</td>\n",
       "      <td>285219</td>\n",
       "      <td>281465</td>\n",
       "      <td>254945</td>\n",
       "      <td>292019</td>\n",
       "      <td>287605</td>\n",
       "      <td>292019</td>\n",
       "      <td>...</td>\n",
       "      <td>195</td>\n",
       "      <td>25</td>\n",
       "      <td>24</td>\n",
       "      <td>291902</td>\n",
       "      <td>292019</td>\n",
       "      <td>292019</td>\n",
       "      <td>292019</td>\n",
       "      <td>292019</td>\n",
       "      <td>292019</td>\n",
       "      <td>292019</td>\n",
       "    </tr>\n",
       "    <tr>\n",
       "      <th>unique</th>\n",
       "      <td>242</td>\n",
       "      <td>7</td>\n",
       "      <td>15</td>\n",
       "      <td>8</td>\n",
       "      <td>5</td>\n",
       "      <td>6</td>\n",
       "      <td>6</td>\n",
       "      <td>4</td>\n",
       "      <td>14</td>\n",
       "      <td>82</td>\n",
       "      <td>...</td>\n",
       "      <td>5</td>\n",
       "      <td>6</td>\n",
       "      <td>4</td>\n",
       "      <td>5</td>\n",
       "      <td>2</td>\n",
       "      <td>2</td>\n",
       "      <td>5</td>\n",
       "      <td>2</td>\n",
       "      <td>2</td>\n",
       "      <td>2</td>\n",
       "    </tr>\n",
       "    <tr>\n",
       "      <th>top</th>\n",
       "      <td>I 094</td>\n",
       "      <td>Fri</td>\n",
       "      <td>Rear End</td>\n",
       "      <td>Clear</td>\n",
       "      <td>Daylight</td>\n",
       "      <td>Dry</td>\n",
       "      <td>No Defects</td>\n",
       "      <td>Not Applicable</td>\n",
       "      <td>No Controls</td>\n",
       "      <td>0</td>\n",
       "      <td>...</td>\n",
       "      <td>On Pavement (Roadway)</td>\n",
       "      <td>Motor Vehicle In Traffic</td>\n",
       "      <td>On Pavement (Roadway)</td>\n",
       "      <td>PD</td>\n",
       "      <td>N</td>\n",
       "      <td>N</td>\n",
       "      <td>(N/A)</td>\n",
       "      <td>N</td>\n",
       "      <td>N</td>\n",
       "      <td>N</td>\n",
       "    </tr>\n",
       "    <tr>\n",
       "      <th>freq</th>\n",
       "      <td>6997</td>\n",
       "      <td>48324</td>\n",
       "      <td>84641</td>\n",
       "      <td>225001</td>\n",
       "      <td>189318</td>\n",
       "      <td>201751</td>\n",
       "      <td>246404</td>\n",
       "      <td>283737</td>\n",
       "      <td>142722</td>\n",
       "      <td>89680</td>\n",
       "      <td>...</td>\n",
       "      <td>151</td>\n",
       "      <td>17</td>\n",
       "      <td>10</td>\n",
       "      <td>230557</td>\n",
       "      <td>190866</td>\n",
       "      <td>287598</td>\n",
       "      <td>287764</td>\n",
       "      <td>290608</td>\n",
       "      <td>289222</td>\n",
       "      <td>292009</td>\n",
       "    </tr>\n",
       "  </tbody>\n",
       "</table>\n",
       "<p>4 rows × 62 columns</p>\n",
       "</div>"
      ],
      "text/plain": [
       "         ROUTE DAY_O_WEEK COLL_TYPE WEATHER  LIGHTING SURF_COND   RD_DEFECT  \\\n",
       "count   113528     292019    292019  284145    285219    281465      254945   \n",
       "unique     242          7        15       8         5         6           6   \n",
       "top      I 094        Fri  Rear End   Clear  Daylight       Dry  No Defects   \n",
       "freq      6997      48324     84641  225001    189318    201751      246404   \n",
       "\n",
       "            RD_FEATURE   TRAF_CNTRL  TOWNSHIP    ...      \\\n",
       "count           292019       287605    292019    ...       \n",
       "unique               4           14        82    ...       \n",
       "top     Not Applicable  No Controls         0    ...       \n",
       "freq            283737       142722     89680    ...       \n",
       "\n",
       "                    VEH4_LOC2                VEH4_EVNT3  \\\n",
       "count                     195                        25   \n",
       "unique                      5                         6   \n",
       "top     On Pavement (Roadway)  Motor Vehicle In Traffic   \n",
       "freq                      151                        17   \n",
       "\n",
       "                    VEH4_LOC3 REC_TYPE INTERSEC WorkZone WorkZoneTy  \\\n",
       "count                      24   291902   292019   292019     292019   \n",
       "unique                      4        5        2        2          5   \n",
       "top     On Pavement (Roadway)       PD        N        N      (N/A)   \n",
       "freq                       10   230557   190866   287598     287764   \n",
       "\n",
       "       WorkersPre ExceedSpee CellPhoneU  \n",
       "count      292019     292019     292019  \n",
       "unique          2          2          2  \n",
       "top             N          N          N  \n",
       "freq       290608     289222     292009  \n",
       "\n",
       "[4 rows x 62 columns]"
      ]
     },
     "execution_count": 529,
     "metadata": {},
     "output_type": "execute_result"
    }
   ],
   "source": [
    "df.select_dtypes(['object']).describe()"
   ]
  },
  {
   "cell_type": "markdown",
   "metadata": {},
   "source": [
    "### Now I will handle categorical values "
   ]
  },
  {
   "cell_type": "code",
   "execution_count": 530,
   "metadata": {
    "collapsed": true
   },
   "outputs": [],
   "source": [
    "categoricalColumns=['ROUTE','VEH1_TYPE', 'DAY_O_WEEK', 'WEATHER', 'LIGHTING', 'SURF_COND',\n",
    "       'RD_DEFECT', 'RD_FEATURE', 'TRAF_CNTRL', 'CITY', 'DRIVER_1',\n",
    "        'VEH1_DIR', 'VEH1_MANUV', 'VEH1_EVNT1','INTERSEC', 'WorkZone', 'WorkZoneTy', 'WorkersPre',\n",
    "       'ExceedSpee', 'CellPhoneU']"
   ]
  },
  {
   "cell_type": "markdown",
   "metadata": {},
   "source": [
    "<b>Dropping Rows with NA in them</b>"
   ]
  },
  {
   "cell_type": "code",
   "execution_count": 531,
   "metadata": {
    "collapsed": false
   },
   "outputs": [],
   "source": [
    "df[categoricalColumns]=df[categoricalColumns].dropna(axis=0)"
   ]
  },
  {
   "cell_type": "markdown",
   "metadata": {},
   "source": [
    "<b>Analysing Each Categorical Column by their values and Types</b>"
   ]
  },
  {
   "cell_type": "code",
   "execution_count": 532,
   "metadata": {
    "collapsed": false
   },
   "outputs": [
    {
     "name": "stdout",
     "output_type": "stream",
     "text": [
      "ROUTE\n",
      "[nan 'IL084' 'I 088' 'IL035' 'I 090' 'US020' 'US012' 'IL003' 'IL150'\n",
      " 'IL013' 'IL004' 'IL156' 'IL015' 'IL159' 'IL154' 'IL155' 'IL096' 'US054'\n",
      " 'IL100' 'IL107' 'I 072' 'IL106' 'IL016' 'IL108' 'IL111' 'US067' 'IL109'\n",
      " 'IL267' 'IL078' 'I 072B' 'IL104' 'I 055' 'IL138' 'I 255' 'I 064' 'I 070'\n",
      " 'IL203' 'IL158' 'IL015*' 'IL157' 'US050' 'IL140' 'IL255' 'I 270' 'IL143'\n",
      " 'IL162' 'US040' 'IL161' 'IL163' 'IL159*' 'IL111*' 'IL177' 'IL160' 'IL127'\n",
      " 'IL185' 'I 057' 'US051' 'IL037' 'US051*' 'IL161*' 'IL048' 'IL029' 'I 055B'\n",
      " 'IL128' 'IL121' 'IL033' 'US045' 'IL032' 'IL133' 'IL049' 'IL130' 'IL250'\n",
      " 'US045*' 'I 024' 'IL146' 'IL147' 'IL166' 'IL148' 'IL169' 'US060' 'IL151'\n",
      " 'IL149' 'IL152' 'IL153' 'IL142' 'IL014' 'IL013*' 'IL184' 'IL034' 'IL014*'\n",
      " 'IL001' 'IL242' 'IL141' 'IL142*' 'IL145' 'US024' 'I 172' 'US024*' 'IL057*'\n",
      " 'IL057' 'IL110' 'IL061' 'IL094' 'US136' 'IL099' 'IL101' 'IL103' 'IL135'\n",
      " 'US034' 'IL009' 'IL164' 'IL116' 'IL097' 'IL041' 'IL095' 'I 074' 'US150'\n",
      " 'IL167' 'IL091' 'IL017' 'IL090' 'IL008' 'IL180' 'IL125' 'IL010' 'IL123'\n",
      " 'IL092' 'I 280' 'IL192' 'US052' 'IL073' 'US030' 'IL026' 'IL072' 'US020B'\n",
      " 'IL040' 'IL136' 'IL005' 'I 080' 'US006' 'IL082' 'IL081' 'IL092*' 'US067*'\n",
      " 'IL002' 'IL002*' 'IL172' 'IL040*' 'IL093' 'IL173' 'IL076' 'I 180' 'IL071'\n",
      " 'IL089' 'US052*' 'IL251' 'I 039' 'IL023' 'IL023*' 'IL178' 'IL351' 'IL038'\n",
      " 'IL064' 'IL075' 'IL070' 'IL075*' 'IL251*' 'US020*' 'IL047' 'IL031' 'IL056'\n",
      " 'IL025' 'IL176' 'US014' 'IL120' 'IL062' 'IL022' 'IL060' 'IL059' 'IL083'\n",
      " 'IL134' 'IL132' 'I 094' 'IL021' 'US041' 'IL137' 'IL131' 'IL043' 'IL053'\n",
      " 'I 294' 'IL019' 'I 355' 'IL025*' 'IL058' 'IL068' 'I 290' 'I 190' 'IL058*'\n",
      " 'IL171' 'IL113' 'IL170' 'IL031*' 'IL126' 'IL007' 'US006*' 'US030*'\n",
      " 'IL053*' 'IL126*' 'IL102' 'IL129' 'IL050' 'IL050*' 'IL122' 'IL054' 'IL124'\n",
      " 'I 055B*' 'IL097*' 'I 155' 'US051B' 'US036' 'IL105' 'IL098' 'IL009*'\n",
      " 'IL029*' 'I 474' 'IL008*' 'IL116*' 'IL006' 'US024B' 'IL117' 'IL018'\n",
      " 'IL018*' 'IL165' 'US150*' 'IL115' 'IL119' 'IL394' 'IL114' 'US041*'\n",
      " 'US050B']\n",
      "MONTH\n",
      "[ 3  1  5  4  2  6  7  8  9 10 11 12]\n",
      "DAY\n",
      "[ 5 19  9 10 28 18 14 24  7 31  1  3  6 16  8 17 30 12 22 23 29  2 13 15 27\n",
      " 25 11 26  4 21 20]\n",
      "HOUR\n",
      "[12  6 21 14 17 11  3  8 20  9 23 18  0 19 13  5 22  7  1 10 16  4 15  2]\n",
      "DAY_O_WEEK\n",
      "[nan 'Sat' 'Tue' 'Wed' 'Mon' 'Sun' 'Fri' 'Thu']\n",
      "NUM_VEH\n",
      "[0 1]\n",
      "COLL_TYPE\n",
      "['Other Object' 'Fixed Object' 'Other Non-Collision' 'Rear End'\n",
      " 'Sideswipe Same Direction' 'Overturned' 'Animal' 'Parked Motor Vehicle'\n",
      " 'Angle' 'Turning' 'Sideswipe Opposite Direction' 'Pedestrian' 'Head On'\n",
      " 'Pedalcyclist' 'Train']\n",
      "WEATHER\n",
      "[nan 'Clear' 'Fog/Smoke/Haze' 'Snow' 'Rain' 'Sleet/Hail' 'Cloudy/Overcast'\n",
      " 'Other' 'Severe Cross Wind']\n",
      "LIGHTING\n",
      "[nan 'Daylight' 'Darkness' 'Darkness, Lighted Road' 'Dusk' 'Dawn']\n",
      "SURF_COND\n",
      "[nan 'Dry' 'Ice' 'Wet' 'Snow or Slush' 'Sand, Mud, Dirt' 'Other']\n",
      "RD_DEFECT\n",
      "[nan 'No Defects' 'Shoulders' 'Rut, Holes' 'Debris On Roadway' 'Other'\n",
      " 'Worn Surface']\n",
      "RD_FEATURE\n",
      "[nan 'Not Applicable' 'Bridge' 'Underpass']\n",
      "TRAF_CNTRL\n",
      "[nan 'No Controls' 'No Passing' 'Lane Use Marking' 'Other Regualtory Sig'\n",
      " 'Traffic Signal' 'Stop Sign/Flasher' 'Other' 'Yield' 'Other Warning Sign'\n",
      " 'Police/Flagman' 'Delineators' 'School Zone' 'RR Crossing Gate'\n",
      " 'Other RR Crossing']\n",
      "COUNTY\n",
      "[ 43  16  81  98   7  67  79  82  95  75  86  31  42  59  69  84  68  60\n",
      "  14   3  26  61  25  41  11  87  58  70  18  15  21  23  12  17  40  80\n",
      "  24  96  13  93   2  91  44 100  77  64  39  73  28  83  33  97  30  76\n",
      "  35   1  34  55  85   5  94  36  66  48  29  50  72  88  90   9  63  65\n",
      "   8  89  71  37   6 101  99   4  46  78  62  52  19  56  45  49  22  32\n",
      "  47  10  57  92 102  27  54  20  53  38  74  51]\n",
      "TOWNSHIP\n",
      "[5 0 8 1 4 7 16 3 2 14 10 11 6 9 13 20 21 18 22 24 17 12 15 23 26 54 25 27\n",
      " 19 55 59 95 52 '16' '11' '14' '02' '01' '09' '15' '03' '13' '10' '08' '07'\n",
      " '05' '04' '12' '00' '06' 'DY' '19' '20' '22' '21' '17' '23' '18' '24' '25'\n",
      " 62 56 33 31 37 32 28 34 30 36 35 29 68 96 79 97 98 64 38 58 99 73]\n",
      "TS_ROUTE\n",
      "[   0 5084 9088 5035 1012 9090 1020 1041 5003 5150 5013 5004 5156 5015 5159\n",
      " 5154 5155 5096 1054 5100 5107 9072 5106 5016 5108 1067 5111 5109 5267 5078\n",
      " 2072 5104 9055 5138 9255 9064 9070 5203 5157 5158 6015 1050 5140 9270 5255\n",
      " 5143 5162 1040 5161 5163 6159 6111 5177 5160 5127 5185 9057 1051 5037 4051\n",
      " 6161 5048 5029 2055 5128 5121 5033 1045 5032 5133 5049 5130 5250 4045 5146\n",
      " 9024 5147 5166 5148 5169 1060 1062 5151 5149 5152 5153 5014 5142 6013 5184\n",
      " 5034 6014 5001 5141 5242 6142 5145 1024 9172 4024 6057 5057 5110 5061 5094\n",
      " 1136 5099 5101 5103 5135 1034 5009 5164 5116 3067 5097 5041 5095 9074 1150\n",
      " 5167 5091 5017 5090 5008 5180 5125 5010 5123 5092 9280 5192 1052 5073 1030\n",
      " 5026 5072 3020 5040 5136 5005 9080 1006 5082 5081 6092 4067 5002 6002 5172\n",
      " 6040 5093 5173 5076 9180 5071 5089 4052 5251 9039 5023 6023 5178 5351 5038\n",
      " 5064 5075 5070 6075 6251 4020 5047 5031 5056 5025 5176 1014 5120 5062 5022\n",
      " 5060 5059 5083 5134 5132 9094 5021 5137 5131 5043 5053 9294 5019 9355 6025\n",
      " 5058 5068 9290 9190 6058 5171 5113 5170 6031 5126 5007 4006 4030 6053 6126\n",
      " 5102 5129 5050 6050 5122 5054 5124 7055 6097 9155 3051 1036 5105 5098 6009\n",
      " 6029 9474 6008 6116 5006 3024 5117 5018 6018 5165 4150 5115 5119 5394 5114\n",
      " 4041 3050 6001]\n",
      "MILE\n",
      "[   0.     30.16   15.22 ...,   63.72  155.15  140.17]\n",
      "CITY\n",
      "[nan 'Albany' 'Unincorporated' 'Chicago' 'East Dubuque' 'Cordova' 'Chester'\n",
      " 'St Libory' 'Waterloo' 'Sparta' 'Evansville' 'Marissa' 'Red Bud'\n",
      " 'Valmeyer' 'Prairie Du Rocher' 'New Athens' 'Baldwin' 'Ellis Grove'\n",
      " 'Pleasant Hill' 'Griggsville' 'Pittsfield' 'Detroit' 'Kampsville' 'Hardin'\n",
      " 'Barry' 'Kinderhook' 'Hull' 'Jerseyville' 'Greenfield' 'Carrollton'\n",
      " 'Jacksonville' 'So Jacksonville' 'Roodhouse' 'White Hall' 'Manchester'\n",
      " 'Chatham' 'Springfield' 'Auburn' 'Girard' 'Virden' 'Waverly' 'Thayer'\n",
      " 'Franklin' 'Palmyra' 'Carlinville' 'White City' 'Sawyerville' 'Mt Olive'\n",
      " 'Wilsonville' 'Benld' 'Hettick' 'Mt Clare' 'Gillespie' 'Royal Lakes'\n",
      " 'East Gillespie' 'Shipman' 'E St Louis' 'Columbia' 'Madison' 'Cahokia'\n",
      " 'Dupo' 'Granite City' 'Venice' 'Sauget' 'Fairmont' 'Brooklyn' 'Alton'\n",
      " 'Godfrey' 'Brighton' 'Grafton' 'Pontoon Beach' 'Collinsville'\n",
      " 'Glen Carbon' 'Edwardsville' 'Roxana' 'Maryville' 'Bethalto' 'Wood River'\n",
      " 'Hartford' 'Troy' 'South Roxana' 'East Alton' 'Bunker Hill' 'Staunton'\n",
      " 'Hamel' 'Livingston' 'Alhambra' 'Marine' 'Highland' 'St Jacob'\n",
      " 'Belleville' 'Swansea' 'Smithton' 'Millstadt' 'Freeburg' 'Fairview Hts'\n",
      " 'Washington Park' 'Caseyville' 'Centreville' 'Alorton' \"O'Fallon\" 'Shiloh'\n",
      " 'Mascoutah' 'New Baden' 'Lebanon' 'Fayetteville' 'Carlyle' 'Trenton'\n",
      " 'Okawville' 'Hoffman' 'Albers' 'Nashville' 'Addieville' 'Hoyleton'\n",
      " 'Aviston' 'Bartelso' 'New Minden' 'Breese' 'Pierron' 'Smithboro'\n",
      " 'Greenville' 'Mulberry Grove' 'Grantfork' 'Vandalia' 'St Elmo'\n",
      " 'Brownstown' 'Kinmundy' 'Alma' 'Patoka' 'Centralia' 'Salem' 'Sandoval'\n",
      " 'Wamac' 'Richview' 'Dix' 'Central City' 'Irvington' 'Odin' 'Litchfield'\n",
      " 'Hillsboro' 'Taylor Springs' 'Raymond' 'Nokomis' 'Coffeen' 'Butler' 'Witt'\n",
      " 'Schram City' 'Irving' 'Taylorville' 'Edinburg' 'Divernon' 'Kincaid'\n",
      " 'Rochester' 'Pawnee' 'Bulpitt' 'Morrisonville' 'Shelbyville' 'Macon'\n",
      " 'Owaneco' 'Stonington' 'Blue Mound' 'Dalton City' 'Tower Hill' 'Pana'\n",
      " 'Cowden' 'Bingham' 'Effingham' 'Sigel' 'Montrose' 'Teutopolis' 'Altamont'\n",
      " 'Neoga' 'Stewardson' 'Dieterich' 'Mattoon' 'Bethany' 'Windsor' 'Sullivan'\n",
      " 'Arthur' 'Lovington' 'Arcola' 'Charleston' 'Westfield' 'Ashmore' 'Brocton'\n",
      " 'Casey' 'Greenup' 'Wheeler' 'Albion' 'Fairfield' 'Noble' 'Olney' 'Mason'\n",
      " 'Clay City' 'Iuka' 'Sims' 'Parkersburg' 'Farina' 'Newton' 'Edgewood'\n",
      " 'Flora' 'Watson' 'Jeffersonville' 'Cisne' 'Louisville' 'Vienna' 'Anna'\n",
      " 'Makanda' 'Cairo' 'Alto Pass' 'Goreville' 'Mound City' 'Buncombe' 'Tamms'\n",
      " 'Grand Chain' 'Jonesboro' 'Karnak' 'Thebes' 'Grand Tower' 'E Cape'\n",
      " 'Steeleville' 'Murphysboro' 'Campbell Hill' 'Willisville' 'Vergennes'\n",
      " 'Percy' 'Carbondale' 'Pinckneyville' 'Cutler' 'Coulterville' 'Mt Vernon'\n",
      " 'Dubois' 'Benton' 'Sesser' 'Ina' 'Valier' 'DuQuoin' 'Bonnie' 'Tamaroa'\n",
      " 'Ashley' 'St Johns' 'Crainville' 'Carterville' 'Desoto' 'Hurst'\n",
      " 'Christopher' 'North City' 'Elkville' 'Zeigler' 'West Frankfort'\n",
      " 'West City' 'Buckner' 'Herrin' 'Marion' 'Whiteash' 'Johnston City'\n",
      " 'Energy' 'Harrisburg' 'Eldorado' 'McLeansboro' 'Carmi' 'Equality'\n",
      " 'Norris City' 'Galatia' 'Raleigh' 'Grayville' 'Shawneetown' 'Broughton'\n",
      " 'Belle Rive' 'Muddy' 'Dahlgren' 'Enfield' 'Old Shawneetown'\n",
      " 'Carrier Mills' 'Wayne City' 'Thompsonville' 'Omaha' 'New Haven' 'Keenes'\n",
      " 'Metropolis' 'Elizabethtown' 'New Burnside' 'Stonefort' 'Cave In Rock'\n",
      " 'Brookport' 'Quincy' 'Coatsburg' 'Payson' 'Mendon' 'Ursa' 'Liberty'\n",
      " 'Camp Point' 'Carthage' 'Hamilton' 'Lima' 'Loraine' 'Industry'\n",
      " 'Colchester' 'Golden' 'Augusta' 'Mt Sterling' 'Perry' 'Clayton'\n",
      " 'Versailles' 'Macomb' 'Good Hope' 'Nauvoo' 'Monmouth' 'Lomax' 'Biggsville'\n",
      " 'La Harpe' 'Pontoosuc' 'Blandinsville' 'Stronghurst' 'Dallas City'\n",
      " 'Gladstone' 'Roseville' 'London Mills' 'Bushnell' 'Cuba' 'Prairie City'\n",
      " 'Galesburg' 'Knoxville' 'Wataga' 'Abingdon' 'Altona' 'Oneida' 'Maquon'\n",
      " 'Brimfield' 'Wyoming' 'Princeville' 'Williamsfield' 'Toulon' 'Canton'\n",
      " 'Peoria' 'Bellevue' 'Farmington' 'Norris' 'St David' 'Mapleton'\n",
      " 'Hanna City' 'Banner' 'Yates City' 'Kingston Mines' 'Elmwood' 'Ashland'\n",
      " 'Beardstown' 'Table Grove' 'Meredosia' 'Havana' 'Petersburg' 'Rushville'\n",
      " 'Ipava' 'Bath' 'Virginia' 'Athens' 'Chandlerville' 'Kilbourne'\n",
      " 'Mason City' 'Lewistown' 'Oakford' 'Greenview' 'Rock Island' 'Aledo'\n",
      " 'Andalusia' 'Reynolds' 'Viola' 'Menominee' 'Galena' 'Savanna' 'Fulton'\n",
      " 'Milledgeville' 'Lanark' 'Mt Carroll' 'Lena' 'Elizabeth' 'Warren'\n",
      " 'Chadwick' 'Pearl City' 'Stockton' 'Hanover' 'Colona' 'Woodhull'\n",
      " 'Coal Valley' 'Milan' 'Geneseo' 'Moline' 'New Windsor' 'Silvis'\n",
      " 'Cambridge' 'Alpha' 'Andover' 'Orion' 'Carbon Cliff' 'East Moline'\n",
      " 'Hampton' 'Port Byron' 'Rapids City' 'Sterling' 'Morrison' 'Rock Falls'\n",
      " 'Prophetstown' 'Deer Grove' 'Kewanee' 'Galva' 'Mineral' 'Sheffield'\n",
      " 'Atkinson' 'Neponset' 'Buda' 'Annawan' 'Poplar Grove' 'Loves Park'\n",
      " 'Machesney Park' 'Capron' 'North Caledonia' 'Manhattan' 'Princeton' 'Ladd'\n",
      " 'Hollowayville' 'Hennepin' 'Depue' 'Bureau Junction' 'Mark' 'Bradford'\n",
      " 'Arlington' 'Wyanet' 'Spring Valley' 'Granville' 'Amboy' 'Lamoille'\n",
      " 'Dixon' 'Ohio' 'Sublette' 'Walnut' 'Shabbona' 'Mendota' 'Waterman' 'Peru'\n",
      " 'Ottawa' 'Lasalle' 'Utica' 'Oglesby' 'Tonica' 'McNabb' 'Streator' 'Cherry'\n",
      " 'Cedar Point' 'Dalzell' 'Grand Ridge' 'Forreston' 'Byron' 'Franklin Grove'\n",
      " 'Mt Morris' 'Oregon' 'Polo' 'Ashton' 'Leaf River' 'Rock City' 'Cedarville'\n",
      " 'Orangeville' 'Freeport' 'Davis' 'Durand' 'Winnebago' 'Rockford'\n",
      " 'Cherry Valley' 'New Millford' 'Roscoe' 'South Beloit' 'Rockton'\n",
      " 'Belvidere' 'Rochelle' 'Kingston' 'DeKalb' 'Stillman Valley' 'Creston'\n",
      " 'Davis Junction' 'Kirkland' 'Steward' 'Monroe Center' 'Hillcrest' 'Malta'\n",
      " 'Spring Grove' 'Elgin' 'Campton Hills' 'Fox Lake' 'Sycamore' 'Maple Park'\n",
      " 'Cortland' 'Virgil' 'Hampshire' 'Genoa' 'Huntley' 'Pingree Grove'\n",
      " 'Carpentersville' 'Gilberts' 'West Dundee' 'Algonquin' 'So Elgin'\n",
      " 'No Aurora' 'Geneva' 'St Charles' 'Aurora' 'Lily Lake' 'Batavia' 'Elburn'\n",
      " 'Wayne' 'Marengo' 'Harvard' 'McHenry' 'Ringwood' 'Richmond' 'Johnsburg'\n",
      " 'Hebron' 'Woodstock' 'Bull Valley' 'Lake In The Hills' 'Lakewood'\n",
      " 'Crystal Lake' 'Prairie Grove' 'Cary' 'Lake Barrington' 'Fox River Grove'\n",
      " 'Island Lake' 'Volo' 'Wauconda' 'Lakemoor' 'Hawthorn Woods' 'Round Lake'\n",
      " 'Round Lake Park' 'Mundelein' 'Barrington' 'Lake Zurich' 'Kildeer'\n",
      " 'Deer Park' 'Tower Lakes' 'N Barrington' 'Antioch' 'Lake Villa'\n",
      " 'Lindenhurst' 'Grayslake' 'Round Lake Bch' 'Hainesville' 'Gurnee'\n",
      " 'Third Lake' 'Waukegan' 'Old Mill Creek' 'Wadsworth' 'Beach Park' 'Zion'\n",
      " 'Winthrop Harbor' 'North Chicago' 'Park City' 'Long Grove' 'Buffalo Grove'\n",
      " 'Vernon Hills' 'Lincolnshire' 'Wheeling' 'Palatine' 'Indian Creek'\n",
      " 'Libertyville' 'Mettawa' 'Green Oaks' 'Lake Forest' 'Lake Bluff'\n",
      " 'Deerfield' 'Highland Park' 'Riverwoods' 'Bannockburn' 'Northbrook'\n",
      " 'West Chicago' 'Warrenville' 'Naperville' 'Bartlett' 'Carol Stream'\n",
      " 'Hanover Park' 'Roselle' 'Bloomingdale' 'Addison' 'Glendale Hts' 'Wheaton'\n",
      " 'Winfield' 'Glen Ellyn' 'Downers Grove' 'Lisle' 'Streamwood'\n",
      " 'Hoffman Estates' 'East Dundee' 'Barrington Hills' 'South Barrington'\n",
      " 'Schaumburg' 'Inverness' 'Itasca' 'Elk Grove' 'Rolling Meadows'\n",
      " 'Arlington Hts' 'Des Plaines' 'Mt Prospect' 'Bensenville' 'Prospect Hts'\n",
      " 'Glenview' 'Rosemont' 'Park Ridge' 'Niles' 'Morton Grove' 'Norridge'\n",
      " 'Lombard' 'Oak Brook' 'Oakbrook Terrace' 'Villa Park' 'Elmhurst'\n",
      " 'Westmont' 'Hinsdale' 'Wood Dale' 'North Lake' 'Berkeley' 'Franklin Park'\n",
      " 'Stone Park' 'Bellwood' 'Melrose Park' 'Schiller Park' 'River Grove'\n",
      " 'River Forest' 'Maywood' 'Westchester' 'Western Springs' 'LaGrange'\n",
      " 'LaGrange Park' 'Hillside' 'Forest Park' 'North Riverside' 'Broadview'\n",
      " 'Riverside' 'Lyons' 'Brookfield' 'Mccook' 'Gardner' 'Morris' 'Mazon'\n",
      " 'Marseilles' 'Seneca' 'Coal City' 'Channahon' 'Minooka' 'Somonauk'\n",
      " 'Newark' 'Sandwich' 'Plano' 'Big Rock' 'Hinckley' 'Yorkville' 'Montgomery'\n",
      " 'Sugar Grove' 'Oswego' 'Plainfield' 'Joliet' 'Shorewood' 'Romeoville'\n",
      " 'Crest Hill' 'Bolingbrook' 'Lockport' 'Rockdale' 'Woodridge' 'Darien'\n",
      " 'Lemont' 'Homer Glen' 'Burr Ridge' 'Willowbrook' 'Clarendon Hills'\n",
      " 'Countryside' 'Indian Head Park' 'Hodgkins' 'Summit' 'Bedford Park'\n",
      " 'Justice' 'Willow Springs' 'Hickory Hills' 'Orland Park' 'Palos Park'\n",
      " 'New Lenox' 'Mokena' 'Tinley Park' 'Orland Hills' 'Frankfort' 'Diamond'\n",
      " 'Braidwood' 'Braceville' 'Godley' 'Wilmington' 'Elwood' 'Bourbonnais'\n",
      " 'Bradley' 'Limestone' 'Manteno' 'Kankakee' 'Thomasboro' 'Mackinaw'\n",
      " 'Gifford' 'Spaulding' 'Williamsville' 'Cantrall' 'Riverton' 'Elkhart'\n",
      " 'Mt Pulaski' 'Broadwell' 'Sherman' 'Lincoln' 'Delavan' 'Green Valley'\n",
      " 'Hopedale' 'Clinton' 'Dewitt' 'Heyworth' 'Downs' 'McLean' 'Atlanta'\n",
      " 'Wapella' 'Forsyth' 'Decatur' 'Oreana' 'Latham' 'Warrensburg' 'Harristown'\n",
      " 'Maroa' 'Mt Zion' 'Long Creek' 'Morton' 'Pekin' 'Tremont' 'North Pekin'\n",
      " 'South Pekin' 'West Peoria' 'Creve Coeur' 'East Peoria' 'Bartonville'\n",
      " 'Marquette Hts' 'Peoria Hts' 'Germantown Hills' 'Washington' 'Eureka'\n",
      " 'Goodfield' 'Metamora' 'Chillicothe' 'Spring Bay' 'Bay View Gardens'\n",
      " 'Henry' 'Lacon' 'Sparland' 'Dunlap' 'Washburn' 'La Rose' 'Wenona'\n",
      " 'Lostant' 'Minonk' 'Roanoke' 'Magnolia' 'Rutland' 'Flanagan' 'Toluca'\n",
      " 'El Paso' 'Gridley' 'Lexington' 'Bloomington' 'Normal' 'Congerville'\n",
      " 'Hudson' 'Towanda' 'Chebanse' 'Sammons Point' 'Gilman' 'Sibley'\n",
      " 'Gibson City' 'Strawn' 'Pontiac' 'Paxton' 'Chenoa' 'Loda' 'Forrest'\n",
      " 'Fairbury' 'Clifton' 'Dwight' 'Herscher' 'Ashkum' 'Roberts' 'Saunemin'\n",
      " 'Onarga' 'Buckley' 'Rankin' 'Cissna Park' 'Danforth' 'Melvin' 'Piper City'\n",
      " 'Monticello' 'Bement' 'Cerro Gordo' 'Atwood' 'Cisco' 'Mahomet' 'Leroy'\n",
      " 'Farmer City' 'Bellflower' 'Bondville' 'Deland' 'Weldon' 'Champaign'\n",
      " 'Urbana' 'Savoy' 'Rantoul' 'Ludlow' 'St Joseph' 'Ogden' 'Camargo' 'Philo'\n",
      " 'Tuscola' 'Tolono' 'Homer' 'Pesotum' 'Villa Grove' 'Danville' 'Westville'\n",
      " 'Georgetown' 'Tilton' 'Chrisman' 'Belgium' 'Oakwood' 'Potomac' 'Rossville'\n",
      " 'Ridgefarm' 'Henning' 'Watseka' 'Hoopeston' 'Iroquois' 'St Anne' 'Donovan'\n",
      " 'Crescent City' 'Peotone' 'University Park' 'Crete' 'Sun River Terrace'\n",
      " 'Monee' 'Momence' 'Grant Park' 'Beecher' 'Matteson' 'Richton Park'\n",
      " 'Oak Forest' 'Markham' 'Midlothian' 'Country Club Hills' 'Hazelcrest'\n",
      " 'East Hazelcrest' 'Homewood' 'Posen' 'Harvey' 'Dixmoor' 'South Holland'\n",
      " 'Dolton' 'Phoenix' 'Glenwood' 'Thornton' 'Park Forest' 'South Chicago Hts'\n",
      " 'Steger' 'Chicago Hts' 'Olympia Fields' 'Palos Hts' 'Chicago Ridge'\n",
      " 'Worth' 'Bridgeview' 'Alsip' 'Palos Hills' 'Oak Lawn' 'Crestwood'\n",
      " 'Robbins' 'Forestview' 'Evergreen Park' 'Hometown' 'Burbank' 'Riverdale'\n",
      " 'Calumet Park' 'Blue Island' 'Calumet City' 'Ford Heights' 'Sauk Village'\n",
      " 'Lynnwood' 'Lansing' 'Berwyn' 'Stickney' 'Oak Park' 'Cicero'\n",
      " 'Elmwood Park' 'Harwood Hts' 'Skokie' 'Lincolnwood' 'Glencoe' 'Wilmette'\n",
      " 'Northfield' 'Robinson' 'Oblong' 'Lawrenceville' 'Sumner' 'Paris'\n",
      " 'Flat Rock' 'Marshall' 'Mt Carmel' 'Stoy' 'Palestine' 'Martinsville']\n",
      "DRIVER_1\n",
      "[nan 'Normal' 'Other/Unknown' 'Removed By EMS' 'Alcohol Impaired'\n",
      " 'Fatigued' 'Had Been Drinking' 'Emotional' 'Drug Impaired' 'Other'\n",
      " 'Illness' 'Medicated' 'Not Reported']\n",
      "VEH1_TYPE\n",
      "[nan 'Passenger' 'Pickup' 'Van/Mini-Van' 'Motorcycle (Over 150cc)' 'SUV'\n",
      " 'Tractor With Semi-Trailer' 'Unknown' 'Truck Single Unit' 'Other'\n",
      " 'Motor Driven Cycle' 'Farm Equipment' 'Other Vehicle With Trailer'\n",
      " 'Tractor Without Semi-Trailer' 'Bus Over 15 Passengers'\n",
      " 'Bus Up to 15 Passengers' 'ATV' 'Snowmobile']\n",
      "VEH1_SPECL\n",
      "['Personal' 'Commercial-Multi-Unit' 'Other' 'Unknown' 'Not In Use' 'Police'\n",
      " 'Camper/RV-Single Unit' 'Commercial-Single Unit'\n",
      " 'Construction/Maintenance' nan 'CTA' 'School Bus' 'Other Transit'\n",
      " 'Agriculture' 'Mass Transit' 'Ambulance' 'Driver Education' 'State Owned'\n",
      " 'Military' 'Tow Truck' 'Lawn Care/Landscaping' 'Taxi/For Hire' 'Fire'\n",
      " 'Camper/RV-Towed/Multi-Unit' 'House Trailer']\n",
      "VEH1_DIR\n",
      "[nan 'South' 'West' 'North' 'Northwest' 'East' 'Southwest' 'Southeast'\n",
      " 'Unknown' 'Northeast']\n",
      "VEH1_MANUV\n",
      "[nan 'Straight Ahead' 'Skidding/Control Loss' 'Negotiating A Curve'\n",
      " 'Driving Wrong Way' 'Changing Lanes' 'Turning Left' 'Turning Right'\n",
      " 'Unknown' 'Other' 'Slow/Stop In Traffic' 'Avoiding Vehicle/Objects'\n",
      " 'Slow/Stop - Right Turn' 'Merging' 'U-Turn' 'Backing' 'Passing/Overtaking'\n",
      " 'Entering Traffic Lane Fr' 'Starting In Traffic' 'Slow/Stop - Left Turn'\n",
      " 'Enter From Drive/Alley' 'Slow/Stop - Load/Unload' 'Turning On Red'\n",
      " 'Leaving Traffic Lane to' 'Diverging']\n",
      "VEH1_EVNT1\n",
      "[nan 'Motor Vehicle In Traffic' 'Ran Off Roadway' 'Deer' 'Overturn'\n",
      " 'Other Fixed Object' 'Pedestrian' 'Hit Parked Vehicle'\n",
      " 'Other Non-Collision' 'Other Animal' 'Other Object' 'Curb'\n",
      " 'Thrown/Falling Object' 'Falling Load' 'Cargo Shift/Loss'\n",
      " 'Downhill Runaway' 'Separation' 'Concrete Median Barrier' 'Pedalcyclist'\n",
      " 'Jackknife' 'Traffic Signal' 'Bridge Underside' 'Mailbox' 'Bridge Support'\n",
      " 'Crash Cushion' 'Railroad Signal/Gates' 'Guardrail Face' 'Fire/Explosion'\n",
      " 'Unknown' 'Immersion' 'Snowbank' 'Railway Train' 'Ditch/Embankment'\n",
      " 'Guardrail End' 'Bridge End' 'Bridge Rail' 'Culvert' 'Other Pole or Post'\n",
      " 'Light Support' 'Cable Barrier']\n",
      "VEH1_LOC1\n",
      "['Off Pavement - Right' 'Other' 'Off Pavement - Left'\n",
      " 'On Pavement (Roadway)' 'Intersection' nan]\n",
      "VEH1_EVNT2\n",
      "['Other Object' 'Guardrail End' 'Fire/Explosion' nan 'Overturn'\n",
      " 'Guardrail Face' 'Concrete Median Barrier' 'Other Fixed Object' 'Snowbank'\n",
      " 'Motor Vehicle In Traffic' 'Tree or Shrub' 'Ran Off Roadway'\n",
      " 'Ditch/Embankment' 'Fence' 'Other Pole or Post' 'Jackknife'\n",
      " 'Hit Parked Vehicle' 'Building/Structure' 'Light Support'\n",
      " 'Thrown/Falling Object' 'Utility Pole' 'Mailbox' 'Culvert' 'Curb'\n",
      " 'Bridge End' 'Traffic Signal' 'Delineator Post' 'Railroad Signal/Gates'\n",
      " 'Cargo Shift/Loss' 'Downhill Runaway' 'Other Non-Collision' 'Bridge Rail'\n",
      " 'Bridge Support' 'Crash Cushion' 'Immersion' 'Separation'\n",
      " 'Bridge Underside' 'Cable Barrier' 'Railway Train' 'Pedestrian'\n",
      " 'Falling Load' 'Deer' 'Pedalcyclist' 'Other Animal']\n",
      "VEH1_LOC2\n",
      "['Off Pavement - Right' 'Other' 'Off Pavement - Left' nan\n",
      " 'On Pavement (Roadway)' 'Intersection']\n",
      "VEH1_EVNT3\n",
      "[nan 'Hit Parked Vehicle' 'Light Support' 'Other Pole or Post'\n",
      " 'Ditch/Embankment' 'Overturn' 'Utility Pole' 'Tree or Shrub'\n",
      " 'Ran Off Roadway' 'Cable Barrier' 'Motor Vehicle In Traffic'\n",
      " 'Guardrail End' 'Other Fixed Object' 'Other Object' 'Building/Structure'\n",
      " 'Bridge Rail' 'Other Non-Collision' 'Deer' 'Guardrail Face' 'Fence'\n",
      " 'Crash Cushion' 'Culvert' 'Curb' 'Cargo Shift/Loss' 'Mailbox'\n",
      " 'Bridge Support' 'Traffic Signal' 'Concrete Median Barrier'\n",
      " 'Fire/Explosion' 'Immersion' 'Railroad Signal/Gates' 'Bridge Underside'\n",
      " 'Jackknife' 'Delineator Post' 'Downhill Runaway' 'Snowbank' 'Bridge End'\n",
      " 'Other Animal' 'Separation' 'Pedestrian' 'Railway Train'\n",
      " 'Thrown/Falling Object' 'Pedalcyclist']\n",
      "VEH1_LOC3\n",
      "[nan 'Off Pavement - Right' 'Off Pavement - Left' 'Other' 'Intersection'\n",
      " 'On Pavement (Roadway)']\n",
      "DRIVER_2\n",
      "[nan 'Normal' 'Other/Unknown' 'Removed By EMS' 'Other' 'Emotional'\n",
      " 'Fatigued' 'Had Been Drinking' 'Drug Impaired' 'Illness'\n",
      " 'Alcohol Impaired' 'Not Reported' 'Medicated']\n",
      "VEH2_TYPE\n",
      "[nan 'Passenger' 'Van/Mini-Van' 'Pickup' 'SUV' 'Tractor With Semi-Trailer'\n",
      " 'Bus Over 15 Passengers' 'Unknown' 'Motorcycle (Over 150cc)'\n",
      " 'Truck Single Unit' 'Other' 'Farm Equipment'\n",
      " 'Tractor Without Semi-Trailer' 'Other Vehicle With Trailer'\n",
      " 'Motor Driven Cycle' 'Bus Up to 15 Passengers' 'ATV' 'Snowmobile']\n",
      "VEH2_SPECL\n",
      "[nan 'Personal' 'Not In Use' 'Commercial-Multi-Unit' 'Mass Transit' 'CTA'\n",
      " 'Unknown' 'School Bus' 'Construction/Maintenance' 'Other' 'Police'\n",
      " 'State Owned' 'Commercial-Single Unit' 'Other Transit' 'Agriculture'\n",
      " 'Ambulance' 'Lawn Care/Landscaping' 'Taxi/For Hire' 'Tow Truck'\n",
      " 'Driver Education' 'Fire' 'Military' 'Camper/RV-Towed/Multi-Unit'\n",
      " 'House Trailer' 'Camper/RV-Single Unit']\n",
      "VEH2_DIR\n",
      "[nan 'South' 'East' 'North' 'Unknown' 'Northwest' 'West' 'Southeast'\n",
      " 'Northeast' 'Southwest']\n",
      "VEH2_MANUV\n",
      "[nan 'Slow/Stop - Left Turn' 'Straight Ahead' 'Parked'\n",
      " 'Slow/Stop In Traffic' 'Turning Left' 'Slow/Stop - Right Turn'\n",
      " 'Turning Right' 'Avoiding Vehicle/Objects' 'Backing'\n",
      " 'Slow/Stop - Load/Unload' 'Unknown' 'Passing/Overtaking'\n",
      " 'Starting In Traffic' 'Skidding/Control Loss' 'Other'\n",
      " 'Parked In Traffic Lane' 'Negotiating A Curve' 'Enter From Drive/Alley'\n",
      " 'Entering Traffic Lane Fr' 'Changing Lanes' 'Merging'\n",
      " 'Leaving Traffic Lane to' 'U-Turn' 'Driverless' 'Turning On Red'\n",
      " 'Driving Wrong Way' 'Diverging']\n",
      "VEH2_EVNT1\n",
      "[nan 'Motor Vehicle In Traffic' 'Hit Parked Vehicle' 'Other Object'\n",
      " 'Pedestrian' 'Ran Off Roadway' 'Thrown/Falling Object' 'Deer'\n",
      " 'Falling Load' 'Other Non-Collision' 'Pedalcyclist' 'Overturn' 'Unknown'\n",
      " 'Other Animal' 'Traffic Signal' 'Bridge Support' 'Separation'\n",
      " 'Guardrail Face' 'Light Support' 'Other Pole or Post' 'Fence'\n",
      " 'Ditch/Embankment' 'Snowbank' 'Cargo Shift/Loss' 'Crash Cushion'\n",
      " 'Bridge Underside' 'Downhill Runaway' 'Other Fixed Object' 'Immersion'\n",
      " 'Mailbox' 'Bridge End' 'Concrete Median Barrier' 'Cable Barrier'\n",
      " 'Jackknife' 'Curb' 'Guardrail End' 'Fire/Explosion' 'Tree or Shrub'\n",
      " 'Utility Pole' 'Bridge Rail' 'Railway Train' 'Delineator Post'\n",
      " 'Railroad Signal/Gates']\n",
      "VEH2_LOC1\n",
      "[nan 'On Pavement (Roadway)' 'Intersection' 'Off Pavement - Right' 'Other'\n",
      " 'Off Pavement - Left']\n",
      "VEH2_EVNT2\n",
      "[nan 'Guardrail Face' 'Motor Vehicle In Traffic' 'Building/Structure'\n",
      " 'Ran Off Roadway' 'Ditch/Embankment' 'Utility Pole'\n",
      " 'Concrete Median Barrier' 'Overturn' 'Hit Parked Vehicle' 'Curb'\n",
      " 'Other Object' 'Thrown/Falling Object' 'Traffic Signal'\n",
      " 'Other Non-Collision' 'Fence' 'Bridge Support' 'Pedestrian' 'Falling Load'\n",
      " 'Other Fixed Object' 'Tree or Shrub' 'Fire/Explosion' 'Mailbox'\n",
      " 'Cargo Shift/Loss' 'Other Pole or Post' 'Cable Barrier' 'Jackknife'\n",
      " 'Pedalcyclist' 'Culvert' 'Light Support' 'Guardrail End' 'Delineator Post'\n",
      " 'Snowbank' 'Separation' 'Immersion' 'Deer' 'Crash Cushion' 'Bridge Rail'\n",
      " 'Railroad Signal/Gates' 'Other Animal' 'Bridge End' 'Downhill Runaway'\n",
      " 'Bridge Underside']\n",
      "VEH2_LOC2\n",
      "[nan 'Off Pavement - Left' 'On Pavement (Roadway)' 'Off Pavement - Right'\n",
      " 'Other' 'Intersection']\n",
      "VEH2_EVNT3\n",
      "[nan 'Ditch/Embankment' 'Tree or Shrub' 'Motor Vehicle In Traffic'\n",
      " 'Overturn' 'Other Non-Collision' 'Ran Off Roadway' 'Guardrail Face'\n",
      " 'Other Pole or Post' 'Other Fixed Object' 'Hit Parked Vehicle'\n",
      " 'Other Object' 'Concrete Median Barrier' 'Mailbox' 'Culvert'\n",
      " 'Building/Structure' 'Pedalcyclist' 'Utility Pole' 'Light Support' 'Fence'\n",
      " 'Curb' 'Traffic Signal' 'Jackknife' 'Snowbank' 'Falling Load'\n",
      " 'Guardrail End' 'Fire/Explosion' 'Bridge Rail' 'Bridge Support'\n",
      " 'Immersion' 'Pedestrian' 'Delineator Post' 'Cable Barrier' 'Bridge End'\n",
      " 'Thrown/Falling Object']\n",
      "VEH2_LOC3\n",
      "[nan 'Off Pavement - Right' 'Off Pavement - Left' 'Other'\n",
      " 'On Pavement (Roadway)' 'Intersection']\n",
      "DRIVER_3\n",
      "[nan 'Normal' 'Other' 'Other/Unknown' 'Drug Impaired' 'Removed By EMS'\n",
      " 'Illness' 'Alcohol Impaired' 'Emotional' 'Fatigued' 'Had Been Drinking']\n",
      "VEH3_TYPE\n",
      "[nan 'Van/Mini-Van' 'Passenger' 'SUV' 'Pickup' 'Unknown'\n",
      " 'Tractor With Semi-Trailer' 'Bus Over 15 Passengers' 'Truck Single Unit'\n",
      " 'Other' 'Other Vehicle With Trailer' 'Motorcycle (Over 150cc)'\n",
      " 'Bus Up to 15 Passengers' 'Tractor Without Semi-Trailer' 'Farm Equipment'\n",
      " 'ATV' 'Motor Driven Cycle']\n",
      "VEH3_SPECL\n",
      "[nan 'Not In Use' 'Personal' 'Police' 'Unknown' 'Commercial-Multi-Unit'\n",
      " 'School Bus' 'Construction/Maintenance' 'Commercial-Single Unit' 'Other'\n",
      " 'Other Transit' 'Lawn Care/Landscaping' 'Mass Transit' 'State Owned'\n",
      " 'Driver Education' 'Agriculture' 'Ambulance' 'Tow Truck' 'CTA'\n",
      " 'House Trailer' 'Taxi/For Hire' 'Fire' 'Camper/RV-Single Unit'\n",
      " 'Camper/RV-Towed/Multi-Unit' 'Military']\n",
      "VEH3_DIR\n",
      "[nan 'South' 'Northwest' 'North' 'East' 'West' 'Unknown' 'Northeast'\n",
      " 'Southwest' 'Southeast']\n",
      "VEH3_MANUV\n",
      "[nan 'Parked' 'Skidding/Control Loss' 'Straight Ahead' 'Other'\n",
      " 'Slow/Stop In Traffic' 'Slow/Stop - Left Turn' 'Unknown' 'Turning Right'\n",
      " 'Avoiding Vehicle/Objects' 'Slow/Stop - Right Turn'\n",
      " 'Entering Traffic Lane Fr' 'Turning Left' 'Slow/Stop - Load/Unload'\n",
      " 'Driverless' 'Parked In Traffic Lane' 'Starting In Traffic'\n",
      " 'Enter From Drive/Alley' 'Passing/Overtaking' 'Merging' 'Turning On Red'\n",
      " 'Changing Lanes' 'Negotiating A Curve' 'Driving Wrong Way'\n",
      " 'Leaving Traffic Lane to' 'U-Turn' 'Backing']\n",
      "VEH3_EVNT1\n",
      "[nan 'Hit Parked Vehicle' 'Motor Vehicle In Traffic' 'Other Non-Collision'\n",
      " 'Unknown' 'Ran Off Roadway' 'Traffic Signal' 'Thrown/Falling Object'\n",
      " 'Other Object' 'Overturn' 'Pedalcyclist' 'Light Support' 'Falling Load'\n",
      " 'Guardrail Face' 'Pedestrian' 'Ditch/Embankment' 'Deer'\n",
      " 'Other Pole or Post' 'Downhill Runaway' 'Concrete Median Barrier'\n",
      " 'Jackknife' 'Snowbank' 'Immersion' 'Crash Cushion' 'Railroad Signal/Gates'\n",
      " 'Curb' 'Fence' 'Bridge Rail' 'Utility Pole' 'Other Fixed Object'\n",
      " 'Tree or Shrub' '(UNK)']\n",
      "VEH3_LOC1\n",
      "[nan 'On Pavement (Roadway)' 'Off Pavement - Right' 'Other' 'Intersection'\n",
      " 'Off Pavement - Left']\n",
      "VEH3_EVNT2\n",
      "[nan 'Motor Vehicle In Traffic' 'Concrete Median Barrier' 'Mailbox'\n",
      " 'Hit Parked Vehicle' 'Utility Pole' 'Ran Off Roadway' 'Curb'\n",
      " 'Other Non-Collision' 'Guardrail Face' 'Ditch/Embankment' 'Bridge Rail'\n",
      " 'Overturn' 'Immersion' 'Pedestrian' 'Falling Load' 'Fire/Explosion'\n",
      " 'Snowbank' 'Other Pole or Post' 'Traffic Signal' 'Fence'\n",
      " 'Other Fixed Object' 'Tree or Shrub' 'Other Object' 'Guardrail End'\n",
      " 'Light Support' 'Crash Cushion' 'Pedalcyclist' 'Culvert' 'Bridge Support']\n",
      "VEH3_LOC2\n",
      "[nan 'On Pavement (Roadway)' 'Off Pavement - Right' 'Off Pavement - Left'\n",
      " 'Intersection' 'Other']\n",
      "VEH3_EVNT3\n",
      "[nan 'Motor Vehicle In Traffic' 'Ditch/Embankment' 'Other Non-Collision'\n",
      " 'Overturn' 'Utility Pole' 'Separation' 'Other Fixed Object'\n",
      " 'Ran Off Roadway' 'Snowbank' 'Tree or Shrub' 'Guardrail Face'\n",
      " 'Other Pole or Post' 'Downhill Runaway' 'Concrete Median Barrier'\n",
      " 'Light Support' 'Building/Structure' 'Mailbox' 'Hit Parked Vehicle'\n",
      " 'Jackknife' 'Curb']\n",
      "VEH3_LOC3\n",
      "[nan 'On Pavement (Roadway)' 'Off Pavement - Right' 'Off Pavement - Left'\n",
      " 'Intersection' 'Other']\n",
      "DRIVER_4\n",
      "[nan 'Normal' 'Other/Unknown' 'Removed By EMS' 'Other' 'Illness'\n",
      " 'Had Been Drinking' 'Alcohol Impaired' 'Emotional']\n",
      "VEH4_TYPE\n",
      "[nan 'Pickup' 'Passenger' 'Unknown' 'Van/Mini-Van' 'SUV' 'Farm Equipment'\n",
      " 'Tractor With Semi-Trailer' 'Other' 'Truck Single Unit'\n",
      " 'Bus Up to 15 Passengers' 'Bus Over 15 Passengers'\n",
      " 'Other Vehicle With Trailer' 'Tractor Without Semi-Trailer'\n",
      " 'Motorcycle (Over 150cc)' 'ATV']\n",
      "VEH4_SPECL\n",
      "[nan 'Not In Use' 'Personal' 'Unknown' 'State Owned'\n",
      " 'Construction/Maintenance' 'Agriculture' 'Commercial-Multi-Unit' 'Police'\n",
      " 'Commercial-Single Unit' 'Other' 'Driver Education' 'School Bus'\n",
      " 'Other Transit' 'Lawn Care/Landscaping' 'Ambulance' 'Taxi/For Hire'\n",
      " 'Tow Truck' 'Fire' 'Mass Transit' 'CTA']\n",
      "VEH4_DIR\n",
      "[nan 'South' 'Unknown' 'West' 'East' 'North' 'Southwest' 'Northeast'\n",
      " 'Southeast' 'Northwest']\n",
      "VEH4_MANUV\n",
      "[nan 'Parked' 'Slow/Stop In Traffic' 'Unknown' 'Straight Ahead'\n",
      " 'Slow/Stop - Left Turn' 'Avoiding Vehicle/Objects'\n",
      " 'Slow/Stop - Load/Unload' 'Starting In Traffic' 'Skidding/Control Loss'\n",
      " 'Parked In Traffic Lane' 'Turning Left' 'Passing/Overtaking' 'Driverless'\n",
      " 'Turning Right' 'Changing Lanes' 'Slow/Stop - Right Turn'\n",
      " 'Driving Wrong Way' 'Other' 'U-Turn' 'Backing' 'Merging'\n",
      " 'Negotiating A Curve' 'Leaving Traffic Lane to' 'Enter From Drive/Alley'\n",
      " 'Entering Traffic Lane Fr']\n",
      "VEH4_EVNT1\n",
      "[nan 'Hit Parked Vehicle' 'Motor Vehicle In Traffic' 'Traffic Signal'\n",
      " 'Other Object' 'Ran Off Roadway' 'Thrown/Falling Object'\n",
      " 'Other Non-Collision' 'Falling Load' 'Ditch/Embankment' 'Deer'\n",
      " 'Pedestrian' 'Utility Pole' 'Crash Cushion' 'Concrete Median Barrier'\n",
      " 'Light Support' 'Immersion' 'Other Fixed Object' '(UNK)']\n",
      "VEH4_LOC1\n",
      "[nan 'On Pavement (Roadway)' 'Other' 'Intersection' 'Off Pavement - Left'\n",
      " 'Off Pavement - Right']\n",
      "VEH4_EVNT2\n",
      "[nan 'Motor Vehicle In Traffic' 'Hit Parked Vehicle' 'Ran Off Roadway'\n",
      " 'Guardrail Face' 'Pedestrian' 'Building/Structure' 'Utility Pole'\n",
      " 'Falling Load' 'Concrete Median Barrier' 'Other Fixed Object' 'Fence'\n",
      " 'Curb' 'Snowbank']\n",
      "VEH4_LOC2\n",
      "[nan 'On Pavement (Roadway)' 'Off Pavement - Right' 'Off Pavement - Left'\n",
      " 'Intersection' 'Other']\n",
      "VEH4_EVNT3\n",
      "[nan 'Motor Vehicle In Traffic' 'Hit Parked Vehicle' 'Curb'\n",
      " 'Other Non-Collision' 'Ran Off Roadway' 'Light Support']\n",
      "VEH4_LOC3\n",
      "[nan 'On Pavement (Roadway)' 'Off Pavement - Left' 'Other'\n",
      " 'Off Pavement - Right']\n",
      "DUP_CD\n",
      "[  4.30000000e+08   1.60000000e+08   8.10000000e+08 ...,   1.75033063e+08\n",
      "   1.29070140e+08   1.75001125e+08]\n",
      "REC_TYPE\n",
      "['PD' 'B-Injury' 'C-Injury' 'A-Injury' 'Fatal' nan]\n",
      "XCOORD\n",
      "[ 2173041.25886  3014479.54529  2257503.24324 ...,  3006257.16201\n",
      "  3002028.4715   3001158.97751]\n",
      "YCOORD\n",
      "[ 2124710.24402   1853341.49789   1843623.45     ...,   898343.251895\n",
      "   856641.99801    891654.169862]\n",
      "INTERSEC\n",
      "[nan 'Y' 'N']\n",
      "RUNDATE\n",
      "[2016090504]\n",
      "WorkZone\n",
      "[nan 'N' 'Y']\n",
      "WorkZoneTy\n",
      "[nan '(N/A)' 'Construction Work Zone' 'Unk. Work Zone Type'\n",
      " 'Maintenance Work Zone' 'Utility Work Zone']\n",
      "WorkersPre\n",
      "[nan 'N' 'Y']\n",
      "ExceedSpee\n",
      "[nan 'N' 'Y']\n",
      "CellPhoneU\n",
      "[nan 'N']\n"
     ]
    }
   ],
   "source": [
    "for column in df.columns:\n",
    "    print(column)\n",
    "    print(df[column].unique())"
   ]
  },
  {
   "cell_type": "markdown",
   "metadata": {},
   "source": [
    "<b>Removing uncessary categorical Columns</b>"
   ]
  },
  {
   "cell_type": "code",
   "execution_count": 533,
   "metadata": {
    "collapsed": false
   },
   "outputs": [],
   "source": [
    "df.drop(['VEH2_TYPE','VEH2_SPECL','VEH2_DIR','VEH2_MANUV','VEH2_EVNT1','VEH2_LOC1','VEH2_EVNT2','VEH2_LOC2','VEH2_EVNT3','VEH2_LOC3', 'DRIVER_3', 'VEH3_TYPE', 'VEH3_SPECL',\n",
    "       'VEH3_DIR', 'VEH3_MANUV', 'VEH3_EVNT1', 'VEH3_LOC1', 'VEH3_EVNT2',\n",
    "       'VEH3_LOC2', 'VEH3_EVNT3', 'VEH3_LOC3', 'DRIVER_4', 'VEH4_TYPE',\n",
    "       'VEH4_SPECL', 'VEH4_DIR', 'VEH4_MANUV', 'VEH4_EVNT1', 'VEH4_LOC1',\n",
    "       'VEH4_EVNT2', 'VEH4_LOC2', 'VEH4_EVNT3', 'VEH4_LOC3','TOWNSHIP','COLL_TYPE','VEH1_EVNT3','DRIVER_2','VEH1_EVNT2','VEH1_SPECL','VEH1_LOC1','VEH1_LOC2','VEH1_LOC3','DUP_CD','REC_TYPE','RUNDATE'],axis=1,inplace=True)"
   ]
  },
  {
   "cell_type": "markdown",
   "metadata": {},
   "source": [
    "<b>Convert Categorical Data into Numerical</b>"
   ]
  },
  {
   "cell_type": "code",
   "execution_count": 534,
   "metadata": {
    "collapsed": false
   },
   "outputs": [],
   "source": [
    "for column in categoricalColumns:\n",
    "    dummies = pd.get_dummies(df[column], prefix=column)\n",
    "    # Update X to include dummies and drop the main variable\n",
    "    df = pd.concat([df, dummies], axis=1)\n",
    "    df.drop([column], axis=1, inplace=True)"
   ]
  },
  {
   "cell_type": "markdown",
   "metadata": {},
   "source": [
    "<b>As Categorical Columns have no NA and all have been converted to numerical we can fill the original numerical columns with their mean where na is encountered</b>"
   ]
  },
  {
   "cell_type": "code",
   "execution_count": 536,
   "metadata": {
    "collapsed": false
   },
   "outputs": [],
   "source": [
    "for column in df.columns:\n",
    "    #print(column)\n",
    "    df[column].fillna(df[column].mean(), inplace=True)"
   ]
  },
  {
   "cell_type": "markdown",
   "metadata": {},
   "source": [
    "<b>Double check each column for its values and types</b>"
   ]
  },
  {
   "cell_type": "code",
   "execution_count": 537,
   "metadata": {
    "collapsed": false
   },
   "outputs": [
    {
     "name": "stdout",
     "output_type": "stream",
     "text": [
      "MONTH\n",
      "[ 3  1  5  4  2  6  7  8  9 10 11 12]\n",
      "DAY\n",
      "[ 5 19  9 10 28 18 14 24  7 31  1  3  6 16  8 17 30 12 22 23 29  2 13 15 27\n",
      " 25 11 26  4 21 20]\n",
      "HOUR\n",
      "[12  6 21 14 17 11  3  8 20  9 23 18  0 19 13  5 22  7  1 10 16  4 15  2]\n",
      "NUM_VEH\n",
      "[0 1]\n",
      "COUNTY\n",
      "[ 43  16  81  98   7  67  79  82  95  75  86  31  42  59  69  84  68  60\n",
      "  14   3  26  61  25  41  11  87  58  70  18  15  21  23  12  17  40  80\n",
      "  24  96  13  93   2  91  44 100  77  64  39  73  28  83  33  97  30  76\n",
      "  35   1  34  55  85   5  94  36  66  48  29  50  72  88  90   9  63  65\n",
      "   8  89  71  37   6 101  99   4  46  78  62  52  19  56  45  49  22  32\n",
      "  47  10  57  92 102  27  54  20  53  38  74  51]\n",
      "TS_ROUTE\n",
      "[   0 5084 9088 5035 1012 9090 1020 1041 5003 5150 5013 5004 5156 5015 5159\n",
      " 5154 5155 5096 1054 5100 5107 9072 5106 5016 5108 1067 5111 5109 5267 5078\n",
      " 2072 5104 9055 5138 9255 9064 9070 5203 5157 5158 6015 1050 5140 9270 5255\n",
      " 5143 5162 1040 5161 5163 6159 6111 5177 5160 5127 5185 9057 1051 5037 4051\n",
      " 6161 5048 5029 2055 5128 5121 5033 1045 5032 5133 5049 5130 5250 4045 5146\n",
      " 9024 5147 5166 5148 5169 1060 1062 5151 5149 5152 5153 5014 5142 6013 5184\n",
      " 5034 6014 5001 5141 5242 6142 5145 1024 9172 4024 6057 5057 5110 5061 5094\n",
      " 1136 5099 5101 5103 5135 1034 5009 5164 5116 3067 5097 5041 5095 9074 1150\n",
      " 5167 5091 5017 5090 5008 5180 5125 5010 5123 5092 9280 5192 1052 5073 1030\n",
      " 5026 5072 3020 5040 5136 5005 9080 1006 5082 5081 6092 4067 5002 6002 5172\n",
      " 6040 5093 5173 5076 9180 5071 5089 4052 5251 9039 5023 6023 5178 5351 5038\n",
      " 5064 5075 5070 6075 6251 4020 5047 5031 5056 5025 5176 1014 5120 5062 5022\n",
      " 5060 5059 5083 5134 5132 9094 5021 5137 5131 5043 5053 9294 5019 9355 6025\n",
      " 5058 5068 9290 9190 6058 5171 5113 5170 6031 5126 5007 4006 4030 6053 6126\n",
      " 5102 5129 5050 6050 5122 5054 5124 7055 6097 9155 3051 1036 5105 5098 6009\n",
      " 6029 9474 6008 6116 5006 3024 5117 5018 6018 5165 4150 5115 5119 5394 5114\n",
      " 4041 3050 6001]\n",
      "MILE\n",
      "[   0.     30.16   15.22 ...,   63.72  155.15  140.17]\n",
      "XCOORD\n",
      "[ 2173041.25886  3014479.54529  2257503.24324 ...,  3006257.16201\n",
      "  3002028.4715   3001158.97751]\n",
      "YCOORD\n",
      "[ 2124710.24402   1853341.49789   1843623.45     ...,   898343.251895\n",
      "   856641.99801    891654.169862]\n",
      "ROUTE_I 024\n",
      "[ 0.  1.]\n",
      "ROUTE_I 039\n",
      "[ 0.  1.]\n",
      "ROUTE_I 055\n",
      "[ 0.  1.]\n",
      "ROUTE_I 055B\n",
      "[ 0.  1.]\n",
      "ROUTE_I 055B*\n",
      "[ 0.  1.]\n",
      "ROUTE_I 057\n",
      "[ 0.  1.]\n",
      "ROUTE_I 064\n",
      "[ 0.  1.]\n",
      "ROUTE_I 070\n",
      "[ 0.  1.]\n",
      "ROUTE_I 072\n",
      "[ 0.  1.]\n",
      "ROUTE_I 072B\n",
      "[ 0.  1.]\n",
      "ROUTE_I 074\n",
      "[ 0.  1.]\n",
      "ROUTE_I 080\n",
      "[ 0.  1.]\n",
      "ROUTE_I 088\n",
      "[ 0.  1.]\n",
      "ROUTE_I 090\n",
      "[ 0.  1.]\n",
      "ROUTE_I 094\n",
      "[ 0.  1.]\n",
      "ROUTE_I 155\n",
      "[ 0.  1.]\n",
      "ROUTE_I 172\n",
      "[ 0.  1.]\n",
      "ROUTE_I 180\n",
      "[ 0.  1.]\n",
      "ROUTE_I 190\n",
      "[ 0.  1.]\n",
      "ROUTE_I 255\n",
      "[ 0.  1.]\n",
      "ROUTE_I 270\n",
      "[ 0.  1.]\n",
      "ROUTE_I 280\n",
      "[ 0.  1.]\n",
      "ROUTE_I 290\n",
      "[ 0.  1.]\n",
      "ROUTE_I 294\n",
      "[ 0.  1.]\n",
      "ROUTE_I 355\n",
      "[ 0.  1.]\n",
      "ROUTE_I 474\n",
      "[ 0.  1.]\n",
      "ROUTE_IL001\n",
      "[ 0.  1.]\n",
      "ROUTE_IL002\n",
      "[ 0.  1.]\n",
      "ROUTE_IL002*\n",
      "[ 0.  1.]\n",
      "ROUTE_IL003\n",
      "[ 0.  1.]\n",
      "ROUTE_IL004\n",
      "[ 0.  1.]\n",
      "ROUTE_IL005\n",
      "[ 0.  1.]\n",
      "ROUTE_IL006\n",
      "[ 0.  1.]\n",
      "ROUTE_IL007\n",
      "[ 0.  1.]\n",
      "ROUTE_IL008\n",
      "[ 0.  1.]\n",
      "ROUTE_IL008*\n",
      "[ 0.  1.]\n",
      "ROUTE_IL009\n",
      "[ 0.  1.]\n",
      "ROUTE_IL009*\n",
      "[ 0.  1.]\n",
      "ROUTE_IL010\n",
      "[ 0.  1.]\n",
      "ROUTE_IL013\n",
      "[ 0.  1.]\n",
      "ROUTE_IL013*\n",
      "[ 0.  1.]\n",
      "ROUTE_IL014\n",
      "[ 0.  1.]\n",
      "ROUTE_IL014*\n",
      "[ 0.  1.]\n",
      "ROUTE_IL015\n",
      "[ 0.  1.]\n",
      "ROUTE_IL015*\n",
      "[ 0.  1.]\n",
      "ROUTE_IL016\n",
      "[ 0.  1.]\n",
      "ROUTE_IL017\n",
      "[ 0.  1.]\n",
      "ROUTE_IL018\n",
      "[ 0.  1.]\n",
      "ROUTE_IL018*\n",
      "[ 0.  1.]\n",
      "ROUTE_IL019\n",
      "[ 0.  1.]\n",
      "ROUTE_IL021\n",
      "[ 0.  1.]\n",
      "ROUTE_IL022\n",
      "[ 0.  1.]\n",
      "ROUTE_IL023\n",
      "[ 0.  1.]\n",
      "ROUTE_IL023*\n",
      "[ 0.  1.]\n",
      "ROUTE_IL025\n",
      "[ 0.  1.]\n",
      "ROUTE_IL025*\n",
      "[ 0.  1.]\n",
      "ROUTE_IL026\n",
      "[ 0.  1.]\n",
      "ROUTE_IL029\n",
      "[ 0.  1.]\n",
      "ROUTE_IL029*\n",
      "[ 0.  1.]\n",
      "ROUTE_IL031\n",
      "[ 0.  1.]\n",
      "ROUTE_IL031*\n",
      "[ 0.  1.]\n",
      "ROUTE_IL032\n",
      "[ 0.  1.]\n",
      "ROUTE_IL033\n",
      "[ 0.  1.]\n",
      "ROUTE_IL034\n",
      "[ 0.  1.]\n",
      "ROUTE_IL035\n",
      "[ 0.  1.]\n",
      "ROUTE_IL037\n",
      "[ 0.  1.]\n",
      "ROUTE_IL038\n",
      "[ 0.  1.]\n",
      "ROUTE_IL040\n",
      "[ 0.  1.]\n",
      "ROUTE_IL040*\n",
      "[ 0.  1.]\n",
      "ROUTE_IL041\n",
      "[ 0.  1.]\n",
      "ROUTE_IL043\n",
      "[ 0.  1.]\n",
      "ROUTE_IL047\n",
      "[ 0.  1.]\n",
      "ROUTE_IL048\n",
      "[ 0.  1.]\n",
      "ROUTE_IL049\n",
      "[ 0.  1.]\n",
      "ROUTE_IL050\n",
      "[ 0.  1.]\n",
      "ROUTE_IL050*\n",
      "[ 0.  1.]\n",
      "ROUTE_IL053\n",
      "[ 0.  1.]\n",
      "ROUTE_IL053*\n",
      "[ 0.  1.]\n",
      "ROUTE_IL054\n",
      "[ 0.  1.]\n",
      "ROUTE_IL056\n",
      "[ 0.  1.]\n",
      "ROUTE_IL057\n",
      "[ 0.  1.]\n",
      "ROUTE_IL057*\n",
      "[ 0.  1.]\n",
      "ROUTE_IL058\n",
      "[ 0.  1.]\n",
      "ROUTE_IL058*\n",
      "[ 0.  1.]\n",
      "ROUTE_IL059\n",
      "[ 0.  1.]\n",
      "ROUTE_IL060\n",
      "[ 0.  1.]\n",
      "ROUTE_IL061\n",
      "[ 0.  1.]\n",
      "ROUTE_IL062\n",
      "[ 0.  1.]\n",
      "ROUTE_IL064\n",
      "[ 0.  1.]\n",
      "ROUTE_IL068\n",
      "[ 0.  1.]\n",
      "ROUTE_IL070\n",
      "[ 0.  1.]\n",
      "ROUTE_IL071\n",
      "[ 0.  1.]\n",
      "ROUTE_IL072\n",
      "[ 0.  1.]\n",
      "ROUTE_IL073\n",
      "[ 0.  1.]\n",
      "ROUTE_IL075\n",
      "[ 0.  1.]\n",
      "ROUTE_IL075*\n",
      "[ 0.  1.]\n",
      "ROUTE_IL076\n",
      "[ 0.  1.]\n",
      "ROUTE_IL078\n",
      "[ 0.  1.]\n",
      "ROUTE_IL081\n",
      "[ 0.  1.]\n",
      "ROUTE_IL082\n",
      "[ 0.  1.]\n",
      "ROUTE_IL083\n",
      "[ 0.  1.]\n",
      "ROUTE_IL084\n",
      "[ 0.  1.]\n",
      "ROUTE_IL089\n",
      "[ 0.  1.]\n",
      "ROUTE_IL090\n",
      "[ 0.  1.]\n",
      "ROUTE_IL091\n",
      "[ 0.  1.]\n",
      "ROUTE_IL092\n",
      "[ 0.  1.]\n",
      "ROUTE_IL092*\n",
      "[ 0.  1.]\n",
      "ROUTE_IL093\n",
      "[ 0.  1.]\n",
      "ROUTE_IL094\n",
      "[ 0.  1.]\n",
      "ROUTE_IL095\n",
      "[ 0.  1.]\n",
      "ROUTE_IL096\n",
      "[ 0.  1.]\n",
      "ROUTE_IL097\n",
      "[ 0.  1.]\n",
      "ROUTE_IL097*\n",
      "[ 0.  1.]\n",
      "ROUTE_IL098\n",
      "[ 0.  1.]\n",
      "ROUTE_IL099\n",
      "[ 0.  1.]\n",
      "ROUTE_IL100\n",
      "[ 0.  1.]\n",
      "ROUTE_IL101\n",
      "[ 0.  1.]\n",
      "ROUTE_IL102\n",
      "[ 0.  1.]\n",
      "ROUTE_IL103\n",
      "[ 0.  1.]\n",
      "ROUTE_IL104\n",
      "[ 0.  1.]\n",
      "ROUTE_IL105\n",
      "[ 0.  1.]\n",
      "ROUTE_IL106\n",
      "[ 0.  1.]\n",
      "ROUTE_IL107\n",
      "[ 0.  1.]\n",
      "ROUTE_IL108\n",
      "[ 0.  1.]\n",
      "ROUTE_IL109\n",
      "[ 0.  1.]\n",
      "ROUTE_IL110\n",
      "[ 0.  1.]\n",
      "ROUTE_IL111\n",
      "[ 0.  1.]\n",
      "ROUTE_IL111*\n",
      "[ 0.  1.]\n",
      "ROUTE_IL113\n",
      "[ 0.  1.]\n",
      "ROUTE_IL114\n",
      "[ 0.  1.]\n",
      "ROUTE_IL115\n",
      "[ 0.  1.]\n",
      "ROUTE_IL116\n",
      "[ 0.  1.]\n",
      "ROUTE_IL116*\n",
      "[ 0.  1.]\n",
      "ROUTE_IL117\n",
      "[ 0.  1.]\n",
      "ROUTE_IL119\n",
      "[ 0.  1.]\n",
      "ROUTE_IL120\n",
      "[ 0.  1.]\n",
      "ROUTE_IL121\n",
      "[ 0.  1.]\n",
      "ROUTE_IL122\n",
      "[ 0.  1.]\n",
      "ROUTE_IL123\n",
      "[ 0.  1.]\n",
      "ROUTE_IL124\n",
      "[ 0.  1.]\n",
      "ROUTE_IL125\n",
      "[ 0.  1.]\n",
      "ROUTE_IL126\n",
      "[ 0.  1.]\n",
      "ROUTE_IL126*\n",
      "[ 0.  1.]\n",
      "ROUTE_IL127\n",
      "[ 0.  1.]\n",
      "ROUTE_IL128\n",
      "[ 0.  1.]\n",
      "ROUTE_IL129\n",
      "[ 0.  1.]\n",
      "ROUTE_IL130\n",
      "[ 0.  1.]\n",
      "ROUTE_IL131\n",
      "[ 0.  1.]\n",
      "ROUTE_IL132\n",
      "[ 0.  1.]\n",
      "ROUTE_IL133\n",
      "[ 0.  1.]\n",
      "ROUTE_IL134\n",
      "[ 0.  1.]\n",
      "ROUTE_IL135\n",
      "[ 0.  1.]\n",
      "ROUTE_IL136\n",
      "[ 0.  1.]\n",
      "ROUTE_IL137\n",
      "[ 0.  1.]\n",
      "ROUTE_IL138\n",
      "[ 0.  1.]\n",
      "ROUTE_IL140\n",
      "[ 0.  1.]\n",
      "ROUTE_IL141\n",
      "[ 0.  1.]\n",
      "ROUTE_IL142\n",
      "[ 0.  1.]\n",
      "ROUTE_IL142*\n",
      "[ 0.  1.]\n",
      "ROUTE_IL143\n",
      "[ 0.  1.]\n",
      "ROUTE_IL145\n",
      "[ 0.  1.]\n",
      "ROUTE_IL146\n",
      "[ 0.  1.]\n",
      "ROUTE_IL147\n",
      "[ 0.  1.]\n",
      "ROUTE_IL148\n",
      "[ 0.  1.]\n",
      "ROUTE_IL149\n",
      "[ 0.  1.]\n",
      "ROUTE_IL150\n",
      "[ 0.  1.]\n",
      "ROUTE_IL151\n",
      "[ 0.  1.]\n",
      "ROUTE_IL152\n",
      "[ 0.  1.]\n",
      "ROUTE_IL153\n",
      "[ 0.  1.]\n",
      "ROUTE_IL154\n",
      "[ 0.  1.]\n",
      "ROUTE_IL155\n",
      "[ 0.  1.]\n",
      "ROUTE_IL156\n",
      "[ 0.  1.]\n",
      "ROUTE_IL157\n",
      "[ 0.  1.]\n",
      "ROUTE_IL158\n",
      "[ 0.  1.]\n",
      "ROUTE_IL159\n",
      "[ 0.  1.]\n",
      "ROUTE_IL159*\n",
      "[ 0.  1.]\n",
      "ROUTE_IL160\n",
      "[ 0.  1.]\n",
      "ROUTE_IL161\n",
      "[ 0.  1.]\n",
      "ROUTE_IL161*\n",
      "[ 0.  1.]\n",
      "ROUTE_IL162\n",
      "[ 0.  1.]\n",
      "ROUTE_IL163\n",
      "[ 0.  1.]\n",
      "ROUTE_IL164\n",
      "[ 0.  1.]\n",
      "ROUTE_IL165\n",
      "[ 0.  1.]\n",
      "ROUTE_IL166\n",
      "[ 0.  1.]\n",
      "ROUTE_IL167\n",
      "[ 0.  1.]\n",
      "ROUTE_IL169\n",
      "[ 0.  1.]\n",
      "ROUTE_IL170\n",
      "[ 0.  1.]\n",
      "ROUTE_IL171\n",
      "[ 0.  1.]\n",
      "ROUTE_IL172\n",
      "[ 0.  1.]\n",
      "ROUTE_IL173\n",
      "[ 0.  1.]\n",
      "ROUTE_IL176\n",
      "[ 0.  1.]\n",
      "ROUTE_IL177\n",
      "[ 0.  1.]\n",
      "ROUTE_IL178\n",
      "[ 0.  1.]\n",
      "ROUTE_IL180\n",
      "[ 0.  1.]\n",
      "ROUTE_IL184\n",
      "[ 0.  1.]\n",
      "ROUTE_IL185\n",
      "[ 0.  1.]\n",
      "ROUTE_IL192\n",
      "[ 0.  1.]\n",
      "ROUTE_IL203\n",
      "[ 0.  1.]\n",
      "ROUTE_IL242\n",
      "[ 0.  1.]\n",
      "ROUTE_IL250\n",
      "[ 0.  1.]\n",
      "ROUTE_IL251\n",
      "[ 0.  1.]\n",
      "ROUTE_IL251*\n",
      "[ 0.  1.]\n",
      "ROUTE_IL255\n",
      "[ 0.  1.]\n",
      "ROUTE_IL267\n",
      "[ 0.  1.]\n",
      "ROUTE_IL351\n",
      "[ 0.  1.]\n",
      "ROUTE_IL394\n",
      "[ 0.  1.]\n",
      "ROUTE_US006\n",
      "[ 0.  1.]\n",
      "ROUTE_US006*\n",
      "[ 0.  1.]\n",
      "ROUTE_US012\n",
      "[ 0.  1.]\n",
      "ROUTE_US014\n",
      "[ 0.  1.]\n",
      "ROUTE_US020\n",
      "[ 0.  1.]\n",
      "ROUTE_US020*\n",
      "[ 0.  1.]\n",
      "ROUTE_US020B\n",
      "[ 0.  1.]\n",
      "ROUTE_US024\n",
      "[ 0.  1.]\n",
      "ROUTE_US024*\n",
      "[ 0.  1.]\n",
      "ROUTE_US024B\n",
      "[ 0.  1.]\n",
      "ROUTE_US030\n",
      "[ 0.  1.]\n",
      "ROUTE_US030*\n",
      "[ 0.  1.]\n",
      "ROUTE_US034\n",
      "[ 0.  1.]\n",
      "ROUTE_US036\n",
      "[ 0.  1.]\n",
      "ROUTE_US040\n",
      "[ 0.  1.]\n",
      "ROUTE_US041\n",
      "[ 0.  1.]\n",
      "ROUTE_US041*\n",
      "[ 0.  1.]\n",
      "ROUTE_US045\n",
      "[ 0.  1.]\n",
      "ROUTE_US045*\n",
      "[ 0.  1.]\n",
      "ROUTE_US050\n",
      "[ 0.  1.]\n",
      "ROUTE_US050B\n",
      "[ 0.  1.]\n",
      "ROUTE_US051\n",
      "[ 0.  1.]\n",
      "ROUTE_US051*\n",
      "[ 0.  1.]\n",
      "ROUTE_US051B\n",
      "[ 0.  1.]\n",
      "ROUTE_US052\n",
      "[ 0.  1.]\n",
      "ROUTE_US052*\n",
      "[ 0.  1.]\n",
      "ROUTE_US054\n",
      "[ 0.  1.]\n",
      "ROUTE_US060\n",
      "[ 0.  1.]\n",
      "ROUTE_US067\n",
      "[ 0.  1.]\n",
      "ROUTE_US067*\n",
      "[ 0.  1.]\n",
      "ROUTE_US136\n",
      "[ 0.  1.]\n",
      "ROUTE_US150\n",
      "[ 0.  1.]\n",
      "ROUTE_US150*\n",
      "[ 0.  1.]\n",
      "VEH1_TYPE_ATV\n",
      "[ 0.  1.]\n",
      "VEH1_TYPE_Bus Over 15 Passengers\n",
      "[ 0.  1.]\n",
      "VEH1_TYPE_Bus Up to 15 Passengers\n",
      "[ 0.  1.]\n",
      "VEH1_TYPE_Farm Equipment\n",
      "[ 0.  1.]\n",
      "VEH1_TYPE_Motor Driven Cycle\n",
      "[ 0.  1.]\n",
      "VEH1_TYPE_Motorcycle (Over 150cc)\n",
      "[ 0.  1.]\n",
      "VEH1_TYPE_Other\n",
      "[ 0.  1.]\n",
      "VEH1_TYPE_Other Vehicle With Trailer\n",
      "[ 0.  1.]\n",
      "VEH1_TYPE_Passenger\n",
      "[ 0.  1.]\n",
      "VEH1_TYPE_Pickup\n",
      "[ 0.  1.]\n",
      "VEH1_TYPE_SUV\n",
      "[ 0.  1.]\n",
      "VEH1_TYPE_Snowmobile\n",
      "[ 0.  1.]\n",
      "VEH1_TYPE_Tractor With Semi-Trailer\n",
      "[ 0.  1.]\n",
      "VEH1_TYPE_Tractor Without Semi-Trailer\n",
      "[ 0.  1.]\n",
      "VEH1_TYPE_Truck Single Unit\n",
      "[ 0.  1.]\n",
      "VEH1_TYPE_Unknown\n",
      "[ 0.  1.]\n",
      "VEH1_TYPE_Van/Mini-Van\n",
      "[ 0.  1.]\n",
      "DAY_O_WEEK_Fri\n",
      "[ 0.  1.]\n",
      "DAY_O_WEEK_Mon\n",
      "[ 0.  1.]\n",
      "DAY_O_WEEK_Sat\n",
      "[ 0.  1.]\n",
      "DAY_O_WEEK_Sun\n",
      "[ 0.  1.]\n",
      "DAY_O_WEEK_Thu\n",
      "[ 0.  1.]\n",
      "DAY_O_WEEK_Tue\n",
      "[ 0.  1.]\n",
      "DAY_O_WEEK_Wed\n",
      "[ 0.  1.]\n",
      "WEATHER_Clear\n",
      "[ 0.  1.]\n",
      "WEATHER_Cloudy/Overcast\n",
      "[ 0.  1.]\n",
      "WEATHER_Fog/Smoke/Haze\n",
      "[ 0.  1.]\n",
      "WEATHER_Other\n",
      "[ 0.  1.]\n",
      "WEATHER_Rain\n",
      "[ 0.  1.]\n",
      "WEATHER_Severe Cross Wind\n",
      "[ 0.  1.]\n",
      "WEATHER_Sleet/Hail\n",
      "[ 0.  1.]\n",
      "WEATHER_Snow\n",
      "[ 0.  1.]\n",
      "LIGHTING_Darkness\n",
      "[ 0.  1.]\n",
      "LIGHTING_Darkness, Lighted Road\n",
      "[ 0.  1.]\n",
      "LIGHTING_Dawn\n",
      "[ 0.  1.]\n",
      "LIGHTING_Daylight\n",
      "[ 0.  1.]\n",
      "LIGHTING_Dusk\n",
      "[ 0.  1.]\n",
      "SURF_COND_Dry\n",
      "[ 0.  1.]\n",
      "SURF_COND_Ice\n",
      "[ 0.  1.]\n",
      "SURF_COND_Other\n",
      "[ 0.  1.]\n",
      "SURF_COND_Sand, Mud, Dirt\n",
      "[ 0.  1.]\n",
      "SURF_COND_Snow or Slush\n",
      "[ 0.  1.]\n",
      "SURF_COND_Wet\n",
      "[ 0.  1.]\n",
      "RD_DEFECT_Debris On Roadway\n",
      "[ 0.  1.]\n",
      "RD_DEFECT_No Defects\n",
      "[ 0.  1.]\n",
      "RD_DEFECT_Other\n",
      "[ 0.  1.]\n",
      "RD_DEFECT_Rut, Holes\n",
      "[ 0.  1.]\n",
      "RD_DEFECT_Shoulders\n",
      "[ 0.  1.]\n",
      "RD_DEFECT_Worn Surface\n",
      "[ 0.  1.]\n",
      "RD_FEATURE_Bridge\n",
      "[ 0.  1.]\n",
      "RD_FEATURE_Not Applicable\n",
      "[ 0.  1.]\n",
      "RD_FEATURE_Underpass\n",
      "[ 0.  1.]\n",
      "TRAF_CNTRL_Delineators\n",
      "[ 0.  1.]\n",
      "TRAF_CNTRL_Lane Use Marking\n",
      "[ 0.  1.]\n",
      "TRAF_CNTRL_No Controls\n",
      "[ 0.  1.]\n",
      "TRAF_CNTRL_No Passing\n",
      "[ 0.  1.]\n",
      "TRAF_CNTRL_Other\n",
      "[ 0.  1.]\n",
      "TRAF_CNTRL_Other RR Crossing\n",
      "[ 0.  1.]\n",
      "TRAF_CNTRL_Other Regualtory Sig\n",
      "[ 0.  1.]\n",
      "TRAF_CNTRL_Other Warning Sign\n",
      "[ 0.  1.]\n",
      "TRAF_CNTRL_Police/Flagman\n",
      "[ 0.  1.]\n",
      "TRAF_CNTRL_RR Crossing Gate\n",
      "[ 0.  1.]\n",
      "TRAF_CNTRL_School Zone\n",
      "[ 0.  1.]\n",
      "TRAF_CNTRL_Stop Sign/Flasher\n",
      "[ 0.  1.]\n",
      "TRAF_CNTRL_Traffic Signal\n",
      "[ 0.  1.]\n",
      "TRAF_CNTRL_Yield\n",
      "[ 0.  1.]\n",
      "CITY_Abingdon\n",
      "[ 0.  1.]\n",
      "CITY_Addieville\n",
      "[ 0.  1.]\n",
      "CITY_Addison\n",
      "[ 0.  1.]\n",
      "CITY_Albany\n",
      "[ 0.  1.]\n",
      "CITY_Albers\n",
      "[ 0.  1.]\n",
      "CITY_Albion\n",
      "[ 0.  1.]\n",
      "CITY_Aledo\n",
      "[ 0.  1.]\n",
      "CITY_Algonquin\n",
      "[ 0.  1.]\n",
      "CITY_Alhambra\n",
      "[ 0.  1.]\n",
      "CITY_Alma\n",
      "[ 0.  1.]\n",
      "CITY_Alorton\n",
      "[ 0.  1.]\n",
      "CITY_Alpha\n",
      "[ 0.  1.]\n",
      "CITY_Alsip\n",
      "[ 0.  1.]\n",
      "CITY_Altamont\n",
      "[ 0.  1.]\n",
      "CITY_Alto Pass\n",
      "[ 0.  1.]\n",
      "CITY_Alton\n",
      "[ 0.  1.]\n",
      "CITY_Altona\n",
      "[ 0.  1.]\n",
      "CITY_Amboy\n",
      "[ 0.  1.]\n",
      "CITY_Andalusia\n",
      "[ 0.  1.]\n",
      "CITY_Andover\n",
      "[ 0.  1.]\n",
      "CITY_Anna\n",
      "[ 0.  1.]\n",
      "CITY_Annawan\n",
      "[ 0.  1.]\n",
      "CITY_Antioch\n",
      "[ 0.  1.]\n",
      "CITY_Arcola\n",
      "[ 0.  1.]\n",
      "CITY_Arlington\n",
      "[ 0.  1.]\n",
      "CITY_Arlington Hts\n",
      "[ 0.  1.]\n",
      "CITY_Arthur\n",
      "[ 0.  1.]\n",
      "CITY_Ashkum\n",
      "[ 0.  1.]\n",
      "CITY_Ashland\n",
      "[ 0.  1.]\n",
      "CITY_Ashley\n",
      "[ 0.  1.]\n",
      "CITY_Ashmore\n",
      "[ 0.  1.]\n",
      "CITY_Ashton\n",
      "[ 0.  1.]\n",
      "CITY_Athens\n",
      "[ 0.  1.]\n",
      "CITY_Atkinson\n",
      "[ 0.  1.]\n",
      "CITY_Atlanta\n",
      "[ 0.  1.]\n",
      "CITY_Atwood\n",
      "[ 0.  1.]\n",
      "CITY_Auburn\n",
      "[ 0.  1.]\n",
      "CITY_Augusta\n",
      "[ 0.  1.]\n",
      "CITY_Aurora\n",
      "[ 0.  1.]\n",
      "CITY_Aviston\n",
      "[ 0.  1.]\n",
      "CITY_Baldwin\n",
      "[ 0.  1.]\n",
      "CITY_Banner\n",
      "[ 0.  1.]\n",
      "CITY_Bannockburn\n",
      "[ 0.  1.]\n",
      "CITY_Barrington\n",
      "[ 0.  1.]\n",
      "CITY_Barrington Hills\n",
      "[ 0.  1.]\n",
      "CITY_Barry\n",
      "[ 0.  1.]\n",
      "CITY_Bartelso\n",
      "[ 0.  1.]\n",
      "CITY_Bartlett\n",
      "[ 0.  1.]\n",
      "CITY_Bartonville\n",
      "[ 0.  1.]\n",
      "CITY_Batavia\n",
      "[ 0.  1.]\n",
      "CITY_Bath\n",
      "[ 0.  1.]\n",
      "CITY_Bay View Gardens\n",
      "[ 0.  1.]\n",
      "CITY_Beach Park\n",
      "[ 0.  1.]\n",
      "CITY_Beardstown\n",
      "[ 0.  1.]\n",
      "CITY_Bedford Park\n",
      "[ 0.  1.]\n",
      "CITY_Beecher\n",
      "[ 0.  1.]\n",
      "CITY_Belgium\n",
      "[ 0.  1.]\n",
      "CITY_Belle Rive\n",
      "[ 0.  1.]\n",
      "CITY_Belleville\n",
      "[ 0.  1.]\n",
      "CITY_Bellevue\n",
      "[ 0.  1.]\n",
      "CITY_Bellflower\n",
      "[ 0.  1.]\n",
      "CITY_Bellwood\n",
      "[ 0.  1.]\n",
      "CITY_Belvidere\n",
      "[ 0.  1.]\n",
      "CITY_Bement\n",
      "[ 0.  1.]\n",
      "CITY_Benld\n",
      "[ 0.  1.]\n",
      "CITY_Bensenville\n",
      "[ 0.  1.]\n",
      "CITY_Benton\n",
      "[ 0.  1.]\n",
      "CITY_Berkeley\n",
      "[ 0.  1.]\n",
      "CITY_Berwyn\n",
      "[ 0.  1.]\n",
      "CITY_Bethalto\n",
      "[ 0.  1.]\n",
      "CITY_Bethany\n",
      "[ 0.  1.]\n",
      "CITY_Big Rock\n",
      "[ 0.  1.]\n",
      "CITY_Biggsville\n",
      "[ 0.  1.]\n",
      "CITY_Bingham\n",
      "[ 0.  1.]\n",
      "CITY_Blandinsville\n",
      "[ 0.  1.]\n",
      "CITY_Bloomingdale\n",
      "[ 0.  1.]\n",
      "CITY_Bloomington\n",
      "[ 0.  1.]\n",
      "CITY_Blue Island\n",
      "[ 0.  1.]\n",
      "CITY_Blue Mound\n",
      "[ 0.  1.]\n",
      "CITY_Bolingbrook\n",
      "[ 0.  1.]\n",
      "CITY_Bondville\n",
      "[ 0.  1.]\n",
      "CITY_Bonnie\n",
      "[ 0.  1.]\n",
      "CITY_Bourbonnais\n",
      "[ 0.  1.]\n",
      "CITY_Braceville\n",
      "[ 0.  1.]\n",
      "CITY_Bradford\n",
      "[ 0.  1.]\n",
      "CITY_Bradley\n",
      "[ 0.  1.]\n",
      "CITY_Braidwood\n",
      "[ 0.  1.]\n",
      "CITY_Breese\n",
      "[ 0.  1.]\n",
      "CITY_Bridgeview\n",
      "[ 0.  1.]\n",
      "CITY_Brighton\n",
      "[ 0.  1.]\n",
      "CITY_Brimfield\n",
      "[ 0.  1.]\n",
      "CITY_Broadview\n",
      "[ 0.  1.]\n",
      "CITY_Broadwell\n",
      "[ 0.  1.]\n",
      "CITY_Brocton\n",
      "[ 0.  1.]\n",
      "CITY_Brookfield\n",
      "[ 0.  1.]\n",
      "CITY_Brooklyn\n",
      "[ 0.  1.]\n",
      "CITY_Brookport\n",
      "[ 0.  1.]\n",
      "CITY_Broughton\n",
      "[ 0.  1.]\n",
      "CITY_Brownstown\n",
      "[ 0.  1.]\n",
      "CITY_Buckley\n",
      "[ 0.  1.]\n",
      "CITY_Buckner\n",
      "[ 0.  1.]\n",
      "CITY_Buda\n",
      "[ 0.  1.]\n",
      "CITY_Buffalo Grove\n",
      "[ 0.  1.]\n",
      "CITY_Bull Valley\n",
      "[ 0.  1.]\n",
      "CITY_Bulpitt\n",
      "[ 0.  1.]\n",
      "CITY_Buncombe\n",
      "[ 0.  1.]\n",
      "CITY_Bunker Hill\n",
      "[ 0.  1.]\n",
      "CITY_Burbank\n",
      "[ 0.  1.]\n",
      "CITY_Bureau Junction\n",
      "[ 0.  1.]\n",
      "CITY_Burr Ridge\n",
      "[ 0.  1.]\n",
      "CITY_Bushnell\n",
      "[ 0.  1.]\n",
      "CITY_Butler\n",
      "[ 0.  1.]\n",
      "CITY_Byron\n",
      "[ 0.  1.]\n",
      "CITY_Cahokia\n",
      "[ 0.  1.]\n",
      "CITY_Cairo\n",
      "[ 0.  1.]\n",
      "CITY_Calumet City\n",
      "[ 0.  1.]\n",
      "CITY_Calumet Park\n",
      "[ 0.  1.]\n",
      "CITY_Camargo\n",
      "[ 0.  1.]\n",
      "CITY_Cambridge\n",
      "[ 0.  1.]\n",
      "CITY_Camp Point\n",
      "[ 0.  1.]\n",
      "CITY_Campbell Hill\n",
      "[ 0.  1.]\n",
      "CITY_Campton Hills\n",
      "[ 0.  1.]\n",
      "CITY_Canton\n",
      "[ 0.  1.]\n",
      "CITY_Cantrall\n",
      "[ 0.  1.]\n",
      "CITY_Capron\n",
      "[ 0.  1.]\n",
      "CITY_Carbon Cliff\n",
      "[ 0.  1.]\n",
      "CITY_Carbondale\n",
      "[ 0.  1.]\n",
      "CITY_Carlinville\n",
      "[ 0.  1.]\n",
      "CITY_Carlyle\n",
      "[ 0.  1.]\n",
      "CITY_Carmi\n",
      "[ 0.  1.]\n",
      "CITY_Carol Stream\n",
      "[ 0.  1.]\n",
      "CITY_Carpentersville\n",
      "[ 0.  1.]\n",
      "CITY_Carrier Mills\n",
      "[ 0.  1.]\n",
      "CITY_Carrollton\n",
      "[ 0.  1.]\n",
      "CITY_Carterville\n",
      "[ 0.  1.]\n",
      "CITY_Carthage\n",
      "[ 0.  1.]\n",
      "CITY_Cary\n",
      "[ 0.  1.]\n",
      "CITY_Casey\n",
      "[ 0.  1.]\n",
      "CITY_Caseyville\n",
      "[ 0.  1.]\n",
      "CITY_Cave In Rock\n",
      "[ 0.  1.]\n",
      "CITY_Cedar Point\n",
      "[ 0.  1.]\n",
      "CITY_Cedarville\n",
      "[ 0.  1.]\n",
      "CITY_Central City\n",
      "[ 0.  1.]\n",
      "CITY_Centralia\n",
      "[ 0.  1.]\n",
      "CITY_Centreville\n",
      "[ 0.  1.]\n",
      "CITY_Cerro Gordo\n",
      "[ 0.  1.]\n",
      "CITY_Chadwick\n",
      "[ 0.  1.]\n",
      "CITY_Champaign\n",
      "[ 0.  1.]\n",
      "CITY_Chandlerville\n",
      "[ 0.  1.]\n",
      "CITY_Channahon\n",
      "[ 0.  1.]\n",
      "CITY_Charleston\n",
      "[ 0.  1.]\n",
      "CITY_Chatham\n",
      "[ 0.  1.]\n",
      "CITY_Chebanse\n",
      "[ 0.  1.]\n",
      "CITY_Chenoa\n",
      "[ 0.  1.]\n",
      "CITY_Cherry\n",
      "[ 0.  1.]\n",
      "CITY_Cherry Valley\n",
      "[ 0.  1.]\n",
      "CITY_Chester\n",
      "[ 0.  1.]\n",
      "CITY_Chicago\n",
      "[ 0.  1.]\n",
      "CITY_Chicago Hts\n",
      "[ 0.  1.]\n",
      "CITY_Chicago Ridge\n",
      "[ 0.  1.]\n",
      "CITY_Chillicothe\n",
      "[ 0.  1.]\n",
      "CITY_Chrisman\n",
      "[ 0.  1.]\n",
      "CITY_Christopher\n",
      "[ 0.  1.]\n",
      "CITY_Cicero\n",
      "[ 0.  1.]\n",
      "CITY_Cisco\n",
      "[ 0.  1.]\n",
      "CITY_Cisne\n",
      "[ 0.  1.]\n",
      "CITY_Cissna Park\n",
      "[ 0.  1.]\n",
      "CITY_Clarendon Hills\n",
      "[ 0.  1.]\n",
      "CITY_Clay City\n",
      "[ 0.  1.]\n",
      "CITY_Clayton\n",
      "[ 0.  1.]\n",
      "CITY_Clifton\n",
      "[ 0.  1.]\n",
      "CITY_Clinton\n",
      "[ 0.  1.]\n",
      "CITY_Coal City\n",
      "[ 0.  1.]\n",
      "CITY_Coal Valley\n",
      "[ 0.  1.]\n",
      "CITY_Coatsburg\n",
      "[ 0.  1.]\n",
      "CITY_Coffeen\n",
      "[ 0.  1.]\n",
      "CITY_Colchester\n",
      "[ 0.  1.]\n",
      "CITY_Collinsville\n",
      "[ 0.  1.]\n",
      "CITY_Colona\n",
      "[ 0.  1.]\n",
      "CITY_Columbia\n",
      "[ 0.  1.]\n",
      "CITY_Congerville\n",
      "[ 0.  1.]\n",
      "CITY_Cordova\n",
      "[ 0.  1.]\n",
      "CITY_Cortland\n",
      "[ 0.  1.]\n",
      "CITY_Coulterville\n",
      "[ 0.  1.]\n",
      "CITY_Country Club Hills\n",
      "[ 0.  1.]\n",
      "CITY_Countryside\n",
      "[ 0.  1.]\n",
      "CITY_Cowden\n",
      "[ 0.  1.]\n",
      "CITY_Crainville\n",
      "[ 0.  1.]\n",
      "CITY_Crescent City\n",
      "[ 0.  1.]\n",
      "CITY_Crest Hill\n",
      "[ 0.  1.]\n",
      "CITY_Creston\n",
      "[ 0.  1.]\n",
      "CITY_Crestwood\n",
      "[ 0.  1.]\n",
      "CITY_Crete\n",
      "[ 0.  1.]\n",
      "CITY_Creve Coeur\n",
      "[ 0.  1.]\n",
      "CITY_Crystal Lake\n",
      "[ 0.  1.]\n",
      "CITY_Cuba\n",
      "[ 0.  1.]\n",
      "CITY_Cutler\n",
      "[ 0.  1.]\n",
      "CITY_Dahlgren\n",
      "[ 0.  1.]\n",
      "CITY_Dallas City\n",
      "[ 0.  1.]\n",
      "CITY_Dalton City\n",
      "[ 0.  1.]\n",
      "CITY_Dalzell\n",
      "[ 0.  1.]\n",
      "CITY_Danforth\n",
      "[ 0.  1.]\n",
      "CITY_Danville\n",
      "[ 0.  1.]\n",
      "CITY_Darien\n",
      "[ 0.  1.]\n",
      "CITY_Davis\n",
      "[ 0.  1.]\n",
      "CITY_Davis Junction\n",
      "[ 0.  1.]\n",
      "CITY_DeKalb\n",
      "[ 0.  1.]\n",
      "CITY_Decatur\n",
      "[ 0.  1.]\n",
      "CITY_Deer Grove\n",
      "[ 0.  1.]\n",
      "CITY_Deer Park\n",
      "[ 0.  1.]\n",
      "CITY_Deerfield\n",
      "[ 0.  1.]\n",
      "CITY_Deland\n",
      "[ 0.  1.]\n",
      "CITY_Delavan\n",
      "[ 0.  1.]\n",
      "CITY_Depue\n",
      "[ 0.  1.]\n",
      "CITY_Des Plaines\n",
      "[ 0.  1.]\n",
      "CITY_Desoto\n",
      "[ 0.  1.]\n",
      "CITY_Detroit\n",
      "[ 0.  1.]\n",
      "CITY_Dewitt\n",
      "[ 0.  1.]\n",
      "CITY_Diamond\n",
      "[ 0.  1.]\n",
      "CITY_Dieterich\n",
      "[ 0.  1.]\n",
      "CITY_Divernon\n",
      "[ 0.  1.]\n",
      "CITY_Dix\n",
      "[ 0.  1.]\n",
      "CITY_Dixmoor\n",
      "[ 0.  1.]\n",
      "CITY_Dixon\n",
      "[ 0.  1.]\n",
      "CITY_Dolton\n",
      "[ 0.  1.]\n",
      "CITY_Donovan\n",
      "[ 0.  1.]\n",
      "CITY_Downers Grove\n",
      "[ 0.  1.]\n",
      "CITY_Downs\n",
      "[ 0.  1.]\n",
      "CITY_DuQuoin\n",
      "[ 0.  1.]\n",
      "CITY_Dubois\n",
      "[ 0.  1.]\n",
      "CITY_Dunlap\n",
      "[ 0.  1.]\n",
      "CITY_Dupo\n",
      "[ 0.  1.]\n",
      "CITY_Durand\n",
      "[ 0.  1.]\n",
      "CITY_Dwight\n",
      "[ 0.  1.]\n",
      "CITY_E Cape\n",
      "[ 0.  1.]\n",
      "CITY_E St Louis\n",
      "[ 0.  1.]\n",
      "CITY_East Alton\n",
      "[ 0.  1.]\n",
      "CITY_East Dubuque\n",
      "[ 0.  1.]\n",
      "CITY_East Dundee\n",
      "[ 0.  1.]\n",
      "CITY_East Gillespie\n",
      "[ 0.  1.]\n",
      "CITY_East Hazelcrest\n",
      "[ 0.  1.]\n",
      "CITY_East Moline\n",
      "[ 0.  1.]\n",
      "CITY_East Peoria\n",
      "[ 0.  1.]\n",
      "CITY_Edgewood\n",
      "[ 0.  1.]\n",
      "CITY_Edinburg\n",
      "[ 0.  1.]\n",
      "CITY_Edwardsville\n",
      "[ 0.  1.]\n",
      "CITY_Effingham\n",
      "[ 0.  1.]\n",
      "CITY_El Paso\n",
      "[ 0.  1.]\n",
      "CITY_Elburn\n",
      "[ 0.  1.]\n",
      "CITY_Eldorado\n",
      "[ 0.  1.]\n",
      "CITY_Elgin\n",
      "[ 0.  1.]\n",
      "CITY_Elizabeth\n",
      "[ 0.  1.]\n",
      "CITY_Elizabethtown\n",
      "[ 0.  1.]\n",
      "CITY_Elk Grove\n",
      "[ 0.  1.]\n",
      "CITY_Elkhart\n",
      "[ 0.  1.]\n",
      "CITY_Elkville\n",
      "[ 0.  1.]\n",
      "CITY_Ellis Grove\n",
      "[ 0.  1.]\n",
      "CITY_Elmhurst\n",
      "[ 0.  1.]\n",
      "CITY_Elmwood\n",
      "[ 0.  1.]\n",
      "CITY_Elmwood Park\n",
      "[ 0.  1.]\n",
      "CITY_Elwood\n",
      "[ 0.  1.]\n",
      "CITY_Energy\n",
      "[ 0.  1.]\n",
      "CITY_Enfield\n",
      "[ 0.  1.]\n",
      "CITY_Equality\n",
      "[ 0.  1.]\n",
      "CITY_Eureka\n",
      "[ 0.  1.]\n",
      "CITY_Evansville\n",
      "[ 0.  1.]\n",
      "CITY_Evergreen Park\n",
      "[ 0.  1.]\n",
      "CITY_Fairbury\n",
      "[ 0.  1.]\n",
      "CITY_Fairfield\n",
      "[ 0.  1.]\n",
      "CITY_Fairmont\n",
      "[ 0.  1.]\n",
      "CITY_Fairview Hts\n",
      "[ 0.  1.]\n",
      "CITY_Farina\n",
      "[ 0.  1.]\n",
      "CITY_Farmer City\n",
      "[ 0.  1.]\n",
      "CITY_Farmington\n",
      "[ 0.  1.]\n",
      "CITY_Fayetteville\n",
      "[ 0.  1.]\n",
      "CITY_Flanagan\n",
      "[ 0.  1.]\n",
      "CITY_Flat Rock\n",
      "[ 0.  1.]\n",
      "CITY_Flora\n",
      "[ 0.  1.]\n",
      "CITY_Ford Heights\n",
      "[ 0.  1.]\n",
      "CITY_Forest Park\n",
      "[ 0.  1.]\n",
      "CITY_Forestview\n",
      "[ 0.  1.]\n",
      "CITY_Forrest\n",
      "[ 0.  1.]\n",
      "CITY_Forreston\n",
      "[ 0.  1.]\n",
      "CITY_Forsyth\n",
      "[ 0.  1.]\n",
      "CITY_Fox Lake\n",
      "[ 0.  1.]\n",
      "CITY_Fox River Grove\n",
      "[ 0.  1.]\n",
      "CITY_Frankfort\n",
      "[ 0.  1.]\n",
      "CITY_Franklin\n",
      "[ 0.  1.]\n",
      "CITY_Franklin Grove\n",
      "[ 0.  1.]\n",
      "CITY_Franklin Park\n",
      "[ 0.  1.]\n",
      "CITY_Freeburg\n",
      "[ 0.  1.]\n",
      "CITY_Freeport\n",
      "[ 0.  1.]\n",
      "CITY_Fulton\n",
      "[ 0.  1.]\n",
      "CITY_Galatia\n",
      "[ 0.  1.]\n",
      "CITY_Galena\n",
      "[ 0.  1.]\n",
      "CITY_Galesburg\n",
      "[ 0.  1.]\n",
      "CITY_Galva\n",
      "[ 0.  1.]\n",
      "CITY_Gardner\n",
      "[ 0.  1.]\n",
      "CITY_Geneseo\n",
      "[ 0.  1.]\n",
      "CITY_Geneva\n",
      "[ 0.  1.]\n",
      "CITY_Genoa\n",
      "[ 0.  1.]\n",
      "CITY_Georgetown\n",
      "[ 0.  1.]\n",
      "CITY_Germantown Hills\n",
      "[ 0.  1.]\n",
      "CITY_Gibson City\n",
      "[ 0.  1.]\n",
      "CITY_Gifford\n",
      "[ 0.  1.]\n",
      "CITY_Gilberts\n",
      "[ 0.  1.]\n",
      "CITY_Gillespie\n",
      "[ 0.  1.]\n",
      "CITY_Gilman\n",
      "[ 0.  1.]\n",
      "CITY_Girard\n",
      "[ 0.  1.]\n",
      "CITY_Gladstone\n",
      "[ 0.  1.]\n",
      "CITY_Glen Carbon\n",
      "[ 0.  1.]\n",
      "CITY_Glen Ellyn\n",
      "[ 0.  1.]\n",
      "CITY_Glencoe\n",
      "[ 0.  1.]\n",
      "CITY_Glendale Hts\n",
      "[ 0.  1.]\n",
      "CITY_Glenview\n",
      "[ 0.  1.]\n",
      "CITY_Glenwood\n",
      "[ 0.  1.]\n",
      "CITY_Godfrey\n",
      "[ 0.  1.]\n",
      "CITY_Godley\n",
      "[ 0.  1.]\n",
      "CITY_Golden\n",
      "[ 0.  1.]\n",
      "CITY_Good Hope\n",
      "[ 0.  1.]\n",
      "CITY_Goodfield\n",
      "[ 0.  1.]\n",
      "CITY_Goreville\n",
      "[ 0.  1.]\n",
      "CITY_Grafton\n",
      "[ 0.  1.]\n",
      "CITY_Grand Chain\n",
      "[ 0.  1.]\n",
      "CITY_Grand Ridge\n",
      "[ 0.  1.]\n",
      "CITY_Grand Tower\n",
      "[ 0.  1.]\n",
      "CITY_Granite City\n",
      "[ 0.  1.]\n",
      "CITY_Grant Park\n",
      "[ 0.  1.]\n",
      "CITY_Grantfork\n",
      "[ 0.  1.]\n",
      "CITY_Granville\n",
      "[ 0.  1.]\n",
      "CITY_Grayslake\n",
      "[ 0.  1.]\n",
      "CITY_Grayville\n",
      "[ 0.  1.]\n",
      "CITY_Green Oaks\n",
      "[ 0.  1.]\n",
      "CITY_Green Valley\n",
      "[ 0.  1.]\n",
      "CITY_Greenfield\n",
      "[ 0.  1.]\n",
      "CITY_Greenup\n",
      "[ 0.  1.]\n",
      "CITY_Greenview\n",
      "[ 0.  1.]\n",
      "CITY_Greenville\n",
      "[ 0.  1.]\n",
      "CITY_Gridley\n",
      "[ 0.  1.]\n",
      "CITY_Griggsville\n",
      "[ 0.  1.]\n",
      "CITY_Gurnee\n",
      "[ 0.  1.]\n",
      "CITY_Hainesville\n",
      "[ 0.  1.]\n",
      "CITY_Hamel\n",
      "[ 0.  1.]\n",
      "CITY_Hamilton\n",
      "[ 0.  1.]\n",
      "CITY_Hampshire\n",
      "[ 0.  1.]\n",
      "CITY_Hampton\n",
      "[ 0.  1.]\n",
      "CITY_Hanna City\n",
      "[ 0.  1.]\n",
      "CITY_Hanover\n",
      "[ 0.  1.]\n",
      "CITY_Hanover Park\n",
      "[ 0.  1.]\n",
      "CITY_Hardin\n",
      "[ 0.  1.]\n",
      "CITY_Harrisburg\n",
      "[ 0.  1.]\n",
      "CITY_Harristown\n",
      "[ 0.  1.]\n",
      "CITY_Hartford\n",
      "[ 0.  1.]\n",
      "CITY_Harvard\n",
      "[ 0.  1.]\n",
      "CITY_Harvey\n",
      "[ 0.  1.]\n",
      "CITY_Harwood Hts\n",
      "[ 0.  1.]\n",
      "CITY_Havana\n",
      "[ 0.  1.]\n",
      "CITY_Hawthorn Woods\n",
      "[ 0.  1.]\n",
      "CITY_Hazelcrest\n",
      "[ 0.  1.]\n",
      "CITY_Hebron\n",
      "[ 0.  1.]\n",
      "CITY_Hennepin\n",
      "[ 0.  1.]\n",
      "CITY_Henning\n",
      "[ 0.  1.]\n",
      "CITY_Henry\n",
      "[ 0.  1.]\n",
      "CITY_Herrin\n",
      "[ 0.  1.]\n",
      "CITY_Herscher\n",
      "[ 0.  1.]\n",
      "CITY_Hettick\n",
      "[ 0.  1.]\n",
      "CITY_Heyworth\n",
      "[ 0.  1.]\n",
      "CITY_Hickory Hills\n",
      "[ 0.  1.]\n",
      "CITY_Highland\n",
      "[ 0.  1.]\n",
      "CITY_Highland Park\n",
      "[ 0.  1.]\n",
      "CITY_Hillcrest\n",
      "[ 0.  1.]\n",
      "CITY_Hillsboro\n",
      "[ 0.  1.]\n",
      "CITY_Hillside\n",
      "[ 0.  1.]\n",
      "CITY_Hinckley\n",
      "[ 0.  1.]\n",
      "CITY_Hinsdale\n",
      "[ 0.  1.]\n",
      "CITY_Hodgkins\n",
      "[ 0.  1.]\n",
      "CITY_Hoffman\n",
      "[ 0.  1.]\n",
      "CITY_Hoffman Estates\n",
      "[ 0.  1.]\n",
      "CITY_Hollowayville\n",
      "[ 0.  1.]\n",
      "CITY_Homer\n",
      "[ 0.  1.]\n",
      "CITY_Homer Glen\n",
      "[ 0.  1.]\n",
      "CITY_Hometown\n",
      "[ 0.  1.]\n",
      "CITY_Homewood\n",
      "[ 0.  1.]\n",
      "CITY_Hoopeston\n",
      "[ 0.  1.]\n",
      "CITY_Hopedale\n",
      "[ 0.  1.]\n",
      "CITY_Hoyleton\n",
      "[ 0.  1.]\n",
      "CITY_Hudson\n",
      "[ 0.  1.]\n",
      "CITY_Hull\n",
      "[ 0.  1.]\n",
      "CITY_Huntley\n",
      "[ 0.  1.]\n",
      "CITY_Hurst\n",
      "[ 0.  1.]\n",
      "CITY_Ina\n",
      "[ 0.  1.]\n",
      "CITY_Indian Creek\n",
      "[ 0.  1.]\n",
      "CITY_Indian Head Park\n",
      "[ 0.  1.]\n",
      "CITY_Industry\n",
      "[ 0.  1.]\n",
      "CITY_Inverness\n",
      "[ 0.  1.]\n",
      "CITY_Ipava\n",
      "[ 0.  1.]\n",
      "CITY_Iroquois\n",
      "[ 0.  1.]\n",
      "CITY_Irving\n",
      "[ 0.  1.]\n",
      "CITY_Irvington\n",
      "[ 0.  1.]\n",
      "CITY_Island Lake\n",
      "[ 0.  1.]\n",
      "CITY_Itasca\n",
      "[ 0.  1.]\n",
      "CITY_Iuka\n",
      "[ 0.  1.]\n",
      "CITY_Jacksonville\n",
      "[ 0.  1.]\n",
      "CITY_Jeffersonville\n",
      "[ 0.  1.]\n",
      "CITY_Jerseyville\n",
      "[ 0.  1.]\n",
      "CITY_Johnsburg\n",
      "[ 0.  1.]\n",
      "CITY_Johnston City\n",
      "[ 0.  1.]\n",
      "CITY_Joliet\n",
      "[ 0.  1.]\n",
      "CITY_Jonesboro\n",
      "[ 0.  1.]\n",
      "CITY_Justice\n",
      "[ 0.  1.]\n",
      "CITY_Kampsville\n",
      "[ 0.  1.]\n",
      "CITY_Kankakee\n",
      "[ 0.  1.]\n",
      "CITY_Karnak\n",
      "[ 0.  1.]\n",
      "CITY_Keenes\n",
      "[ 0.  1.]\n",
      "CITY_Kewanee\n",
      "[ 0.  1.]\n",
      "CITY_Kilbourne\n",
      "[ 0.  1.]\n",
      "CITY_Kildeer\n",
      "[ 0.  1.]\n",
      "CITY_Kincaid\n",
      "[ 0.  1.]\n",
      "CITY_Kinderhook\n",
      "[ 0.  1.]\n",
      "CITY_Kingston\n",
      "[ 0.  1.]\n",
      "CITY_Kingston Mines\n",
      "[ 0.  1.]\n",
      "CITY_Kinmundy\n",
      "[ 0.  1.]\n",
      "CITY_Kirkland\n",
      "[ 0.  1.]\n",
      "CITY_Knoxville\n",
      "[ 0.  1.]\n",
      "CITY_La Harpe\n",
      "[ 0.  1.]\n",
      "CITY_La Rose\n",
      "[ 0.  1.]\n",
      "CITY_LaGrange\n",
      "[ 0.  1.]\n",
      "CITY_LaGrange Park\n",
      "[ 0.  1.]\n",
      "CITY_Lacon\n",
      "[ 0.  1.]\n",
      "CITY_Ladd\n",
      "[ 0.  1.]\n",
      "CITY_Lake Barrington\n",
      "[ 0.  1.]\n",
      "CITY_Lake Bluff\n",
      "[ 0.  1.]\n",
      "CITY_Lake Forest\n",
      "[ 0.  1.]\n",
      "CITY_Lake In The Hills\n",
      "[ 0.  1.]\n",
      "CITY_Lake Villa\n",
      "[ 0.  1.]\n",
      "CITY_Lake Zurich\n",
      "[ 0.  1.]\n",
      "CITY_Lakemoor\n",
      "[ 0.  1.]\n",
      "CITY_Lakewood\n",
      "[ 0.  1.]\n",
      "CITY_Lamoille\n",
      "[ 0.  1.]\n",
      "CITY_Lanark\n",
      "[ 0.  1.]\n",
      "CITY_Lansing\n",
      "[ 0.  1.]\n",
      "CITY_Lasalle\n",
      "[ 0.  1.]\n",
      "CITY_Latham\n",
      "[ 0.  1.]\n",
      "CITY_Lawrenceville\n",
      "[ 0.  1.]\n",
      "CITY_Leaf River\n",
      "[ 0.  1.]\n",
      "CITY_Lebanon\n",
      "[ 0.  1.]\n",
      "CITY_Lemont\n",
      "[ 0.  1.]\n",
      "CITY_Lena\n",
      "[ 0.  1.]\n",
      "CITY_Leroy\n",
      "[ 0.  1.]\n",
      "CITY_Lewistown\n",
      "[ 0.  1.]\n",
      "CITY_Lexington\n",
      "[ 0.  1.]\n",
      "CITY_Liberty\n",
      "[ 0.  1.]\n",
      "CITY_Libertyville\n",
      "[ 0.  1.]\n",
      "CITY_Lily Lake\n",
      "[ 0.  1.]\n",
      "CITY_Lima\n",
      "[ 0.  1.]\n",
      "CITY_Limestone\n",
      "[ 0.  1.]\n",
      "CITY_Lincoln\n",
      "[ 0.  1.]\n",
      "CITY_Lincolnshire\n",
      "[ 0.  1.]\n",
      "CITY_Lincolnwood\n",
      "[ 0.  1.]\n",
      "CITY_Lindenhurst\n",
      "[ 0.  1.]\n",
      "CITY_Lisle\n",
      "[ 0.  1.]\n",
      "CITY_Litchfield\n",
      "[ 0.  1.]\n",
      "CITY_Livingston\n",
      "[ 0.  1.]\n",
      "CITY_Lockport\n",
      "[ 0.  1.]\n",
      "CITY_Loda\n",
      "[ 0.  1.]\n",
      "CITY_Lomax\n",
      "[ 0.  1.]\n",
      "CITY_Lombard\n",
      "[ 0.  1.]\n",
      "CITY_London Mills\n",
      "[ 0.  1.]\n",
      "CITY_Long Creek\n",
      "[ 0.  1.]\n",
      "CITY_Long Grove\n",
      "[ 0.  1.]\n",
      "CITY_Loraine\n",
      "[ 0.  1.]\n",
      "CITY_Lostant\n",
      "[ 0.  1.]\n",
      "CITY_Louisville\n",
      "[ 0.  1.]\n",
      "CITY_Loves Park\n",
      "[ 0.  1.]\n",
      "CITY_Lovington\n",
      "[ 0.  1.]\n",
      "CITY_Ludlow\n",
      "[ 0.  1.]\n",
      "CITY_Lynnwood\n",
      "[ 0.  1.]\n",
      "CITY_Lyons\n",
      "[ 0.  1.]\n",
      "CITY_Machesney Park\n",
      "[ 0.  1.]\n",
      "CITY_Mackinaw\n",
      "[ 0.  1.]\n",
      "CITY_Macomb\n",
      "[ 0.  1.]\n",
      "CITY_Macon\n",
      "[ 0.  1.]\n",
      "CITY_Madison\n",
      "[ 0.  1.]\n",
      "CITY_Magnolia\n",
      "[ 0.  1.]\n",
      "CITY_Mahomet\n",
      "[ 0.  1.]\n",
      "CITY_Makanda\n",
      "[ 0.  1.]\n",
      "CITY_Malta\n",
      "[ 0.  1.]\n",
      "CITY_Manchester\n",
      "[ 0.  1.]\n",
      "CITY_Manhattan\n",
      "[ 0.  1.]\n",
      "CITY_Manteno\n",
      "[ 0.  1.]\n",
      "CITY_Maple Park\n",
      "[ 0.  1.]\n",
      "CITY_Mapleton\n",
      "[ 0.  1.]\n",
      "CITY_Maquon\n",
      "[ 0.  1.]\n",
      "CITY_Marengo\n",
      "[ 0.  1.]\n",
      "CITY_Marine\n",
      "[ 0.  1.]\n",
      "CITY_Marion\n",
      "[ 0.  1.]\n",
      "CITY_Marissa\n",
      "[ 0.  1.]\n",
      "CITY_Mark\n",
      "[ 0.  1.]\n",
      "CITY_Markham\n",
      "[ 0.  1.]\n",
      "CITY_Maroa\n",
      "[ 0.  1.]\n",
      "CITY_Marquette Hts\n",
      "[ 0.  1.]\n",
      "CITY_Marseilles\n",
      "[ 0.  1.]\n",
      "CITY_Marshall\n",
      "[ 0.  1.]\n",
      "CITY_Martinsville\n",
      "[ 0.  1.]\n",
      "CITY_Maryville\n",
      "[ 0.  1.]\n",
      "CITY_Mascoutah\n",
      "[ 0.  1.]\n",
      "CITY_Mason\n",
      "[ 0.  1.]\n",
      "CITY_Mason City\n",
      "[ 0.  1.]\n",
      "CITY_Matteson\n",
      "[ 0.  1.]\n",
      "CITY_Mattoon\n",
      "[ 0.  1.]\n",
      "CITY_Maywood\n",
      "[ 0.  1.]\n",
      "CITY_Mazon\n",
      "[ 0.  1.]\n",
      "CITY_McHenry\n",
      "[ 0.  1.]\n",
      "CITY_McLean\n",
      "[ 0.  1.]\n",
      "CITY_McLeansboro\n",
      "[ 0.  1.]\n",
      "CITY_McNabb\n",
      "[ 0.  1.]\n",
      "CITY_Mccook\n",
      "[ 0.  1.]\n",
      "CITY_Melrose Park\n",
      "[ 0.  1.]\n",
      "CITY_Melvin\n",
      "[ 0.  1.]\n",
      "CITY_Mendon\n",
      "[ 0.  1.]\n",
      "CITY_Mendota\n",
      "[ 0.  1.]\n",
      "CITY_Menominee\n",
      "[ 0.  1.]\n",
      "CITY_Meredosia\n",
      "[ 0.  1.]\n",
      "CITY_Metamora\n",
      "[ 0.  1.]\n",
      "CITY_Metropolis\n",
      "[ 0.  1.]\n",
      "CITY_Mettawa\n",
      "[ 0.  1.]\n",
      "CITY_Midlothian\n",
      "[ 0.  1.]\n",
      "CITY_Milan\n",
      "[ 0.  1.]\n",
      "CITY_Milledgeville\n",
      "[ 0.  1.]\n",
      "CITY_Millstadt\n",
      "[ 0.  1.]\n",
      "CITY_Mineral\n",
      "[ 0.  1.]\n",
      "CITY_Minonk\n",
      "[ 0.  1.]\n",
      "CITY_Minooka\n",
      "[ 0.  1.]\n",
      "CITY_Mokena\n",
      "[ 0.  1.]\n",
      "CITY_Moline\n",
      "[ 0.  1.]\n",
      "CITY_Momence\n",
      "[ 0.  1.]\n",
      "CITY_Monee\n",
      "[ 0.  1.]\n",
      "CITY_Monmouth\n",
      "[ 0.  1.]\n",
      "CITY_Monroe Center\n",
      "[ 0.  1.]\n",
      "CITY_Montgomery\n",
      "[ 0.  1.]\n",
      "CITY_Monticello\n",
      "[ 0.  1.]\n",
      "CITY_Montrose\n",
      "[ 0.  1.]\n",
      "CITY_Morris\n",
      "[ 0.  1.]\n",
      "CITY_Morrison\n",
      "[ 0.  1.]\n",
      "CITY_Morrisonville\n",
      "[ 0.  1.]\n",
      "CITY_Morton\n",
      "[ 0.  1.]\n",
      "CITY_Morton Grove\n",
      "[ 0.  1.]\n",
      "CITY_Mound City\n",
      "[ 0.  1.]\n",
      "CITY_Mt Carmel\n",
      "[ 0.  1.]\n",
      "CITY_Mt Carroll\n",
      "[ 0.  1.]\n",
      "CITY_Mt Clare\n",
      "[ 0.  1.]\n",
      "CITY_Mt Morris\n",
      "[ 0.  1.]\n",
      "CITY_Mt Olive\n",
      "[ 0.  1.]\n",
      "CITY_Mt Prospect\n",
      "[ 0.  1.]\n",
      "CITY_Mt Pulaski\n",
      "[ 0.  1.]\n",
      "CITY_Mt Sterling\n",
      "[ 0.  1.]\n",
      "CITY_Mt Vernon\n",
      "[ 0.  1.]\n",
      "CITY_Mt Zion\n",
      "[ 0.  1.]\n",
      "CITY_Muddy\n",
      "[ 0.  1.]\n",
      "CITY_Mulberry Grove\n",
      "[ 0.  1.]\n",
      "CITY_Mundelein\n",
      "[ 0.  1.]\n",
      "CITY_Murphysboro\n",
      "[ 0.  1.]\n",
      "CITY_N Barrington\n",
      "[ 0.  1.]\n",
      "CITY_Naperville\n",
      "[ 0.  1.]\n",
      "CITY_Nashville\n",
      "[ 0.  1.]\n",
      "CITY_Nauvoo\n",
      "[ 0.  1.]\n",
      "CITY_Neoga\n",
      "[ 0.  1.]\n",
      "CITY_Neponset\n",
      "[ 0.  1.]\n",
      "CITY_New Athens\n",
      "[ 0.  1.]\n",
      "CITY_New Baden\n",
      "[ 0.  1.]\n",
      "CITY_New Burnside\n",
      "[ 0.  1.]\n",
      "CITY_New Haven\n",
      "[ 0.  1.]\n",
      "CITY_New Lenox\n",
      "[ 0.  1.]\n",
      "CITY_New Millford\n",
      "[ 0.  1.]\n",
      "CITY_New Minden\n",
      "[ 0.  1.]\n",
      "CITY_New Windsor\n",
      "[ 0.  1.]\n",
      "CITY_Newark\n",
      "[ 0.  1.]\n",
      "CITY_Newton\n",
      "[ 0.  1.]\n",
      "CITY_Niles\n",
      "[ 0.  1.]\n",
      "CITY_No Aurora\n",
      "[ 0.  1.]\n",
      "CITY_Noble\n",
      "[ 0.  1.]\n",
      "CITY_Nokomis\n",
      "[ 0.  1.]\n",
      "CITY_Normal\n",
      "[ 0.  1.]\n",
      "CITY_Norridge\n",
      "[ 0.  1.]\n",
      "CITY_Norris\n",
      "[ 0.  1.]\n",
      "CITY_Norris City\n",
      "[ 0.  1.]\n",
      "CITY_North Caledonia\n",
      "[ 0.  1.]\n",
      "CITY_North Chicago\n",
      "[ 0.  1.]\n",
      "CITY_North City\n",
      "[ 0.  1.]\n",
      "CITY_North Lake\n",
      "[ 0.  1.]\n",
      "CITY_North Pekin\n",
      "[ 0.  1.]\n",
      "CITY_North Riverside\n",
      "[ 0.  1.]\n",
      "CITY_Northbrook\n",
      "[ 0.  1.]\n",
      "CITY_Northfield\n",
      "[ 0.  1.]\n",
      "CITY_O'Fallon\n",
      "[ 0.  1.]\n",
      "CITY_Oak Brook\n",
      "[ 0.  1.]\n",
      "CITY_Oak Forest\n",
      "[ 0.  1.]\n",
      "CITY_Oak Lawn\n",
      "[ 0.  1.]\n",
      "CITY_Oak Park\n",
      "[ 0.  1.]\n",
      "CITY_Oakbrook Terrace\n",
      "[ 0.  1.]\n",
      "CITY_Oakford\n",
      "[ 0.  1.]\n",
      "CITY_Oakwood\n",
      "[ 0.  1.]\n",
      "CITY_Oblong\n",
      "[ 0.  1.]\n",
      "CITY_Odin\n",
      "[ 0.  1.]\n",
      "CITY_Ogden\n",
      "[ 0.  1.]\n",
      "CITY_Oglesby\n",
      "[ 0.  1.]\n",
      "CITY_Ohio\n",
      "[ 0.  1.]\n",
      "CITY_Okawville\n",
      "[ 0.  1.]\n",
      "CITY_Old Mill Creek\n",
      "[ 0.  1.]\n",
      "CITY_Old Shawneetown\n",
      "[ 0.  1.]\n",
      "CITY_Olney\n",
      "[ 0.  1.]\n",
      "CITY_Olympia Fields\n",
      "[ 0.  1.]\n",
      "CITY_Omaha\n",
      "[ 0.  1.]\n",
      "CITY_Onarga\n",
      "[ 0.  1.]\n",
      "CITY_Oneida\n",
      "[ 0.  1.]\n",
      "CITY_Orangeville\n",
      "[ 0.  1.]\n",
      "CITY_Oreana\n",
      "[ 0.  1.]\n",
      "CITY_Oregon\n",
      "[ 0.  1.]\n",
      "CITY_Orion\n",
      "[ 0.  1.]\n",
      "CITY_Orland Hills\n",
      "[ 0.  1.]\n",
      "CITY_Orland Park\n",
      "[ 0.  1.]\n",
      "CITY_Oswego\n",
      "[ 0.  1.]\n",
      "CITY_Ottawa\n",
      "[ 0.  1.]\n",
      "CITY_Owaneco\n",
      "[ 0.  1.]\n",
      "CITY_Palatine\n",
      "[ 0.  1.]\n",
      "CITY_Palestine\n",
      "[ 0.  1.]\n",
      "CITY_Palmyra\n",
      "[ 0.  1.]\n",
      "CITY_Palos Hills\n",
      "[ 0.  1.]\n",
      "CITY_Palos Hts\n",
      "[ 0.  1.]\n",
      "CITY_Palos Park\n",
      "[ 0.  1.]\n",
      "CITY_Pana\n",
      "[ 0.  1.]\n",
      "CITY_Paris\n",
      "[ 0.  1.]\n",
      "CITY_Park City\n",
      "[ 0.  1.]\n",
      "CITY_Park Forest\n",
      "[ 0.  1.]\n",
      "CITY_Park Ridge\n",
      "[ 0.  1.]\n",
      "CITY_Parkersburg\n",
      "[ 0.  1.]\n",
      "CITY_Patoka\n",
      "[ 0.  1.]\n",
      "CITY_Pawnee\n",
      "[ 0.  1.]\n",
      "CITY_Paxton\n",
      "[ 0.  1.]\n",
      "CITY_Payson\n",
      "[ 0.  1.]\n",
      "CITY_Pearl City\n",
      "[ 0.  1.]\n",
      "CITY_Pekin\n",
      "[ 0.  1.]\n",
      "CITY_Peoria\n",
      "[ 0.  1.]\n",
      "CITY_Peoria Hts\n",
      "[ 0.  1.]\n",
      "CITY_Peotone\n",
      "[ 0.  1.]\n",
      "CITY_Percy\n",
      "[ 0.  1.]\n",
      "CITY_Perry\n",
      "[ 0.  1.]\n",
      "CITY_Peru\n",
      "[ 0.  1.]\n",
      "CITY_Pesotum\n",
      "[ 0.  1.]\n",
      "CITY_Petersburg\n",
      "[ 0.  1.]\n",
      "CITY_Philo\n",
      "[ 0.  1.]\n",
      "CITY_Phoenix\n",
      "[ 0.  1.]\n",
      "CITY_Pierron\n",
      "[ 0.  1.]\n",
      "CITY_Pinckneyville\n",
      "[ 0.  1.]\n",
      "CITY_Pingree Grove\n",
      "[ 0.  1.]\n",
      "CITY_Piper City\n",
      "[ 0.  1.]\n",
      "CITY_Pittsfield\n",
      "[ 0.  1.]\n",
      "CITY_Plainfield\n",
      "[ 0.  1.]\n",
      "CITY_Plano\n",
      "[ 0.  1.]\n",
      "CITY_Pleasant Hill\n",
      "[ 0.  1.]\n",
      "CITY_Polo\n",
      "[ 0.  1.]\n",
      "CITY_Pontiac\n",
      "[ 0.  1.]\n",
      "CITY_Pontoon Beach\n",
      "[ 0.  1.]\n",
      "CITY_Pontoosuc\n",
      "[ 0.  1.]\n",
      "CITY_Poplar Grove\n",
      "[ 0.  1.]\n",
      "CITY_Port Byron\n",
      "[ 0.  1.]\n",
      "CITY_Posen\n",
      "[ 0.  1.]\n",
      "CITY_Potomac\n",
      "[ 0.  1.]\n",
      "CITY_Prairie City\n",
      "[ 0.  1.]\n",
      "CITY_Prairie Du Rocher\n",
      "[ 0.  1.]\n",
      "CITY_Prairie Grove\n",
      "[ 0.  1.]\n",
      "CITY_Princeton\n",
      "[ 0.  1.]\n",
      "CITY_Princeville\n",
      "[ 0.  1.]\n",
      "CITY_Prophetstown\n",
      "[ 0.  1.]\n",
      "CITY_Prospect Hts\n",
      "[ 0.  1.]\n",
      "CITY_Quincy\n",
      "[ 0.  1.]\n",
      "CITY_Raleigh\n",
      "[ 0.  1.]\n",
      "CITY_Rankin\n",
      "[ 0.  1.]\n",
      "CITY_Rantoul\n",
      "[ 0.  1.]\n",
      "CITY_Rapids City\n",
      "[ 0.  1.]\n",
      "CITY_Raymond\n",
      "[ 0.  1.]\n",
      "CITY_Red Bud\n",
      "[ 0.  1.]\n",
      "CITY_Reynolds\n",
      "[ 0.  1.]\n",
      "CITY_Richmond\n",
      "[ 0.  1.]\n",
      "CITY_Richton Park\n",
      "[ 0.  1.]\n",
      "CITY_Richview\n",
      "[ 0.  1.]\n",
      "CITY_Ridgefarm\n",
      "[ 0.  1.]\n",
      "CITY_Ringwood\n",
      "[ 0.  1.]\n",
      "CITY_River Forest\n",
      "[ 0.  1.]\n",
      "CITY_River Grove\n",
      "[ 0.  1.]\n",
      "CITY_Riverdale\n",
      "[ 0.  1.]\n",
      "CITY_Riverside\n",
      "[ 0.  1.]\n",
      "CITY_Riverton\n",
      "[ 0.  1.]\n",
      "CITY_Riverwoods\n",
      "[ 0.  1.]\n",
      "CITY_Roanoke\n",
      "[ 0.  1.]\n",
      "CITY_Robbins\n",
      "[ 0.  1.]\n",
      "CITY_Roberts\n",
      "[ 0.  1.]\n",
      "CITY_Robinson\n",
      "[ 0.  1.]\n",
      "CITY_Rochelle\n",
      "[ 0.  1.]\n",
      "CITY_Rochester\n",
      "[ 0.  1.]\n",
      "CITY_Rock City\n",
      "[ 0.  1.]\n",
      "CITY_Rock Falls\n",
      "[ 0.  1.]\n",
      "CITY_Rock Island\n",
      "[ 0.  1.]\n",
      "CITY_Rockdale\n",
      "[ 0.  1.]\n",
      "CITY_Rockford\n",
      "[ 0.  1.]\n",
      "CITY_Rockton\n",
      "[ 0.  1.]\n",
      "CITY_Rolling Meadows\n",
      "[ 0.  1.]\n",
      "CITY_Romeoville\n",
      "[ 0.  1.]\n",
      "CITY_Roodhouse\n",
      "[ 0.  1.]\n",
      "CITY_Roscoe\n",
      "[ 0.  1.]\n",
      "CITY_Roselle\n",
      "[ 0.  1.]\n",
      "CITY_Rosemont\n",
      "[ 0.  1.]\n",
      "CITY_Roseville\n",
      "[ 0.  1.]\n",
      "CITY_Rossville\n",
      "[ 0.  1.]\n",
      "CITY_Round Lake\n",
      "[ 0.  1.]\n",
      "CITY_Round Lake Bch\n",
      "[ 0.  1.]\n",
      "CITY_Round Lake Park\n",
      "[ 0.  1.]\n",
      "CITY_Roxana\n",
      "[ 0.  1.]\n",
      "CITY_Royal Lakes\n",
      "[ 0.  1.]\n",
      "CITY_Rushville\n",
      "[ 0.  1.]\n",
      "CITY_Rutland\n",
      "[ 0.  1.]\n",
      "CITY_Salem\n",
      "[ 0.  1.]\n",
      "CITY_Sammons Point\n",
      "[ 0.  1.]\n",
      "CITY_Sandoval\n",
      "[ 0.  1.]\n",
      "CITY_Sandwich\n",
      "[ 0.  1.]\n",
      "CITY_Sauget\n",
      "[ 0.  1.]\n",
      "CITY_Sauk Village\n",
      "[ 0.  1.]\n",
      "CITY_Saunemin\n",
      "[ 0.  1.]\n",
      "CITY_Savanna\n",
      "[ 0.  1.]\n",
      "CITY_Savoy\n",
      "[ 0.  1.]\n",
      "CITY_Sawyerville\n",
      "[ 0.  1.]\n",
      "CITY_Schaumburg\n",
      "[ 0.  1.]\n",
      "CITY_Schiller Park\n",
      "[ 0.  1.]\n",
      "CITY_Schram City\n",
      "[ 0.  1.]\n",
      "CITY_Seneca\n",
      "[ 0.  1.]\n",
      "CITY_Sesser\n",
      "[ 0.  1.]\n",
      "CITY_Shabbona\n",
      "[ 0.  1.]\n",
      "CITY_Shawneetown\n",
      "[ 0.  1.]\n",
      "CITY_Sheffield\n",
      "[ 0.  1.]\n",
      "CITY_Shelbyville\n",
      "[ 0.  1.]\n",
      "CITY_Sherman\n",
      "[ 0.  1.]\n",
      "CITY_Shiloh\n",
      "[ 0.  1.]\n",
      "CITY_Shipman\n",
      "[ 0.  1.]\n",
      "CITY_Shorewood\n",
      "[ 0.  1.]\n",
      "CITY_Sibley\n",
      "[ 0.  1.]\n",
      "CITY_Sigel\n",
      "[ 0.  1.]\n",
      "CITY_Silvis\n",
      "[ 0.  1.]\n",
      "CITY_Sims\n",
      "[ 0.  1.]\n",
      "CITY_Skokie\n",
      "[ 0.  1.]\n",
      "CITY_Smithboro\n",
      "[ 0.  1.]\n",
      "CITY_Smithton\n",
      "[ 0.  1.]\n",
      "CITY_So Elgin\n",
      "[ 0.  1.]\n",
      "CITY_So Jacksonville\n",
      "[ 0.  1.]\n",
      "CITY_Somonauk\n",
      "[ 0.  1.]\n",
      "CITY_South Barrington\n",
      "[ 0.  1.]\n",
      "CITY_South Beloit\n",
      "[ 0.  1.]\n",
      "CITY_South Chicago Hts\n",
      "[ 0.  1.]\n",
      "CITY_South Holland\n",
      "[ 0.  1.]\n",
      "CITY_South Pekin\n",
      "[ 0.  1.]\n",
      "CITY_South Roxana\n",
      "[ 0.  1.]\n",
      "CITY_Sparland\n",
      "[ 0.  1.]\n",
      "CITY_Sparta\n",
      "[ 0.  1.]\n",
      "CITY_Spaulding\n",
      "[ 0.  1.]\n",
      "CITY_Spring Bay\n",
      "[ 0.  1.]\n",
      "CITY_Spring Grove\n",
      "[ 0.  1.]\n",
      "CITY_Spring Valley\n",
      "[ 0.  1.]\n",
      "CITY_Springfield\n",
      "[ 0.  1.]\n",
      "CITY_St Anne\n",
      "[ 0.  1.]\n",
      "CITY_St Charles\n",
      "[ 0.  1.]\n",
      "CITY_St David\n",
      "[ 0.  1.]\n",
      "CITY_St Elmo\n",
      "[ 0.  1.]\n",
      "CITY_St Jacob\n",
      "[ 0.  1.]\n",
      "CITY_St Johns\n",
      "[ 0.  1.]\n",
      "CITY_St Joseph\n",
      "[ 0.  1.]\n",
      "CITY_St Libory\n",
      "[ 0.  1.]\n",
      "CITY_Staunton\n",
      "[ 0.  1.]\n",
      "CITY_Steeleville\n",
      "[ 0.  1.]\n",
      "CITY_Steger\n",
      "[ 0.  1.]\n",
      "CITY_Sterling\n",
      "[ 0.  1.]\n",
      "CITY_Steward\n",
      "[ 0.  1.]\n",
      "CITY_Stewardson\n",
      "[ 0.  1.]\n",
      "CITY_Stickney\n",
      "[ 0.  1.]\n",
      "CITY_Stillman Valley\n",
      "[ 0.  1.]\n",
      "CITY_Stockton\n",
      "[ 0.  1.]\n",
      "CITY_Stone Park\n",
      "[ 0.  1.]\n",
      "CITY_Stonefort\n",
      "[ 0.  1.]\n",
      "CITY_Stonington\n",
      "[ 0.  1.]\n",
      "CITY_Stoy\n",
      "[ 0.  1.]\n",
      "CITY_Strawn\n",
      "[ 0.  1.]\n",
      "CITY_Streamwood\n",
      "[ 0.  1.]\n",
      "CITY_Streator\n",
      "[ 0.  1.]\n",
      "CITY_Stronghurst\n",
      "[ 0.  1.]\n",
      "CITY_Sublette\n",
      "[ 0.  1.]\n",
      "CITY_Sugar Grove\n",
      "[ 0.  1.]\n",
      "CITY_Sullivan\n",
      "[ 0.  1.]\n",
      "CITY_Summit\n",
      "[ 0.  1.]\n",
      "CITY_Sumner\n",
      "[ 0.  1.]\n",
      "CITY_Sun River Terrace\n",
      "[ 0.  1.]\n",
      "CITY_Swansea\n",
      "[ 0.  1.]\n",
      "CITY_Sycamore\n",
      "[ 0.  1.]\n",
      "CITY_Table Grove\n",
      "[ 0.  1.]\n",
      "CITY_Tamaroa\n",
      "[ 0.  1.]\n",
      "CITY_Tamms\n",
      "[ 0.  1.]\n",
      "CITY_Taylor Springs\n",
      "[ 0.  1.]\n",
      "CITY_Taylorville\n",
      "[ 0.  1.]\n",
      "CITY_Teutopolis\n",
      "[ 0.  1.]\n",
      "CITY_Thayer\n",
      "[ 0.  1.]\n",
      "CITY_Thebes\n",
      "[ 0.  1.]\n",
      "CITY_Third Lake\n",
      "[ 0.  1.]\n",
      "CITY_Thomasboro\n",
      "[ 0.  1.]\n",
      "CITY_Thompsonville\n",
      "[ 0.  1.]\n",
      "CITY_Thornton\n",
      "[ 0.  1.]\n",
      "CITY_Tilton\n",
      "[ 0.  1.]\n",
      "CITY_Tinley Park\n",
      "[ 0.  1.]\n",
      "CITY_Tolono\n",
      "[ 0.  1.]\n",
      "CITY_Toluca\n",
      "[ 0.  1.]\n",
      "CITY_Tonica\n",
      "[ 0.  1.]\n",
      "CITY_Toulon\n",
      "[ 0.  1.]\n",
      "CITY_Towanda\n",
      "[ 0.  1.]\n",
      "CITY_Tower Hill\n",
      "[ 0.  1.]\n",
      "CITY_Tower Lakes\n",
      "[ 0.  1.]\n",
      "CITY_Tremont\n",
      "[ 0.  1.]\n",
      "CITY_Trenton\n",
      "[ 0.  1.]\n",
      "CITY_Troy\n",
      "[ 0.  1.]\n",
      "CITY_Tuscola\n",
      "[ 0.  1.]\n",
      "CITY_Unincorporated\n",
      "[ 0.  1.]\n",
      "CITY_University Park\n",
      "[ 0.  1.]\n",
      "CITY_Urbana\n",
      "[ 0.  1.]\n",
      "CITY_Ursa\n",
      "[ 0.  1.]\n",
      "CITY_Utica\n",
      "[ 0.  1.]\n",
      "CITY_Valier\n",
      "[ 0.  1.]\n",
      "CITY_Valmeyer\n",
      "[ 0.  1.]\n",
      "CITY_Vandalia\n",
      "[ 0.  1.]\n",
      "CITY_Venice\n",
      "[ 0.  1.]\n",
      "CITY_Vergennes\n",
      "[ 0.  1.]\n",
      "CITY_Vernon Hills\n",
      "[ 0.  1.]\n",
      "CITY_Versailles\n",
      "[ 0.  1.]\n",
      "CITY_Vienna\n",
      "[ 0.  1.]\n",
      "CITY_Villa Grove\n",
      "[ 0.  1.]\n",
      "CITY_Villa Park\n",
      "[ 0.  1.]\n",
      "CITY_Viola\n",
      "[ 0.  1.]\n",
      "CITY_Virden\n",
      "[ 0.  1.]\n",
      "CITY_Virgil\n",
      "[ 0.  1.]\n",
      "CITY_Virginia\n",
      "[ 0.  1.]\n",
      "CITY_Volo\n",
      "[ 0.  1.]\n",
      "CITY_Wadsworth\n",
      "[ 0.  1.]\n",
      "CITY_Walnut\n",
      "[ 0.  1.]\n",
      "CITY_Wamac\n",
      "[ 0.  1.]\n",
      "CITY_Wapella\n",
      "[ 0.  1.]\n",
      "CITY_Warren\n",
      "[ 0.  1.]\n",
      "CITY_Warrensburg\n",
      "[ 0.  1.]\n",
      "CITY_Warrenville\n",
      "[ 0.  1.]\n",
      "CITY_Washburn\n",
      "[ 0.  1.]\n",
      "CITY_Washington\n",
      "[ 0.  1.]\n",
      "CITY_Washington Park\n",
      "[ 0.  1.]\n",
      "CITY_Wataga\n",
      "[ 0.  1.]\n",
      "CITY_Waterloo\n",
      "[ 0.  1.]\n",
      "CITY_Waterman\n",
      "[ 0.  1.]\n",
      "CITY_Watseka\n",
      "[ 0.  1.]\n",
      "CITY_Watson\n",
      "[ 0.  1.]\n",
      "CITY_Wauconda\n",
      "[ 0.  1.]\n",
      "CITY_Waukegan\n",
      "[ 0.  1.]\n",
      "CITY_Waverly\n",
      "[ 0.  1.]\n",
      "CITY_Wayne\n",
      "[ 0.  1.]\n",
      "CITY_Wayne City\n",
      "[ 0.  1.]\n",
      "CITY_Weldon\n",
      "[ 0.  1.]\n",
      "CITY_Wenona\n",
      "[ 0.  1.]\n",
      "CITY_West Chicago\n",
      "[ 0.  1.]\n",
      "CITY_West City\n",
      "[ 0.  1.]\n",
      "CITY_West Dundee\n",
      "[ 0.  1.]\n",
      "CITY_West Frankfort\n",
      "[ 0.  1.]\n",
      "CITY_West Peoria\n",
      "[ 0.  1.]\n",
      "CITY_Westchester\n",
      "[ 0.  1.]\n",
      "CITY_Western Springs\n",
      "[ 0.  1.]\n",
      "CITY_Westfield\n",
      "[ 0.  1.]\n",
      "CITY_Westmont\n",
      "[ 0.  1.]\n",
      "CITY_Westville\n",
      "[ 0.  1.]\n",
      "CITY_Wheaton\n",
      "[ 0.  1.]\n",
      "CITY_Wheeler\n",
      "[ 0.  1.]\n",
      "CITY_Wheeling\n",
      "[ 0.  1.]\n",
      "CITY_White City\n",
      "[ 0.  1.]\n",
      "CITY_White Hall\n",
      "[ 0.  1.]\n",
      "CITY_Whiteash\n",
      "[ 0.  1.]\n",
      "CITY_Williamsfield\n",
      "[ 0.  1.]\n",
      "CITY_Williamsville\n",
      "[ 0.  1.]\n",
      "CITY_Willisville\n",
      "[ 0.  1.]\n",
      "CITY_Willow Springs\n",
      "[ 0.  1.]\n",
      "CITY_Willowbrook\n",
      "[ 0.  1.]\n",
      "CITY_Wilmette\n",
      "[ 0.  1.]\n",
      "CITY_Wilmington\n",
      "[ 0.  1.]\n",
      "CITY_Wilsonville\n",
      "[ 0.  1.]\n",
      "CITY_Windsor\n",
      "[ 0.  1.]\n",
      "CITY_Winfield\n",
      "[ 0.  1.]\n",
      "CITY_Winnebago\n",
      "[ 0.  1.]\n",
      "CITY_Winthrop Harbor\n",
      "[ 0.  1.]\n",
      "CITY_Witt\n",
      "[ 0.  1.]\n",
      "CITY_Wood Dale\n",
      "[ 0.  1.]\n",
      "CITY_Wood River\n",
      "[ 0.  1.]\n",
      "CITY_Woodhull\n",
      "[ 0.  1.]\n",
      "CITY_Woodridge\n",
      "[ 0.  1.]\n",
      "CITY_Woodstock\n",
      "[ 0.  1.]\n",
      "CITY_Worth\n",
      "[ 0.  1.]\n",
      "CITY_Wyanet\n",
      "[ 0.  1.]\n",
      "CITY_Wyoming\n",
      "[ 0.  1.]\n",
      "CITY_Yates City\n",
      "[ 0.  1.]\n",
      "CITY_Yorkville\n",
      "[ 0.  1.]\n",
      "CITY_Zeigler\n",
      "[ 0.  1.]\n",
      "CITY_Zion\n",
      "[ 0.  1.]\n",
      "DRIVER_1_Alcohol Impaired\n",
      "[ 0.  1.]\n",
      "DRIVER_1_Drug Impaired\n",
      "[ 0.  1.]\n",
      "DRIVER_1_Emotional\n",
      "[ 0.  1.]\n",
      "DRIVER_1_Fatigued\n",
      "[ 0.  1.]\n",
      "DRIVER_1_Had Been Drinking\n",
      "[ 0.  1.]\n",
      "DRIVER_1_Illness\n",
      "[ 0.  1.]\n",
      "DRIVER_1_Medicated\n",
      "[ 0.  1.]\n",
      "DRIVER_1_Normal\n",
      "[ 0.  1.]\n",
      "DRIVER_1_Not Reported\n",
      "[ 0.  1.]\n",
      "DRIVER_1_Other\n",
      "[ 0.  1.]\n",
      "DRIVER_1_Other/Unknown\n",
      "[ 0.  1.]\n",
      "DRIVER_1_Removed By EMS\n",
      "[ 0.  1.]\n",
      "VEH1_DIR_East\n",
      "[ 0.  1.]\n",
      "VEH1_DIR_North\n",
      "[ 0.  1.]\n",
      "VEH1_DIR_Northeast\n",
      "[ 0.  1.]\n",
      "VEH1_DIR_Northwest\n",
      "[ 0.  1.]\n",
      "VEH1_DIR_South\n",
      "[ 0.  1.]\n",
      "VEH1_DIR_Southeast\n",
      "[ 0.  1.]\n",
      "VEH1_DIR_Southwest\n",
      "[ 0.  1.]\n",
      "VEH1_DIR_Unknown\n",
      "[ 0.  1.]\n",
      "VEH1_DIR_West\n",
      "[ 0.  1.]\n",
      "VEH1_MANUV_Avoiding Vehicle/Objects\n",
      "[ 0.  1.]\n",
      "VEH1_MANUV_Backing\n",
      "[ 0.  1.]\n",
      "VEH1_MANUV_Changing Lanes\n",
      "[ 0.  1.]\n",
      "VEH1_MANUV_Diverging\n",
      "[ 0.  1.]\n",
      "VEH1_MANUV_Driving Wrong Way\n",
      "[ 0.  1.]\n",
      "VEH1_MANUV_Enter From Drive/Alley\n",
      "[ 0.  1.]\n",
      "VEH1_MANUV_Entering Traffic Lane Fr\n",
      "[ 0.  1.]\n",
      "VEH1_MANUV_Leaving Traffic Lane to\n",
      "[ 0.  1.]\n",
      "VEH1_MANUV_Merging\n",
      "[ 0.  1.]\n",
      "VEH1_MANUV_Negotiating A Curve\n",
      "[ 0.  1.]\n",
      "VEH1_MANUV_Other\n",
      "[ 0.  1.]\n",
      "VEH1_MANUV_Passing/Overtaking\n",
      "[ 0.  1.]\n",
      "VEH1_MANUV_Skidding/Control Loss\n",
      "[ 0.  1.]\n",
      "VEH1_MANUV_Slow/Stop - Left Turn\n",
      "[ 0.  1.]\n",
      "VEH1_MANUV_Slow/Stop - Load/Unload\n",
      "[ 0.  1.]\n",
      "VEH1_MANUV_Slow/Stop - Right Turn\n",
      "[ 0.  1.]\n",
      "VEH1_MANUV_Slow/Stop In Traffic\n",
      "[ 0.  1.]\n",
      "VEH1_MANUV_Starting In Traffic\n",
      "[ 0.  1.]\n",
      "VEH1_MANUV_Straight Ahead\n",
      "[ 0.  1.]\n",
      "VEH1_MANUV_Turning Left\n",
      "[ 0.  1.]\n",
      "VEH1_MANUV_Turning On Red\n",
      "[ 0.  1.]\n",
      "VEH1_MANUV_Turning Right\n",
      "[ 0.  1.]\n",
      "VEH1_MANUV_U-Turn\n",
      "[ 0.  1.]\n",
      "VEH1_MANUV_Unknown\n",
      "[ 0.  1.]\n",
      "VEH1_EVNT1_Bridge End\n",
      "[ 0.  1.]\n",
      "VEH1_EVNT1_Bridge Rail\n",
      "[ 0.  1.]\n",
      "VEH1_EVNT1_Bridge Support\n",
      "[ 0.  1.]\n",
      "VEH1_EVNT1_Bridge Underside\n",
      "[ 0.  1.]\n",
      "VEH1_EVNT1_Cable Barrier\n",
      "[ 0.  1.]\n",
      "VEH1_EVNT1_Cargo Shift/Loss\n",
      "[ 0.  1.]\n",
      "VEH1_EVNT1_Concrete Median Barrier\n",
      "[ 0.  1.]\n",
      "VEH1_EVNT1_Crash Cushion\n",
      "[ 0.  1.]\n",
      "VEH1_EVNT1_Culvert\n",
      "[ 0.  1.]\n",
      "VEH1_EVNT1_Curb\n",
      "[ 0.  1.]\n",
      "VEH1_EVNT1_Deer\n",
      "[ 0.  1.]\n",
      "VEH1_EVNT1_Ditch/Embankment\n",
      "[ 0.  1.]\n",
      "VEH1_EVNT1_Downhill Runaway\n",
      "[ 0.  1.]\n",
      "VEH1_EVNT1_Falling Load\n",
      "[ 0.  1.]\n",
      "VEH1_EVNT1_Fire/Explosion\n",
      "[ 0.  1.]\n",
      "VEH1_EVNT1_Guardrail End\n",
      "[ 0.  1.]\n",
      "VEH1_EVNT1_Guardrail Face\n",
      "[ 0.  1.]\n",
      "VEH1_EVNT1_Hit Parked Vehicle\n",
      "[ 0.  1.]\n",
      "VEH1_EVNT1_Immersion\n",
      "[ 0.  1.]\n",
      "VEH1_EVNT1_Jackknife\n",
      "[ 0.  1.]\n",
      "VEH1_EVNT1_Light Support\n",
      "[ 0.  1.]\n",
      "VEH1_EVNT1_Mailbox\n",
      "[ 0.  1.]\n",
      "VEH1_EVNT1_Motor Vehicle In Traffic\n",
      "[ 0.  1.]\n",
      "VEH1_EVNT1_Other Animal\n",
      "[ 0.  1.]\n",
      "VEH1_EVNT1_Other Fixed Object\n",
      "[ 0.  1.]\n",
      "VEH1_EVNT1_Other Non-Collision\n",
      "[ 0.  1.]\n",
      "VEH1_EVNT1_Other Object\n",
      "[ 0.  1.]\n",
      "VEH1_EVNT1_Other Pole or Post\n",
      "[ 0.  1.]\n",
      "VEH1_EVNT1_Overturn\n",
      "[ 0.  1.]\n",
      "VEH1_EVNT1_Pedalcyclist\n",
      "[ 0.  1.]\n",
      "VEH1_EVNT1_Pedestrian\n",
      "[ 0.  1.]\n",
      "VEH1_EVNT1_Railroad Signal/Gates\n",
      "[ 0.  1.]\n",
      "VEH1_EVNT1_Railway Train\n",
      "[ 0.  1.]\n",
      "VEH1_EVNT1_Ran Off Roadway\n",
      "[ 0.  1.]\n",
      "VEH1_EVNT1_Separation\n",
      "[ 0.  1.]\n",
      "VEH1_EVNT1_Snowbank\n",
      "[ 0.  1.]\n",
      "VEH1_EVNT1_Thrown/Falling Object\n",
      "[ 0.  1.]\n",
      "VEH1_EVNT1_Traffic Signal\n",
      "[ 0.  1.]\n",
      "VEH1_EVNT1_Unknown\n",
      "[ 0.  1.]\n",
      "INTERSEC_N\n",
      "[ 0.  1.]\n",
      "INTERSEC_Y\n",
      "[ 0.  1.]\n",
      "WorkZone_N\n",
      "[ 0.  1.]\n",
      "WorkZone_Y\n",
      "[ 0.  1.]\n",
      "WorkZoneTy_(N/A)\n",
      "[ 0.  1.]\n",
      "WorkZoneTy_Construction Work Zone\n",
      "[ 0.  1.]\n",
      "WorkZoneTy_Maintenance Work Zone\n",
      "[ 0.  1.]\n",
      "WorkZoneTy_Unk. Work Zone Type\n",
      "[ 0.  1.]\n",
      "WorkZoneTy_Utility Work Zone\n",
      "[ 0.  1.]\n",
      "WorkersPre_N\n",
      "[ 0.  1.]\n",
      "WorkersPre_Y\n",
      "[ 0.  1.]\n",
      "ExceedSpee_N\n",
      "[ 0.  1.]\n",
      "ExceedSpee_Y\n",
      "[ 0.  1.]\n",
      "CellPhoneU_N\n",
      "[ 0.  1.]\n"
     ]
    }
   ],
   "source": [
    "for column in df.columns:\n",
    "    print(column)\n",
    "    print(df[column].unique())"
   ]
  },
  {
   "cell_type": "markdown",
   "metadata": {},
   "source": [
    "<b>As we dropped some rows CHeck the data set</b>"
   ]
  },
  {
   "cell_type": "code",
   "execution_count": 538,
   "metadata": {
    "collapsed": false
   },
   "outputs": [
    {
     "data": {
      "text/plain": [
       "292019"
      ]
     },
     "execution_count": 538,
     "metadata": {},
     "output_type": "execute_result"
    }
   ],
   "source": [
    "len(df)"
   ]
  },
  {
   "cell_type": "markdown",
   "metadata": {},
   "source": [
    "<b>Separate the target class</b>"
   ]
  },
  {
   "cell_type": "code",
   "execution_count": 539,
   "metadata": {
    "collapsed": false
   },
   "outputs": [],
   "source": [
    "y=df.pop('NUM_VEH')"
   ]
  },
  {
   "cell_type": "markdown",
   "metadata": {},
   "source": [
    "<b>As the data set is huge enough aroung 300k records, Plus i am planning to use the bagging and boosting techniques for modelling the data. I will use Train-Validation-Test Split</b>"
   ]
  },
  {
   "cell_type": "code",
   "execution_count": 540,
   "metadata": {
    "collapsed": false
   },
   "outputs": [],
   "source": [
    "X_train, X_test, y_train, y_test = train_test_split(df, y, test_size=.2, random_state=42)\n",
    "X_train, X_validation, y_train, y_validation = train_test_split(X_train, y_train, test_size=.2, random_state=42)"
   ]
  },
  {
   "cell_type": "markdown",
   "metadata": {},
   "source": [
    "<b>Define all the classifiers i will be using for base</b>"
   ]
  },
  {
   "cell_type": "code",
   "execution_count": 541,
   "metadata": {
    "collapsed": false
   },
   "outputs": [],
   "source": [
    "def getAccuracyLR(X_train,y_train,X_test,y_test):\n",
    "    num_instances = len(X_train)\n",
    "    model = LogisticRegression()\n",
    "    numeric_variables = list(X_train.dtypes[X_train.dtypes != \"object\"].index)\n",
    "    model.fit(X_train, y_train)\n",
    "    gbm_prob = model.predict_proba(X_test)[:, 1]\n",
    "    gbm_preds = model.predict(X_test)\n",
    "    accuracy = accuracy_score(y_test, gbm_preds)\n",
    "    auc = roc_auc_score(y_test, gbm_prob)\n",
    "    return accuracy,auc,model.coef_\n",
    "def getAccuracyRFC(X_train,y_train,X_test,y_test,seed = 7,num_trees = 100,max_depth=3,min_samples_split=2,min_samples_leaf=1,subsample=1,max_features=None,max_leaf_nodes=None):\n",
    "    num_instances = len(X_train)\n",
    "    model = RandomForestClassifier(n_estimators=num_trees, random_state=seed,max_depth=max_depth,min_samples_split=min_samples_split,min_samples_leaf=min_samples_leaf,max_features=max_features,max_leaf_nodes=max_leaf_nodes)\n",
    "    numeric_variables = list(X_train.dtypes[X_train.dtypes != \"object\"].index)\n",
    "    model.fit(X_train, y_train)\n",
    "    gbm_prob = model.predict_proba(X_test)[:, 1]\n",
    "    gbm_preds = model.predict(X_test)\n",
    "    accuracy = accuracy_score(y_test, gbm_preds)\n",
    "    auc = roc_auc_score(y_test, gbm_prob)\n",
    "    return accuracy,auc,model.feature_importances_\n",
    "def getAccuracyAda(X_train,y_train,X_test,y_test):\n",
    "    num_instances = len(X_train)\n",
    "    model = AdaBoostClassifier()\n",
    "    numeric_variables = list(X_train.dtypes[X_train.dtypes != \"object\"].index)\n",
    "    model.fit(X_train, y_train)\n",
    "    gbm_prob = model.predict_proba(X_test)[:, 1]\n",
    "    gbm_preds = model.predict(X_test)\n",
    "    accuracy = accuracy_score(y_test, gbm_preds)\n",
    "    auc = roc_auc_score(y_test, gbm_prob)\n",
    "    return accuracy,auc,model.feature_importances_\n",
    "def getAccuracyBagC(X_train,y_train,X_test,y_test):\n",
    "    num_instances = len(X_train)\n",
    "    model = BaggingClassifier()\n",
    "    numeric_variables = list(X_train.dtypes[X_train.dtypes != \"object\"].index)\n",
    "    model.fit(X_train, y_train)\n",
    "    gbm_prob = model.predict_proba(X_test)[:, 1]\n",
    "    gbm_preds = model.predict(X_test)\n",
    "    accuracy = accuracy_score(y_test, gbm_preds)\n",
    "    auc = roc_auc_score(y_test, gbm_prob)\n",
    "    return accuracy,auc,model.estimators_features_\n",
    "def getAccuracyETC(X_train,y_train,X_test,y_test):\n",
    "    num_instances = len(X_train)\n",
    "    model = ExtraTreesClassifier()\n",
    "    numeric_variables = list(X_train.dtypes[X_train.dtypes != \"object\"].index)\n",
    "    model.fit(X_train, y_train)\n",
    "    gbm_prob = model.predict_proba(X_test)[:, 1]\n",
    "    gbm_preds = model.predict(X_test)\n",
    "    accuracy = accuracy_score(y_test, gbm_preds)\n",
    "    auc = roc_auc_score(y_test, gbm_prob)\n",
    "    return accuracy,auc,model.feature_importances_\n",
    "def getAccuracyRTE(X_train,y_train,X_test,y_test):\n",
    "    num_instances = len(X_train)\n",
    "    model = RandomTreesEmbedding()\n",
    "    numeric_variables = list(X_train.dtypes[X_train.dtypes != \"object\"].index)\n",
    "    model.fit(X_train, y_train)\n",
    "    gbm_prob = model.predict_proba(X_test)[:, 1]\n",
    "    gbm_preds = model.predict(X_test)\n",
    "    accuracy = accuracy_score(y_test, gbm_preds)\n",
    "    auc = roc_auc_score(y_test, gbm_prob)\n",
    "    return accuracy,auc,model.feature_importances_\n",
    "def getAccuracyMLP(X_train,y_train,X_test,y_test,seed = 7,num_trees = 100,loss='deviance',learning_rate=0.1,max_depth=3,min_samples_split=2,min_samples_leaf=1,min_weight_fraction_leaf=0,subsample=1,max_features=None,max_leaf_nodes=None):\n",
    "    num_instances = len(X_train)\n",
    "    model = MLPClassifier()\n",
    "    numeric_variables = list(X_train.dtypes[X_train.dtypes != \"object\"].index)\n",
    "    model.fit(X_train, y_train)\n",
    "    gbm_prob = model.predict_proba(X_test)[:, 1]\n",
    "    gbm_preds = model.predict(X_test)\n",
    "    accuracy = accuracy_score(y_test, gbm_preds)\n",
    "    auc = roc_auc_score(y_test, gbm_prob)\n",
    "    return accuracy,auc,model.coefs_\n",
    "def getAccuracyGBC(X_train,y_train,X_test,y_test,seed = 7,num_trees = 100,loss='deviance',learning_rate=0.1,max_depth=3,min_samples_split=2,min_samples_leaf=1,min_weight_fraction_leaf=0,subsample=1,max_features=None,max_leaf_nodes=None):\n",
    "    num_instances = len(X_train)\n",
    "    model = GradientBoostingClassifier(n_estimators=num_trees, random_state=seed,loss=loss,learning_rate=learning_rate,max_depth=max_depth,min_samples_split=min_samples_split,min_samples_leaf=min_samples_leaf,min_weight_fraction_leaf=min_weight_fraction_leaf,subsample=subsample,max_features=max_features,max_leaf_nodes=max_leaf_nodes)\n",
    "    numeric_variables = list(X_train.dtypes[X_train.dtypes != \"object\"].index)\n",
    "    model.fit(X_train, y_train)\n",
    "    gbm_prob = model.predict_proba(X_test)[:, 1]\n",
    "    gbm_preds = model.predict(X_test)\n",
    "    accuracy = accuracy_score(y_test, gbm_preds)\n",
    "    auc = roc_auc_score(y_test, gbm_prob)\n",
    "    return accuracy,auc,model.feature_importances_"
   ]
  },
  {
   "cell_type": "markdown",
   "metadata": {},
   "source": [
    "<b>First i tried Logistic Regression</b>"
   ]
  },
  {
   "cell_type": "code",
   "execution_count": 542,
   "metadata": {
    "collapsed": false
   },
   "outputs": [
    {
     "name": "stdout",
     "output_type": "stream",
     "text": [
      "accuracy : 0.782826\t\tauc : 0.641440\n",
      "coeff\n",
      "[[ -6.28017304e-09  -3.38917499e-08   5.40594015e-08 ...,  -2.65825688e-09\n",
      "   -3.64951289e-10  -3.02320817e-09]]\n"
     ]
    }
   ],
   "source": [
    "accuracy,auc,coef=getAccuracyLR(X_train,y_train,X_validation,y_validation)\n",
    "print(\"accuracy : %f\\t\\tauc : %f\"%(accuracy,auc))\n",
    "print(\"coeff\")\n",
    "print(coef)"
   ]
  },
  {
   "cell_type": "markdown",
   "metadata": {},
   "source": [
    "<b>Now I will be trying Bagging and Boosting Technique. The Purpose is I will first see whcih model works best default and then will fine tune each paramemeter of the best base model</b>"
   ]
  },
  {
   "cell_type": "markdown",
   "metadata": {},
   "source": [
    "<b>Random Forest Classifier</b>"
   ]
  },
  {
   "cell_type": "code",
   "execution_count": 543,
   "metadata": {
    "collapsed": false
   },
   "outputs": [
    {
     "name": "stdout",
     "output_type": "stream",
     "text": [
      "accuracy : 0.847548\t\tauc : 0.764329\n",
      "features importance\n",
      "[  3.88359080e-06   5.05376292e-06   3.14679354e-06 ...,   0.00000000e+00\n",
      "   0.00000000e+00   0.00000000e+00]\n"
     ]
    }
   ],
   "source": [
    "accuracy,auc,features=getAccuracyRFC(X_train,y_train,X_validation,y_validation)\n",
    "print(\"accuracy : %f\\t\\tauc : %f\"%(accuracy,auc))\n",
    "print(\"features importance\")\n",
    "print(features)"
   ]
  },
  {
   "cell_type": "markdown",
   "metadata": {},
   "source": [
    "<b>Ada Classifier</b>"
   ]
  },
  {
   "cell_type": "code",
   "execution_count": 544,
   "metadata": {
    "collapsed": false
   },
   "outputs": [
    {
     "name": "stdout",
     "output_type": "stream",
     "text": [
      "accuracy : 0.874794\t\tauc : 0.880940\n",
      "features\n",
      "[ 0.    0.    0.1  ...,  0.02  0.    0.  ]\n"
     ]
    }
   ],
   "source": [
    "accuracy,auc,features=getAccuracyAda(X_train,y_train,X_validation,y_validation)\n",
    "print(\"accuracy : %f\\t\\tauc : %f\"%(accuracy,auc))\n",
    "print(\"features\")\n",
    "print(features)"
   ]
  },
  {
   "cell_type": "markdown",
   "metadata": {},
   "source": [
    "<b>Bagging Classifier</b>"
   ]
  },
  {
   "cell_type": "code",
   "execution_count": 545,
   "metadata": {
    "collapsed": false
   },
   "outputs": [
    {
     "name": "stdout",
     "output_type": "stream",
     "text": [
      "accuracy : 0.872975\t\tauc : 0.868473\n",
      "features\n",
      "[array([   0,    1,    2, ..., 1316, 1317, 1318]), array([   0,    1,    2, ..., 1316, 1317, 1318]), array([   0,    1,    2, ..., 1316, 1317, 1318]), array([   0,    1,    2, ..., 1316, 1317, 1318]), array([   0,    1,    2, ..., 1316, 1317, 1318]), array([   0,    1,    2, ..., 1316, 1317, 1318]), array([   0,    1,    2, ..., 1316, 1317, 1318]), array([   0,    1,    2, ..., 1316, 1317, 1318]), array([   0,    1,    2, ..., 1316, 1317, 1318]), array([   0,    1,    2, ..., 1316, 1317, 1318])]\n"
     ]
    }
   ],
   "source": [
    "accuracy,auc,features=getAccuracyBagC(X_train,y_train,X_validation,y_validation)\n",
    "print(\"accuracy : %f\\t\\tauc : %f\"%(accuracy,auc))\n",
    "print(\"features\")\n",
    "print(features)"
   ]
  },
  {
   "cell_type": "markdown",
   "metadata": {},
   "source": [
    "<b>Extra Trees Classifier</b>"
   ]
  },
  {
   "cell_type": "code",
   "execution_count": 546,
   "metadata": {
    "collapsed": false
   },
   "outputs": [
    {
     "name": "stdout",
     "output_type": "stream",
     "text": [
      "accuracy : 0.865441\t\tauc : 0.850203\n",
      "features\n",
      "[  5.01008627e-02   8.49901414e-02   1.00500480e-01 ...,   1.10824180e-03\n",
      "   1.56717474e-04   5.22584413e-05]\n"
     ]
    }
   ],
   "source": [
    "accuracy,auc,features=getAccuracyETC(X_train,y_train,X_validation,y_validation)\n",
    "print(\"accuracy : %f\\t\\tauc : %f\"%(accuracy,auc))\n",
    "print(\"features\")\n",
    "print(features)"
   ]
  },
  {
   "cell_type": "markdown",
   "metadata": {},
   "source": [
    "<b>MultiLayer Perceptron</b>"
   ]
  },
  {
   "cell_type": "code",
   "execution_count": 547,
   "metadata": {
    "collapsed": false
   },
   "outputs": [
    {
     "name": "stdout",
     "output_type": "stream",
     "text": [
      "accuracy : 0.218351\t\tauc : 0.598553\n",
      "coefs_\n",
      "[array([[  2.39679138e-02,  -5.21694261e-02,   2.01199064e-02, ...,\n",
      "         -7.00740172e-03,   3.49224054e-02,  -9.54552103e-05],\n",
      "       [  1.85702745e-03,   3.04965964e-03,   2.42713785e-02, ...,\n",
      "         -2.81600545e-02,  -2.54858360e-02,   1.30169211e-01],\n",
      "       [  1.28642156e-01,   8.54139679e-02,   1.06584381e-01, ...,\n",
      "         -9.29209947e-02,   7.84840412e-02,   1.13885736e-01],\n",
      "       ..., \n",
      "       [  3.61316980e-01,   2.71287946e-01,   3.77540615e-01, ...,\n",
      "         -3.12030327e-01,   3.54076759e-01,   4.45190526e-01],\n",
      "       [ -9.51698772e-01,  -9.27748945e-01,  -9.61793567e-01, ...,\n",
      "          9.18694280e-01,  -9.40233852e-01,  -3.61073903e-02],\n",
      "       [  2.67329387e-01,   2.30629069e-01,   2.50048005e-01, ...,\n",
      "         -2.51817261e-01,   3.09317310e-01,   3.59825795e-01]]), array([[  1.53825803e-001],\n",
      "       [  8.35588494e-002],\n",
      "       [  1.44892795e-001],\n",
      "       [  1.15577812e-003],\n",
      "       [ -7.50581903e-002],\n",
      "       [  2.34360415e-148],\n",
      "       [ -5.10343327e-004],\n",
      "       [ -4.12827105e-134],\n",
      "       [ -6.16095057e-002],\n",
      "       [ -1.79564073e-001],\n",
      "       [ -1.25756156e-001],\n",
      "       [ -2.02970195e-001],\n",
      "       [  1.88648414e-002],\n",
      "       [  1.32420620e-002],\n",
      "       [ -1.23333089e-002],\n",
      "       [ -4.51378394e-002],\n",
      "       [ -1.35022096e-001],\n",
      "       [ -7.47727418e-002],\n",
      "       [  3.06996618e-002],\n",
      "       [ -6.23757559e-002],\n",
      "       [  2.09266406e-001],\n",
      "       [ -9.77358274e-002],\n",
      "       [ -9.07541722e-005],\n",
      "       [ -1.26276468e-001],\n",
      "       [  1.26248077e-001],\n",
      "       [  1.26681634e-001],\n",
      "       [ -9.76401930e-002],\n",
      "       [  2.14654819e-143],\n",
      "       [  8.75836923e-004],\n",
      "       [ -6.14520211e-002],\n",
      "       [  5.94860304e-002],\n",
      "       [  1.16950132e-001],\n",
      "       [  2.18056366e-002],\n",
      "       [  3.93274920e-002],\n",
      "       [ -1.22201202e-116],\n",
      "       [  5.31031182e-002],\n",
      "       [ -3.14342296e-013],\n",
      "       [ -9.84439934e-002],\n",
      "       [  3.11972389e-002],\n",
      "       [  1.88380842e-001],\n",
      "       [ -1.70071787e-002],\n",
      "       [  4.28164539e-002],\n",
      "       [  2.37482428e-124],\n",
      "       [  1.07687653e-001],\n",
      "       [  1.56901290e-002],\n",
      "       [ -3.51956099e-107],\n",
      "       [  1.29402887e-002],\n",
      "       [  6.22814525e-002],\n",
      "       [  4.23834161e-002],\n",
      "       [  4.51602442e-003],\n",
      "       [ -2.16909175e-001],\n",
      "       [  6.89628460e-002],\n",
      "       [ -1.21520393e-001],\n",
      "       [ -3.77764696e-004],\n",
      "       [ -5.60960321e-003],\n",
      "       [  1.80572592e-002],\n",
      "       [  1.76873021e-001],\n",
      "       [ -7.47311653e-003],\n",
      "       [  1.31794970e-001],\n",
      "       [  1.95680886e-110],\n",
      "       [  3.82654308e-055],\n",
      "       [ -2.57470999e-002],\n",
      "       [ -3.46675735e-002],\n",
      "       [ -1.01493648e-004],\n",
      "       [  7.56551988e-002],\n",
      "       [  1.24383011e-001],\n",
      "       [  2.03689610e-002],\n",
      "       [ -1.76073518e-001],\n",
      "       [  1.86744540e-002],\n",
      "       [ -2.37317136e-001],\n",
      "       [ -2.21946856e-142],\n",
      "       [ -1.90307510e-023],\n",
      "       [  1.76389122e-001],\n",
      "       [ -2.30664048e-001],\n",
      "       [  3.23142699e-004],\n",
      "       [ -1.62206525e-001],\n",
      "       [  1.16043598e-127],\n",
      "       [ -1.71254017e-001],\n",
      "       [  1.95913856e-001],\n",
      "       [ -2.67269423e-002],\n",
      "       [ -1.89085335e-001],\n",
      "       [  7.43585514e-002],\n",
      "       [ -2.24286352e-004],\n",
      "       [  1.49751713e-139],\n",
      "       [  9.79879048e-002],\n",
      "       [  1.95565793e-002],\n",
      "       [ -2.95256247e-002],\n",
      "       [ -2.61185835e-002],\n",
      "       [ -1.60614819e-001],\n",
      "       [ -1.90345332e-001],\n",
      "       [ -2.89586627e-002],\n",
      "       [ -4.00308321e-002],\n",
      "       [ -7.50416231e-118],\n",
      "       [ -4.22556220e-002],\n",
      "       [ -1.08989752e-001],\n",
      "       [  2.96054155e-013],\n",
      "       [ -5.03880124e-002],\n",
      "       [ -5.89704673e-002],\n",
      "       [  9.12965097e-002],\n",
      "       [  6.42059776e-002]])]\n"
     ]
    }
   ],
   "source": [
    "accuracy,auc,coefs=getAccuracyMLP(X_train,y_train,X_validation,y_validation)\n",
    "print(\"accuracy : %f\\t\\tauc : %f\"%(accuracy,auc))\n",
    "print(\"coefs_\")\n",
    "print(coefs)"
   ]
  },
  {
   "cell_type": "markdown",
   "metadata": {},
   "source": [
    "<b>Gradient Boosting Classifier</b>"
   ]
  },
  {
   "cell_type": "code",
   "execution_count": 548,
   "metadata": {
    "collapsed": false
   },
   "outputs": [
    {
     "name": "stdout",
     "output_type": "stream",
     "text": [
      "accuracy : 0.877341\t\tauc : 0.884480\n",
      "features\n",
      "[  1.06967903e-02   7.81330885e-05   1.12217449e-01 ...,   5.13147546e-03\n",
      "   0.00000000e+00   7.68795756e-02]\n"
     ]
    }
   ],
   "source": [
    "accuracy,auc,features=getAccuracyGBC(X_train,y_train,X_validation,y_validation)\n",
    "print(\"accuracy : %f\\t\\tauc : %f\"%(accuracy,auc))\n",
    "print(\"features\")\n",
    "print(features)"
   ]
  },
  {
   "cell_type": "markdown",
   "metadata": {},
   "source": [
    "<b>As Gradient Boosting Classifier I will be further analysing that</b>"
   ]
  },
  {
   "cell_type": "markdown",
   "metadata": {},
   "source": [
    "<b>Based on Important Features, I will remove other features and re-modelling</b>"
   ]
  },
  {
   "cell_type": "code",
   "execution_count": 549,
   "metadata": {
    "collapsed": false
   },
   "outputs": [
    {
     "name": "stdout",
     "output_type": "stream",
     "text": [
      "{'XCOORD': 0.16751322166160545, 'COUNTY': 0.051161578686211809, 'VEH1_EVNT1_Pedestrian': 0.024322746608556288, 'CellPhoneU_N': 0.076879575601414119, 'VEH1_EVNT1_Motor Vehicle In Traffic': 0.091594839147895971, 'HOUR': 0.11221744852882852, 'VEH1_EVNT1_Pedalcyclist': 0.02441126183767087, 'YCOORD': 0.13001793443552465, 'VEH1_EVNT1_Hit Parked Vehicle': 0.023889911401333123, 'VEH1_EVNT1_Deer': 0.026350450971261652, 'VEH1_EVNT1_Ran Off Roadway': 0.051010908459343314}\n"
     ]
    }
   ],
   "source": [
    "usefulColumns={}\n",
    "for i in range(len(df.columns)):\n",
    "    if features[i] > .02:\n",
    "        usefulColumns[df.columns[i]]=features[i]\n",
    "print(usefulColumns)"
   ]
  },
  {
   "cell_type": "code",
   "execution_count": 550,
   "metadata": {
    "collapsed": false
   },
   "outputs": [],
   "source": [
    "for column in df.columns:\n",
    "    if column not in usefulColumns:\n",
    "        df.drop([column],axis=1,inplace=True)"
   ]
  },
  {
   "cell_type": "code",
   "execution_count": 551,
   "metadata": {
    "collapsed": true
   },
   "outputs": [],
   "source": [
    "X_train, X_test, y_train, y_test = train_test_split(df, y, test_size=.2, random_state=42)\n",
    "X_train, X_validation, y_train, y_validation = train_test_split(X_train, y_train, test_size=.2, random_state=42)"
   ]
  },
  {
   "cell_type": "code",
   "execution_count": 552,
   "metadata": {
    "collapsed": false
   },
   "outputs": [],
   "source": [
    "base_accuracy,base_auc,features=getAccuracyGBC(X_train,y_train,X_validation,y_validation)"
   ]
  },
  {
   "cell_type": "code",
   "execution_count": 553,
   "metadata": {
    "collapsed": false
   },
   "outputs": [
    {
     "name": "stdout",
     "output_type": "stream",
     "text": [
      "auc\n",
      "0.885481930967\n",
      "accuracy\n",
      "0.878946129315\n"
     ]
    }
   ],
   "source": [
    "print(\"auc\")\n",
    "print(base_auc)\n",
    "print(\"accuracy\")\n",
    "print(base_accuracy)"
   ]
  },
  {
   "cell_type": "markdown",
   "metadata": {},
   "source": [
    "<b>This is the baseline accuracy i acheived.</b>"
   ]
  },
  {
   "cell_type": "markdown",
   "metadata": {},
   "source": [
    "<b>Visualise the important Features</b>"
   ]
  },
  {
   "cell_type": "code",
   "execution_count": 554,
   "metadata": {
    "collapsed": false
   },
   "outputs": [
    {
     "name": "stderr",
     "output_type": "stream",
     "text": [
      "C:\\Users\\Aditi Lele\\Anaconda3\\lib\\site-packages\\ipykernel\\__main__.py:4: FutureWarning: sort is deprecated, use sort_values(inplace=True) for INPLACE sorting\n"
     ]
    },
    {
     "data": {
      "image/png": "[encoded data removed]",
      "text/plain": [
       "<matplotlib.figure.Figure at 0x1870a81b978>"
      ]
     },
     "metadata": {},
     "output_type": "display_data"
    }
   ],
   "source": [
    "%matplotlib inline\n",
    "# Simple version that shows all of the variables\n",
    "feature_importances = pd.Series(features, index=df.columns)\n",
    "feature_importances.sort(inplace=True)\n",
    "feature_importances.plot(kind=\"barh\", figsize=(7,6));"
   ]
  },
  {
   "cell_type": "markdown",
   "metadata": {},
   "source": [
    "### I will now fine tune my Model for the below Parameters in Gradient Boosting Classifier "
   ]
  },
  {
   "cell_type": "markdown",
   "metadata": {},
   "source": [
    "<table>\n",
    "<tr><td>Number of Trees</td><td>[30, 50, 100, 200, 500,1000,2000]</td></tr>\n",
    "<tr><td>Loss</td><td>[30, 50, 100, 200, 500,1000,2000]</td></tr>\n",
    "<tr><td>Learning Rate</td><td>[.1,.2,.3,.4,.5,.6,.7,.8,.9]</td></tr>\n",
    "<tr><td>Max Depth</td><td>[1,2,3,4,5,6,7,8,9]</td></tr>\n",
    "<tr><td>Min Samples Split</td><td>[2,4,8,10]</td></tr>\n",
    "<tr><td>Min Samples Leafs</td><td>[1,2,5,6,7,8,9,10]</td></tr>\n",
    "<tr><td>Sub Samples</td><td>[.2,.5,.8,1]</td></tr>\n",
    "<tr><td>Max Features</td><td>[\"auto\", None, \"sqrt\", \"log2\", 0.9, 0.2]</td></tr>\n",
    "</table>"
   ]
  },
  {
   "cell_type": "code",
   "execution_count": 555,
   "metadata": {
    "collapsed": true
   },
   "outputs": [],
   "source": [
    "trees = [30, 50, 100, 200, 500,1000,2000]\n",
    "losses=['deviance','exponential']\n",
    "learning_rates=[.1,.2,.3,.4,.5,.6,.7,.8,.9]\n",
    "max_depts=[1,2,3,4,5,6,7,8,9]\n",
    "min_samples_splits=[2,4,8,10]\n",
    "min_samples_leafs=[1,2,5,6,7,8,9,10]\n",
    "subsamples=[.2,.5,.8,1]\n",
    "max_features=[\"auto\", None, \"sqrt\", \"log2\", 0.9, 0.2]"
   ]
  },
  {
   "cell_type": "code",
   "execution_count": 556,
   "metadata": {
    "collapsed": false
   },
   "outputs": [
    {
     "name": "stdout",
     "output_type": "stream",
     "text": [
      "30\n",
      "C-stat:\n",
      "0.879099633798\n",
      "accuracy\n",
      "0.867581276887\n",
      "\n",
      "50\n",
      "C-stat:\n",
      "0.881153841279\n",
      "accuracy\n",
      "0.872439697793\n",
      "\n",
      "100\n",
      "C-stat:\n",
      "0.885481930967\n",
      "accuracy\n",
      "0.878946129315\n",
      "\n",
      "200\n",
      "C-stat:\n",
      "0.888493518251\n",
      "accuracy\n",
      "0.882113734135\n",
      "\n",
      "500\n",
      "C-stat:\n",
      "0.892223619133\n",
      "accuracy\n",
      "0.884660659632\n",
      "\n",
      "1000\n",
      "C-stat:\n",
      "0.893607172948\n",
      "accuracy\n",
      "0.885580977249\n",
      "\n",
      "2000\n",
      "C-stat:\n",
      "0.894601749407\n",
      "accuracy\n",
      "0.886330072983\n",
      "\n"
     ]
    },
    {
     "data": {
      "image/png": "[encoded data removed]",
      "text/plain": [
       "<matplotlib.figure.Figure at 0x1870d8086d8>"
      ]
     },
     "metadata": {},
     "output_type": "display_data"
    }
   ],
   "source": [
    "resultsauc = []\n",
    "resultsacc = []\n",
    "for tree in trees:\n",
    "    accuracy,logit_roc_auc,features=getAccuracyGBC(X_train,y_train,X_validation,y_validation,num_trees = tree)\n",
    "    print(tree)\n",
    "    roc = logit_roc_auc\n",
    "    print (\"C-stat:\")\n",
    "    print(roc)\n",
    "    resultsauc.append(roc)\n",
    "    print(\"accuracy\")\n",
    "    print(accuracy)\n",
    "    resultsacc.append(accuracy)\n",
    "    print(\"\")\n",
    "    \n",
    "pd.Series(resultsauc, trees).plot();\n",
    "pd.Series(resultsacc, trees).plot();"
   ]
  },
  {
   "cell_type": "markdown",
   "metadata": {},
   "source": [
    "<b>Will select 500 as change after that is little and Smaller number of trees means Simpler Model</b>"
   ]
  },
  {
   "cell_type": "code",
   "execution_count": 557,
   "metadata": {
    "collapsed": true
   },
   "outputs": [],
   "source": [
    "trees_max=500"
   ]
  },
  {
   "cell_type": "code",
   "execution_count": 558,
   "metadata": {
    "collapsed": false
   },
   "outputs": [
    {
     "name": "stdout",
     "output_type": "stream",
     "text": [
      "trees\n",
      "500\n",
      "deviance\n",
      "C-stat:\n",
      "0.892223619133\n",
      "accuracy\n",
      "0.884660659632\n",
      "\n",
      "exponential\n",
      "C-stat:\n",
      "0.892009614221\n",
      "accuracy\n",
      "0.883825952957\n",
      "\n"
     ]
    },
    {
     "data": {
      "image/png": "[encoded data removed]",
      "text/plain": [
       "<matplotlib.figure.Figure at 0x1870d6e8da0>"
      ]
     },
     "metadata": {},
     "output_type": "display_data"
    }
   ],
   "source": [
    "resultsauc = []\n",
    "resultsacc = []\n",
    "print(\"trees\")\n",
    "print(trees_max)\n",
    "for loss in losses:\n",
    "    accuracy,logit_roc_auc,features=getAccuracyGBC(X_train,y_train,X_validation,y_validation,loss = loss,num_trees = trees_max)\n",
    "    print(loss)\n",
    "    roc = logit_roc_auc\n",
    "    print (\"C-stat:\")\n",
    "    print(roc)\n",
    "    resultsauc.append(roc)\n",
    "    print(\"accuracy\")\n",
    "    print(accuracy)\n",
    "    resultsacc.append(accuracy)\n",
    "    print(\"\")\n",
    "    \n",
    "pd.Series(resultsauc, losses).plot();\n",
    "pd.Series(resultsacc, losses).plot();"
   ]
  },
  {
   "cell_type": "markdown",
   "metadata": {},
   "source": [
    "<b>The default value deviance looks best</b>"
   ]
  },
  {
   "cell_type": "code",
   "execution_count": 559,
   "metadata": {
    "collapsed": false
   },
   "outputs": [
    {
     "name": "stdout",
     "output_type": "stream",
     "text": [
      "loss\n",
      "deviance\n"
     ]
    }
   ],
   "source": [
    "losses_max=\"deviance\"\n",
    "print(\"loss\")\n",
    "print(losses_max)"
   ]
  },
  {
   "cell_type": "code",
   "execution_count": 560,
   "metadata": {
    "collapsed": false
   },
   "outputs": [
    {
     "name": "stdout",
     "output_type": "stream",
     "text": [
      "0.1\n",
      "C-stat:\n",
      "0.892223619133\n",
      "accuracy\n",
      "0.884660659632\n",
      "\n",
      "0.2\n",
      "C-stat:\n",
      "0.893475291084\n",
      "accuracy\n",
      "0.885837810072\n",
      "\n",
      "0.3\n",
      "C-stat:\n",
      "0.894909824905\n",
      "accuracy\n",
      "0.88643708666\n",
      "\n",
      "0.4\n",
      "C-stat:\n",
      "0.892949027761\n",
      "accuracy\n",
      "0.886693919483\n",
      "\n",
      "0.5\n",
      "C-stat:\n",
      "0.892301400916\n",
      "accuracy\n",
      "0.88448943775\n",
      "\n",
      "0.6\n",
      "C-stat:\n",
      "0.892535142145\n",
      "accuracy\n",
      "0.884168396721\n",
      "\n",
      "0.7\n",
      "C-stat:\n",
      "0.890468110822\n",
      "accuracy\n",
      "0.883890161163\n",
      "\n",
      "0.8\n",
      "C-stat:\n",
      "0.889021656302\n",
      "accuracy\n",
      "0.883183870899\n",
      "\n",
      "0.9\n",
      "C-stat:\n",
      "0.887674224229\n",
      "accuracy\n",
      "0.882605997046\n",
      "\n"
     ]
    },
    {
     "data": {
      "image/png": "[encoded data removed]",
      "text/plain": [
       "<matplotlib.figure.Figure at 0x1871a84eb70>"
      ]
     },
     "metadata": {},
     "output_type": "display_data"
    }
   ],
   "source": [
    "resultsauc = []\n",
    "resultsacc = []\n",
    "\n",
    "for learning_rate in learning_rates:\n",
    "    accuracy,logit_roc_auc,features=getAccuracyGBC(X_train,y_train,X_validation,y_validation,learning_rate = learning_rate,num_trees = trees_max,loss = losses_max)\n",
    "    print(learning_rate)\n",
    "    roc = logit_roc_auc\n",
    "    print (\"C-stat:\")\n",
    "    print(roc)\n",
    "    resultsauc.append(roc)\n",
    "    print(\"accuracy\")\n",
    "    print(accuracy)\n",
    "    resultsacc.append(accuracy)\n",
    "    print(\"\")\n",
    "    \n",
    "pd.Series(resultsauc, learning_rates).plot();\n",
    "pd.Series(resultsacc, learning_rates).plot();\n"
   ]
  },
  {
   "cell_type": "markdown",
   "metadata": {},
   "source": [
    "<b>The learning Rate of .3 gives Peak AUC with almost best Accuracy</b>"
   ]
  },
  {
   "cell_type": "code",
   "execution_count": 561,
   "metadata": {
    "collapsed": false
   },
   "outputs": [
    {
     "name": "stdout",
     "output_type": "stream",
     "text": [
      "learning_rate\n",
      "0.3\n"
     ]
    }
   ],
   "source": [
    "learning_rate_max=.3\n",
    "print(\"learning_rate\")\n",
    "print(learning_rate_max)"
   ]
  },
  {
   "cell_type": "code",
   "execution_count": 562,
   "metadata": {
    "collapsed": false
   },
   "outputs": [
    {
     "name": "stdout",
     "output_type": "stream",
     "text": [
      "1\n",
      "C-stat:\n",
      "0.884117782004\n",
      "accuracy\n",
      "0.876185176466\n",
      "\n",
      "2\n",
      "C-stat:\n",
      "0.890967324104\n",
      "accuracy\n",
      "0.88290563534\n",
      "\n",
      "3\n",
      "C-stat:\n",
      "0.894909824905\n",
      "accuracy\n",
      "0.88643708666\n",
      "\n",
      "4\n",
      "C-stat:\n",
      "0.894510138648\n",
      "accuracy\n",
      "0.886522697601\n",
      "\n",
      "5\n",
      "C-stat:\n",
      "0.893564961357\n",
      "accuracy\n",
      "0.884553645956\n",
      "\n",
      "6\n",
      "C-stat:\n",
      "0.892765800875\n",
      "accuracy\n",
      "0.883162468163\n",
      "\n",
      "7\n",
      "C-stat:\n",
      "0.892862050816\n",
      "accuracy\n",
      "0.88132183293\n",
      "\n",
      "8\n",
      "C-stat:\n",
      "0.890022128026\n",
      "accuracy\n",
      "0.878539477345\n",
      "\n",
      "9\n",
      "C-stat:\n",
      "0.889971001745\n",
      "accuracy\n",
      "0.874708387732\n",
      "\n"
     ]
    },
    {
     "data": {
      "image/png": "[encoded data removed]",
      "text/plain": [
       "<matplotlib.figure.Figure at 0x187055ceda0>"
      ]
     },
     "metadata": {},
     "output_type": "display_data"
    }
   ],
   "source": [
    "resultsauc = []\n",
    "resultsacc = []\n",
    "\n",
    "for max_depth in max_depts:\n",
    "    accuracy,logit_roc_auc,features=getAccuracyGBC(X_train,y_train,X_validation,y_validation,max_depth = max_depth,num_trees = trees_max,loss = losses_max,learning_rate = learning_rate_max)\n",
    "    print(max_depth)\n",
    "    roc = logit_roc_auc\n",
    "    print (\"C-stat:\")\n",
    "    print(roc)\n",
    "    resultsauc.append(roc)\n",
    "    print(\"accuracy\")\n",
    "    print(accuracy)\n",
    "    resultsacc.append(accuracy)\n",
    "    print(\"\")\n",
    "    \n",
    "pd.Series(resultsauc, max_depts).plot();\n",
    "pd.Series(resultsacc, max_depts).plot();"
   ]
  },
  {
   "cell_type": "markdown",
   "metadata": {},
   "source": [
    "<b>Both Accuracy and AUC reach maximum at Depth=3</b>"
   ]
  },
  {
   "cell_type": "code",
   "execution_count": 563,
   "metadata": {
    "collapsed": true
   },
   "outputs": [],
   "source": [
    "max_depts_max=3"
   ]
  },
  {
   "cell_type": "code",
   "execution_count": 564,
   "metadata": {
    "collapsed": false
   },
   "outputs": [
    {
     "name": "stdout",
     "output_type": "stream",
     "text": [
      "2\n",
      "C-stat:\n",
      "0.894909824905\n",
      "accuracy\n",
      "0.88643708666\n",
      "\n",
      "4\n",
      "C-stat:\n",
      "0.893663110182\n",
      "accuracy\n",
      "0.885923421013\n",
      "\n",
      "8\n",
      "C-stat:\n",
      "0.893927501951\n",
      "accuracy\n",
      "0.885859212807\n",
      "\n",
      "10\n",
      "C-stat:\n",
      "0.893803403499\n",
      "accuracy\n",
      "0.885602379984\n",
      "\n"
     ]
    },
    {
     "data": {
      "image/png": "[encoded data removed]",
      "text/plain": [
       "<matplotlib.figure.Figure at 0x187054b0940>"
      ]
     },
     "metadata": {},
     "output_type": "display_data"
    }
   ],
   "source": [
    "resultsauc = []\n",
    "resultsacc = []\n",
    "\n",
    "for min_samples_split in min_samples_splits:\n",
    "    accuracy,logit_roc_auc,features=getAccuracyGBC(X_train,y_train,X_validation,y_validation,min_samples_split = min_samples_split,max_depth = max_depts_max,num_trees = trees_max,loss = losses_max,learning_rate = learning_rate_max)\n",
    "    print(min_samples_split)\n",
    "    roc = logit_roc_auc\n",
    "    print (\"C-stat:\")\n",
    "    print(roc)\n",
    "    resultsauc.append(roc)\n",
    "    print(\"accuracy\")\n",
    "    print(accuracy)\n",
    "    resultsacc.append(accuracy)\n",
    "    print(\"\")\n",
    "    \n",
    "pd.Series(resultsauc, min_samples_splits).plot();\n",
    "pd.Series(resultsacc, min_samples_splits).plot();"
   ]
  },
  {
   "cell_type": "markdown",
   "metadata": {},
   "source": [
    "<b>Both Accuracy and AUC reach maximum at Min Sample Split=2</b>"
   ]
  },
  {
   "cell_type": "code",
   "execution_count": 565,
   "metadata": {
    "collapsed": true
   },
   "outputs": [],
   "source": [
    "min_samples_split_max=2"
   ]
  },
  {
   "cell_type": "code",
   "execution_count": 566,
   "metadata": {
    "collapsed": false
   },
   "outputs": [
    {
     "name": "stdout",
     "output_type": "stream",
     "text": [
      "1\n",
      "C-stat:\n",
      "0.894909824905\n",
      "accuracy\n",
      "0.88643708666\n",
      "\n",
      "2\n",
      "C-stat:\n",
      "0.894437743523\n",
      "accuracy\n",
      "0.886223059307\n",
      "\n",
      "5\n",
      "C-stat:\n",
      "0.894277275066\n",
      "accuracy\n",
      "0.886158851101\n",
      "\n",
      "6\n",
      "C-stat:\n",
      "0.894156578501\n",
      "accuracy\n",
      "0.887057765982\n",
      "\n",
      "7\n",
      "C-stat:\n",
      "0.894483214753\n",
      "accuracy\n",
      "0.886758127689\n",
      "\n",
      "8\n",
      "C-stat:\n",
      "0.894222287944\n",
      "accuracy\n",
      "0.887121974188\n",
      "\n",
      "9\n",
      "C-stat:\n",
      "0.893797914852\n",
      "accuracy\n",
      "0.886501294865\n",
      "\n",
      "10\n",
      "C-stat:\n",
      "0.894557551705\n",
      "accuracy\n",
      "0.887400209747\n",
      "\n"
     ]
    },
    {
     "data": {
      "image/png": "[encoded data removed]",
      "text/plain": [
       "<matplotlib.figure.Figure at 0x187043fc978>"
      ]
     },
     "metadata": {},
     "output_type": "display_data"
    }
   ],
   "source": [
    "resultsauc = []\n",
    "resultsacc = []\n",
    "\n",
    "for min_samples_leaf in min_samples_leafs:\n",
    "    accuracy,logit_roc_auc,features=getAccuracyGBC(X_train,y_train,X_validation,y_validation,min_samples_leaf = min_samples_leaf,min_samples_split = min_samples_split_max,max_depth = max_depts_max,num_trees = trees_max,loss = losses_max,learning_rate = learning_rate_max)\n",
    "    print(min_samples_leaf)\n",
    "    roc = logit_roc_auc\n",
    "    print (\"C-stat:\")\n",
    "    print(roc)\n",
    "    resultsauc.append(roc)\n",
    "    print(\"accuracy\")\n",
    "    print(accuracy)\n",
    "    resultsacc.append(accuracy)\n",
    "    print(\"\")\n",
    "    \n",
    "pd.Series(resultsauc, min_samples_leafs).plot();\n",
    "pd.Series(resultsacc, min_samples_leafs).plot();"
   ]
  },
  {
   "cell_type": "markdown",
   "metadata": {},
   "source": [
    "<b>Both Accuracy and AUC reach maximum at Min Sample Leafs=10</b>"
   ]
  },
  {
   "cell_type": "code",
   "execution_count": 567,
   "metadata": {
    "collapsed": true
   },
   "outputs": [],
   "source": [
    "min_samples_leafs_max=10"
   ]
  },
  {
   "cell_type": "code",
   "execution_count": 568,
   "metadata": {
    "collapsed": false
   },
   "outputs": [
    {
     "name": "stdout",
     "output_type": "stream",
     "text": [
      "0.2\n",
      "C-stat:\n",
      "0.890000447197\n",
      "accuracy\n",
      "0.883397898251\n",
      "\n",
      "0.5\n",
      "C-stat:\n",
      "0.891915338314\n",
      "accuracy\n",
      "0.885880615543\n",
      "\n",
      "0.8\n",
      "C-stat:\n",
      "0.894067852973\n",
      "accuracy\n",
      "0.886693919483\n",
      "\n",
      "1\n",
      "C-stat:\n",
      "0.894557551705\n",
      "accuracy\n",
      "0.887400209747\n",
      "\n"
     ]
    },
    {
     "data": {
      "image/png": "[encoded data removed]",
      "text/plain": [
       "<matplotlib.figure.Figure at 0x18705b8c6a0>"
      ]
     },
     "metadata": {},
     "output_type": "display_data"
    }
   ],
   "source": [
    "resultsauc = []\n",
    "resultsacc = []\n",
    "\n",
    "for subsample in subsamples:\n",
    "    accuracy,logit_roc_auc,features=getAccuracyGBC(X_train,y_train,X_validation,y_validation,subsample = subsample,min_samples_leaf = min_samples_leafs_max,max_depth = max_depts_max,num_trees = trees_max,loss = losses_max,learning_rate = learning_rate_max)\n",
    "    print(subsample)\n",
    "    roc = logit_roc_auc\n",
    "    print (\"C-stat:\")\n",
    "    print(roc)\n",
    "    resultsauc.append(roc)\n",
    "    print(\"accuracy\")\n",
    "    print(accuracy)\n",
    "    resultsacc.append(accuracy)\n",
    "    print(\"\")\n",
    "    \n",
    "pd.Series(resultsauc, subsamples).plot();\n",
    "pd.Series(resultsacc, subsamples).plot();\n"
   ]
  },
  {
   "cell_type": "markdown",
   "metadata": {},
   "source": [
    "<b>Both Accuracy and AUC reach maximum at Sub Sample=1</b>"
   ]
  },
  {
   "cell_type": "code",
   "execution_count": 569,
   "metadata": {
    "collapsed": true
   },
   "outputs": [],
   "source": [
    "subsample_max=1"
   ]
  },
  {
   "cell_type": "code",
   "execution_count": 570,
   "metadata": {
    "collapsed": false
   },
   "outputs": [
    {
     "name": "stdout",
     "output_type": "stream",
     "text": [
      "auto\n",
      "C-stat:\n",
      "0.894557551705\n",
      "accuracy\n",
      "0.887400209747\n",
      "\n",
      "None\n",
      "C-stat:\n",
      "0.894557551705\n",
      "accuracy\n",
      "0.887400209747\n",
      "\n",
      "sqrt\n",
      "C-stat:\n",
      "0.892493737078\n",
      "accuracy\n",
      "0.885409755367\n",
      "\n",
      "log2\n",
      "C-stat:\n",
      "0.892493737078\n",
      "accuracy\n",
      "0.885409755367\n",
      "\n",
      "0.9\n",
      "C-stat:\n",
      "0.894177723885\n",
      "accuracy\n",
      "0.886608308542\n",
      "\n",
      "0.2\n",
      "C-stat:\n",
      "0.891464446601\n",
      "accuracy\n",
      "0.88444663228\n",
      "\n"
     ]
    },
    {
     "data": {
      "image/png": "[encoded data removed]",
      "text/plain": [
       "<matplotlib.figure.Figure at 0x1871950a8d0>"
      ]
     },
     "metadata": {},
     "output_type": "display_data"
    }
   ],
   "source": [
    "resultsauc = []\n",
    "resultsacc = []\n",
    "\n",
    "for max_feature in max_features:\n",
    "    accuracy,logit_roc_auc,features=getAccuracyGBC (X_train,y_train,X_validation,y_validation,max_features = max_feature,subsample = subsample_max,min_samples_leaf = min_samples_leafs_max,max_depth = max_depts_max,num_trees = trees_max,loss = losses_max,learning_rate = learning_rate_max)\n",
    "    print(max_feature)\n",
    "    roc = logit_roc_auc\n",
    "    print (\"C-stat:\")\n",
    "    print(roc)\n",
    "    resultsauc.append(roc)\n",
    "    print(\"accuracy\")\n",
    "    print(accuracy)\n",
    "    resultsacc.append(accuracy)\n",
    "    print(\"\")\n",
    "    \n",
    "pd.Series(resultsauc, max_features).plot();\n",
    "pd.Series(resultsacc, max_features).plot();"
   ]
  },
  {
   "cell_type": "markdown",
   "metadata": {},
   "source": [
    "<b>Both Accuracy and AUC reach maximum at Max Features=auto and None choosing auto as both have same behaviour</b>"
   ]
  },
  {
   "cell_type": "code",
   "execution_count": 571,
   "metadata": {
    "collapsed": true
   },
   "outputs": [],
   "source": [
    "max_feature_max=\"auto\""
   ]
  },
  {
   "cell_type": "markdown",
   "metadata": {},
   "source": [
    "### Using Optimised parameter to train the model"
   ]
  },
  {
   "cell_type": "code",
   "execution_count": 572,
   "metadata": {
    "collapsed": true
   },
   "outputs": [],
   "source": [
    "best_gbc = GradientBoostingClassifier(n_estimators=trees_max,\n",
    "                                   random_state=1,\n",
    "                                   loss=losses_max,\n",
    "                                   learning_rate=learning_rate_max,\n",
    "                                   max_depth=max_depts_max,\n",
    "                                   min_samples_split=min_samples_split,\n",
    "                                   min_samples_leaf=min_samples_leafs_max,\n",
    "                                   subsample=subsample_max,\n",
    "                                   max_features=max_feature_max)"
   ]
  },
  {
   "cell_type": "code",
   "execution_count": 573,
   "metadata": {
    "collapsed": false
   },
   "outputs": [
    {
     "data": {
      "text/plain": [
       "GradientBoostingClassifier(criterion='friedman_mse', init=None,\n",
       "              learning_rate=0.3, loss='deviance', max_depth=3,\n",
       "              max_features='auto', max_leaf_nodes=None,\n",
       "              min_impurity_split=1e-07, min_samples_leaf=10,\n",
       "              min_samples_split=10, min_weight_fraction_leaf=0.0,\n",
       "              n_estimators=500, presort='auto', random_state=1,\n",
       "              subsample=1, verbose=0, warm_start=False)"
      ]
     },
     "execution_count": 573,
     "metadata": {},
     "output_type": "execute_result"
    }
   ],
   "source": [
    "best_gbc.fit(X_train,y_train)"
   ]
  },
  {
   "cell_type": "markdown",
   "metadata": {},
   "source": [
    "<b>Test it on the test data</b>"
   ]
  },
  {
   "cell_type": "code",
   "execution_count": 574,
   "metadata": {
    "collapsed": true
   },
   "outputs": [],
   "source": [
    "gbm_preds = best_gbc.predict(X_test)"
   ]
  },
  {
   "cell_type": "code",
   "execution_count": 575,
   "metadata": {
    "collapsed": false
   },
   "outputs": [
    {
     "data": {
      "text/plain": [
       "array([1, 0], dtype=int64)"
      ]
     },
     "execution_count": 575,
     "metadata": {},
     "output_type": "execute_result"
    }
   ],
   "source": [
    "y_test.unique()"
   ]
  },
  {
   "cell_type": "code",
   "execution_count": 576,
   "metadata": {
    "collapsed": false
   },
   "outputs": [
    {
     "name": "stdout",
     "output_type": "stream",
     "text": [
      "0.883912060818\n"
     ]
    }
   ],
   "source": [
    "accuracy = accuracy_score(y_test, gbm_preds)\n",
    "print(accuracy)"
   ]
  },
  {
   "cell_type": "code",
   "execution_count": 577,
   "metadata": {
    "collapsed": false
   },
   "outputs": [
    {
     "name": "stdout",
     "output_type": "stream",
     "text": [
      "0.894103307888\n"
     ]
    }
   ],
   "source": [
    "roc = roc_auc_score(y_test, best_gbc.predict_proba(X_test)[:,1])\n",
    "print(roc)"
   ]
  },
  {
   "cell_type": "code",
   "execution_count": 578,
   "metadata": {
    "collapsed": true
   },
   "outputs": [],
   "source": [
    "y_hat = gbm_preds"
   ]
  },
  {
   "cell_type": "markdown",
   "metadata": {},
   "source": [
    "## Conclusions"
   ]
  },
  {
   "cell_type": "markdown",
   "metadata": {},
   "source": [
    "<b>Accuracy and AUC of validation and test data is similar hence model should perform good on new data</b>"
   ]
  },
  {
   "cell_type": "markdown",
   "metadata": {},
   "source": [
    "<b>Some metrics</b>"
   ]
  },
  {
   "cell_type": "code",
   "execution_count": 579,
   "metadata": {
    "collapsed": false
   },
   "outputs": [
    {
     "name": "stdout",
     "output_type": "stream",
     "text": [
      "0.8839120608177522\n"
     ]
    }
   ],
   "source": [
    "correct = 0\n",
    "total = y_test.shape[0]\n",
    "for pred_val, truth_val in zip(y_hat, y_test):\n",
    "    if pred_val == truth_val:\n",
    "        correct +=1\n",
    "val=correct / float(total)\n",
    "print(val)"
   ]
  },
  {
   "cell_type": "markdown",
   "metadata": {},
   "source": [
    "<b>Classification Report</b>"
   ]
  },
  {
   "cell_type": "code",
   "execution_count": 580,
   "metadata": {
    "collapsed": false
   },
   "outputs": [
    {
     "name": "stdout",
     "output_type": "stream",
     "text": [
      "             precision    recall  f1-score   support\n",
      "\n",
      "          0       0.84      0.58      0.69     12940\n",
      "          1       0.89      0.97      0.93     45464\n",
      "\n",
      "avg / total       0.88      0.88      0.88     58404\n",
      "\n"
     ]
    }
   ],
   "source": [
    "print(classification_report(y_test, gbm_preds))"
   ]
  },
  {
   "cell_type": "markdown",
   "metadata": {},
   "source": [
    "<b>Confusion Matrix</b>"
   ]
  },
  {
   "cell_type": "code",
   "execution_count": 581,
   "metadata": {
    "collapsed": false
   },
   "outputs": [
    {
     "name": "stdout",
     "output_type": "stream",
     "text": [
      "[[ 7564  5376]\n",
      " [ 1404 44060]]\n"
     ]
    }
   ],
   "source": [
    "print(confusion_matrix(y_test, gbm_preds))"
   ]
  }
 ],
 "metadata": {
  "anaconda-cloud": {},
  "kernelspec": {
   "display_name": "Python [conda root]",
   "language": "python",
   "name": "conda-root-py"
  },
  "language_info": {
   "codemirror_mode": {
    "name": "ipython",
    "version": 3
   },
   "file_extension": ".py",
   "mimetype": "text/x-python",
   "name": "python",
   "nbconvert_exporter": "python",
   "pygments_lexer": "ipython3",
   "version": "3.5.2"
  }
 },
 "nbformat": 4,
 "nbformat_minor": 1
}
