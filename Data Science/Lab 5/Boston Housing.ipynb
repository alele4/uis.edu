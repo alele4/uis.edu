{
 "cells": [
  {
   "cell_type": "code",
   "execution_count": 63,
   "metadata": {
    "collapsed": false
   },
   "outputs": [],
   "source": [
    "from sklearn import datasets\n",
    "from sklearn.preprocessing import StandardScaler\n",
    "from sklearn.cross_validation import train_test_split\n",
    "from sklearn.metrics import mean_squared_error\n",
    "from sklearn.metrics import r2_score\n",
    "from sklearn.linear_model import LinearRegression\n",
    "import numpy as np\n",
    "from sklearn.datasets import load_boston\n",
    "from sklearn.linear_model import Ridge"
   ]
  },
  {
   "cell_type": "code",
   "execution_count": 64,
   "metadata": {
    "collapsed": false,
    "scrolled": true
   },
   "outputs": [
    {
     "name": "stdout",
     "output_type": "stream",
     "text": [
      "Boston House Prices dataset\n",
      "\n",
      "Notes\n",
      "------\n",
      "Data Set Characteristics:  \n",
      "\n",
      "    :Number of Instances: 506 \n",
      "\n",
      "    :Number of Attributes: 13 numeric/categorical predictive\n",
      "    \n",
      "    :Median Value (attribute 14) is usually the target\n",
      "\n",
      "    :Attribute Information (in order):\n",
      "        - CRIM     per capita crime rate by town\n",
      "        - ZN       proportion of residential land zoned for lots over 25,000 sq.ft.\n",
      "        - INDUS    proportion of non-retail business acres per town\n",
      "        - CHAS     Charles River dummy variable (= 1 if tract bounds river; 0 otherwise)\n",
      "        - NOX      nitric oxides concentration (parts per 10 million)\n",
      "        - RM       average number of rooms per dwelling\n",
      "        - AGE      proportion of owner-occupied units built prior to 1940\n",
      "        - DIS      weighted distances to five Boston employment centres\n",
      "        - RAD      index of accessibility to radial highways\n",
      "        - TAX      full-value property-tax rate per $10,000\n",
      "        - PTRATIO  pupil-teacher ratio by town\n",
      "        - B        1000(Bk - 0.63)^2 where Bk is the proportion of blacks by town\n",
      "        - LSTAT    % lower status of the population\n",
      "        - MEDV     Median value of owner-occupied homes in $1000's\n",
      "\n",
      "    :Missing Attribute Values: None\n",
      "\n",
      "    :Creator: Harrison, D. and Rubinfeld, D.L.\n",
      "\n",
      "This is a copy of UCI ML housing dataset.\n",
      "http://archive.ics.uci.edu/ml/datasets/Housing\n",
      "\n",
      "\n",
      "This dataset was taken from the StatLib library which is maintained at Carnegie Mellon University.\n",
      "\n",
      "The Boston house-price data of Harrison, D. and Rubinfeld, D.L. 'Hedonic\n",
      "prices and the demand for clean air', J. Environ. Economics & Management,\n",
      "vol.5, 81-102, 1978.   Used in Belsley, Kuh & Welsch, 'Regression diagnostics\n",
      "...', Wiley, 1980.   N.B. Various transformations are used in the table on\n",
      "pages 244-261 of the latter.\n",
      "\n",
      "The Boston house-price data has been used in many machine learning papers that address regression\n",
      "problems.   \n",
      "     \n",
      "**References**\n",
      "\n",
      "   - Belsley, Kuh & Welsch, 'Regression diagnostics: Identifying Influential Data and Sources of Collinearity', Wiley, 1980. 244-261.\n",
      "   - Quinlan,R. (1993). Combining Instance-Based and Model-Based Learning. In Proceedings on the Tenth International Conference of Machine Learning, 236-243, University of Massachusetts, Amherst. Morgan Kaufmann.\n",
      "   - many more! (see http://archive.ics.uci.edu/ml/datasets/Housing)\n",
      "\n"
     ]
    }
   ],
   "source": [
    "bean = datasets.load_boston()\n",
    "print bean.DESCR"
   ]
  },
  {
   "cell_type": "code",
   "execution_count": 65,
   "metadata": {
    "collapsed": false
   },
   "outputs": [],
   "source": [
    "def load_boston():\n",
    "    scaler = StandardScaler()\n",
    "    boston = datasets.load_boston()\n",
    "    X=boston.data\n",
    "    y=boston.target\n",
    "    X = scaler.fit_transform(X)\n",
    "    return train_test_split(X,y)"
   ]
  },
  {
   "cell_type": "code",
   "execution_count": 66,
   "metadata": {
    "collapsed": false
   },
   "outputs": [],
   "source": [
    "X_train, X_test, y_train, y_test = load_boston()"
   ]
  },
  {
   "cell_type": "code",
   "execution_count": 67,
   "metadata": {
    "collapsed": false
   },
   "outputs": [
    {
     "data": {
      "text/plain": [
       "(379L, 13L)"
      ]
     },
     "execution_count": 67,
     "metadata": {},
     "output_type": "execute_result"
    }
   ],
   "source": [
    "X_train.shape"
   ]
  },
  {
   "cell_type": "code",
   "execution_count": 68,
   "metadata": {
    "collapsed": false
   },
   "outputs": [
    {
     "data": {
      "text/plain": [
       "LinearRegression(copy_X=True, fit_intercept=True, n_jobs=1, normalize=False)"
      ]
     },
     "execution_count": 68,
     "metadata": {},
     "output_type": "execute_result"
    }
   ],
   "source": [
    "clf = LinearRegression()\n",
    "clf.fit(X_train, y_train)"
   ]
  },
  {
   "cell_type": "code",
   "execution_count": 69,
   "metadata": {
    "collapsed": false,
    "scrolled": true
   },
   "outputs": [
    {
     "name": "stdout",
     "output_type": "stream",
     "text": [
      "[(30.100000000000001, 29.60666421486361), (37.0, 30.793809034294757), (21.100000000000001, 22.258885023577616), (19.399999999999999, 16.54080079464336), (36.0, 36.591653207976321), (27.5, 32.421461778391333), (46.0, 40.862498352537919), (21.199999999999999, 21.248204122233783), (48.799999999999997, 42.063939280572626), (14.6, 7.9196866623137918), (21.699999999999999, 24.006090252308276), (16.800000000000001, 20.43386198311989), (15.6, 14.775667769981823), (25.0, 22.655667060024438), (17.5, 15.851793291917666), (8.6999999999999993, 8.5900111513618267), (29.600000000000001, 25.276521130748225), (19.899999999999999, 19.077111234115073), (13.800000000000001, 0.062837537379717645), (21.899999999999999, 39.706708870314202), (7.2000000000000002, 9.7636757210143514), (31.199999999999999, 28.85212151487876), (7.4000000000000004, 5.5326452073570067), (21.199999999999999, 21.329594986904432), (50.0, 35.033093652390683), (30.300000000000001, 32.62251116864865), (14.199999999999999, 17.960139903205903), (20.0, 18.556381027492289), (22.899999999999999, 24.871242893062139), (11.800000000000001, 8.1050050716890478), (16.5, 10.858225977960593), (13.1, 20.776489212791986), (21.699999999999999, 21.0629187653958), (14.0, 14.604118056095469), (11.699999999999999, 13.564981011824377), (27.100000000000001, 27.182135454544529), (22.100000000000001, 26.766843015494235), (24.5, 21.120076350961384), (18.399999999999999, 18.935079205769043), (12.5, 19.839123299856642), (12.6, 18.354054363562724), (23.100000000000001, 25.333441547707437), (27.899999999999999, 32.545128947819812), (36.200000000000003, 27.566707067882177), (19.5, 19.94671415892055), (20.0, 16.487194996760916), (18.800000000000001, 21.010758208512826), (39.799999999999997, 35.764735117396881), (18.5, 24.921241484450469), (22.699999999999999, 24.082604435608634), (23.300000000000001, 26.466571799833496), (15.4, 18.602622393326985), (31.0, 34.759561539730697), (21.399999999999999, 22.987501840919862), (17.699999999999999, 20.449525107751441), (13.800000000000001, 5.9663150077556288), (8.5, 16.258649863892977), (32.5, 30.695474345856045), (15.0, 18.648617080979648), (50.0, 37.168607162438597), (12.699999999999999, 17.883578246244056), (8.4000000000000004, 5.0183795841535783), (17.100000000000001, 20.173574372086176), (19.100000000000001, 16.930939571691475), (20.5, 23.323937119204366), (17.300000000000001, 17.124169436639178), (20.100000000000001, 16.104826524535817), (19.300000000000001, 20.318682100793925), (13.1, 16.616513534562891), (23.0, 23.504712255515784), (28.699999999999999, 31.213706220490863), (37.200000000000003, 33.325451614287608), (18.5, 12.683234666957055), (27.5, 11.581211806870822), (17.5, 18.084913787590157), (24.100000000000001, 25.797670820311836), (7.0, 8.1262659003285087), (20.600000000000001, 16.336577361342862), (17.399999999999999, 16.309559088180116), (20.800000000000001, 17.91162428670642), (32.399999999999999, 36.599202615885119), (31.100000000000001, 32.404408760735087), (20.399999999999999, 19.366986897619576), (28.399999999999999, 31.129992008259432), (21.199999999999999, 23.194447457762138), (19.600000000000001, 17.259230473035913), (24.699999999999999, 24.515287637955872), (22.699999999999999, 22.226720914731526), (21.0, 22.834790189683421), (7.2000000000000002, 18.33838817977427), (23.100000000000001, 8.095013042475399), (16.0, 17.950007937724358), (37.600000000000001, 38.518648346310989), (24.100000000000001, 20.086828049545506), (24.300000000000001, 19.664915614409981), (14.5, 13.728888936438123), (14.9, 15.206039212581636), (13.300000000000001, 14.381706914924148), (26.600000000000001, 27.855095168727203), (24.600000000000001, 28.583388935670541), (18.899999999999999, 20.686766395812533), (24.399999999999999, 28.786249459927859), (28.399999999999999, 28.56219767942089), (21.600000000000001, 25.318946944134755), (17.399999999999999, 16.828442134877751), (24.0, 29.561170729899434), (20.399999999999999, 22.652790967496724), (7.2000000000000002, 8.0968775581452839), (21.0, 21.323755794624475), (17.199999999999999, 16.99181653968574), (26.399999999999999, 28.956387060433052), (29.600000000000001, 24.597953233246006), (20.0, 22.010945809099645), (34.700000000000003, 30.950032092534968), (10.4, 6.257200518276413), (20.600000000000001, 27.189778111155874), (21.100000000000001, 20.516228712911595), (23.199999999999999, 26.679152172266761), (5.0, 8.3822165768855577), (36.399999999999999, 33.050293882737122), (13.5, 12.060604772065249), (28.199999999999999, 33.143511425998376), (19.399999999999999, 24.973407780952908), (29.899999999999999, 31.44462445388757), (15.0, 13.952121409528377), (10.199999999999999, 6.0129244958647909), (23.899999999999999, 25.637605088579456)]\n"
     ]
    }
   ],
   "source": [
    "z = zip (y_test, clf.predict(X_test))\n",
    "print z"
   ]
  },
  {
   "cell_type": "code",
   "execution_count": 70,
   "metadata": {
    "collapsed": false,
    "scrolled": true
   },
   "outputs": [],
   "source": [
    "def calculateR2(estimation,X_test,y_test):\n",
    "    predictions = estimation.predict(X_test)\n",
    "    return r2_score(y_test, predictions)\n",
    "def calculateMSE(estimation,X_test,y_test):\n",
    "    secret_mses = []\n",
    "    predictions = estimation.predict(X_test)\n",
    "    secret_mses.append(mean_squared_error(y_test, predictions))\n",
    "    return secret_mses"
   ]
  },
  {
   "cell_type": "code",
   "execution_count": 71,
   "metadata": {
    "collapsed": false
   },
   "outputs": [
    {
     "name": "stdout",
     "output_type": "stream",
     "text": [
      "0.699467950441\n",
      "[23.183962401696821]\n"
     ]
    }
   ],
   "source": [
    "print calculateR2(clf,X_test,y_test)\n",
    "print calculateMSE(clf,X_test,y_test)"
   ]
  },
  {
   "cell_type": "code",
   "execution_count": 72,
   "metadata": {
    "collapsed": false
   },
   "outputs": [
    {
     "data": {
      "text/plain": [
       "Ridge(alpha=0.3, copy_X=True, fit_intercept=True, max_iter=None,\n",
       "   normalize=False, random_state=None, solver='auto', tol=0.001)"
      ]
     },
     "execution_count": 72,
     "metadata": {},
     "output_type": "execute_result"
    }
   ],
   "source": [
    "ridge = Ridge(alpha = .3)\n",
    "ridge.fit(X_train, y_train)"
   ]
  },
  {
   "cell_type": "code",
   "execution_count": 73,
   "metadata": {
    "collapsed": false
   },
   "outputs": [
    {
     "name": "stdout",
     "output_type": "stream",
     "text": [
      "0.699600702969\n",
      "[23.173721465250775]\n"
     ]
    }
   ],
   "source": [
    "print calculateR2(ridge,X_test,y_test)\n",
    "print calculateMSE(ridge,X_test,y_test)"
   ]
  },
  {
   "cell_type": "code",
   "execution_count": null,
   "metadata": {
    "collapsed": true
   },
   "outputs": [],
   "source": []
  }
 ],
 "metadata": {
  "kernelspec": {
   "display_name": "Python [Root]",
   "language": "python",
   "name": "Python [Root]"
  },
  "language_info": {
   "codemirror_mode": {
    "name": "ipython",
    "version": 2
   },
   "file_extension": ".py",
   "mimetype": "text/x-python",
   "name": "python",
   "nbconvert_exporter": "python",
   "pygments_lexer": "ipython2",
   "version": "2.7.12"
  }
 },
 "nbformat": 4,
 "nbformat_minor": 0
}
